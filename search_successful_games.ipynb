{
 "cells": [
  {
   "cell_type": "markdown",
   "metadata": {
    "toc": true
   },
   "source": [
    "<h1>Содержание<span class=\"tocSkip\"></span></h1>\n",
    "<div class=\"toc\"><ul class=\"toc-item\"><li><span><a href=\"#Описание-проекта\" data-toc-modified-id=\"Описание-проекта-1\"><span class=\"toc-item-num\">1&nbsp;&nbsp;</span>Описание проекта</a></span></li><li><span><a href=\"#Изучение-данных-из-файла\" data-toc-modified-id=\"Изучение-данных-из-файла-2\"><span class=\"toc-item-num\">2&nbsp;&nbsp;</span>Изучение данных из файла</a></span></li><li><span><a href=\"#Предобработка-данных\" data-toc-modified-id=\"Предобработка-данных-3\"><span class=\"toc-item-num\">3&nbsp;&nbsp;</span>Предобработка данных</a></span></li><li><span><a href=\"#Исследовательский-анализ-данных\" data-toc-modified-id=\"Исследовательский-анализ-данных-4\"><span class=\"toc-item-num\">4&nbsp;&nbsp;</span>Исследовательский анализ данных</a></span></li><li><span><a href=\"#Предпочтения-пользователей-разных-регионов-(NA,-EU,-JP)\" data-toc-modified-id=\"Предпочтения-пользователей-разных-регионов-(NA,-EU,-JP)-5\"><span class=\"toc-item-num\">5&nbsp;&nbsp;</span>Предпочтения пользователей разных регионов (NA, EU, JP)</a></span></li><li><span><a href=\"#Проверка-статистических-гипотез\" data-toc-modified-id=\"Проверка-статистических-гипотез-6\"><span class=\"toc-item-num\">6&nbsp;&nbsp;</span>Проверка статистических гипотез</a></span></li><li><span><a href=\"#Выводы\" data-toc-modified-id=\"Выводы-7\"><span class=\"toc-item-num\">7&nbsp;&nbsp;</span>Выводы</a></span></li></ul></div>"
   ]
  },
  {
   "cell_type": "markdown",
   "metadata": {},
   "source": [
    "#  Выявление закономерностей, определяющих успешность игры "
   ]
  },
  {
   "cell_type": "markdown",
   "metadata": {},
   "source": [
    "## Описание проекта\n",
    "\n",
    "Вы работаете в интернет-магазине «Стримчик», который продаёт по всему миру компьютерные игры. Из открытых источников доступны исторические данные о продажах игр, оценки пользователей и экспертов, жанры и платформы (например, Xbox или PlayStation). Вам нужно выявить определяющие успешность игры закономерности. Это позволит сделать ставку на потенциально популярный продукт и спланировать рекламные кампании.\n",
    "Перед вами данные до 2016 года. Представим, что сейчас декабрь 2016 г., и вы планируете кампанию на 2017-й. Нужно отработать принцип работы с данными. Неважно, прогнозируете ли вы продажи на 2017 год по данным 2016-го или же 2027-й — по данным 2026 года.\n",
    "В наборе данных попадается аббревиатура ESRB (Entertainment Software Rating Board) — это ассоциация, определяющая возрастной рейтинг компьютерных игр. ESRB оценивает игровой контент и присваивает ему подходящую возрастную категорию, например, «Для взрослых», «Для детей младшего возраста» или «Для подростков»."
   ]
  },
  {
   "cell_type": "markdown",
   "metadata": {},
   "source": [
    "## Изучение данных из файла"
   ]
  },
  {
   "cell_type": "code",
   "execution_count": 1,
   "metadata": {},
   "outputs": [
    {
     "data": {
      "text/html": [
       "<div>\n",
       "<style scoped>\n",
       "    .dataframe tbody tr th:only-of-type {\n",
       "        vertical-align: middle;\n",
       "    }\n",
       "\n",
       "    .dataframe tbody tr th {\n",
       "        vertical-align: top;\n",
       "    }\n",
       "\n",
       "    .dataframe thead th {\n",
       "        text-align: right;\n",
       "    }\n",
       "</style>\n",
       "<table border=\"1\" class=\"dataframe\">\n",
       "  <thead>\n",
       "    <tr style=\"text-align: right;\">\n",
       "      <th></th>\n",
       "      <th>Name</th>\n",
       "      <th>Platform</th>\n",
       "      <th>Year_of_Release</th>\n",
       "      <th>Genre</th>\n",
       "      <th>NA_sales</th>\n",
       "      <th>EU_sales</th>\n",
       "      <th>JP_sales</th>\n",
       "      <th>Other_sales</th>\n",
       "      <th>Critic_Score</th>\n",
       "      <th>User_Score</th>\n",
       "      <th>Rating</th>\n",
       "    </tr>\n",
       "  </thead>\n",
       "  <tbody>\n",
       "    <tr>\n",
       "      <td>0</td>\n",
       "      <td>Wii Sports</td>\n",
       "      <td>Wii</td>\n",
       "      <td>2006.0</td>\n",
       "      <td>Sports</td>\n",
       "      <td>41.36</td>\n",
       "      <td>28.96</td>\n",
       "      <td>3.77</td>\n",
       "      <td>8.45</td>\n",
       "      <td>76.0</td>\n",
       "      <td>8</td>\n",
       "      <td>E</td>\n",
       "    </tr>\n",
       "    <tr>\n",
       "      <td>1</td>\n",
       "      <td>Super Mario Bros.</td>\n",
       "      <td>NES</td>\n",
       "      <td>1985.0</td>\n",
       "      <td>Platform</td>\n",
       "      <td>29.08</td>\n",
       "      <td>3.58</td>\n",
       "      <td>6.81</td>\n",
       "      <td>0.77</td>\n",
       "      <td>NaN</td>\n",
       "      <td>NaN</td>\n",
       "      <td>NaN</td>\n",
       "    </tr>\n",
       "    <tr>\n",
       "      <td>2</td>\n",
       "      <td>Mario Kart Wii</td>\n",
       "      <td>Wii</td>\n",
       "      <td>2008.0</td>\n",
       "      <td>Racing</td>\n",
       "      <td>15.68</td>\n",
       "      <td>12.76</td>\n",
       "      <td>3.79</td>\n",
       "      <td>3.29</td>\n",
       "      <td>82.0</td>\n",
       "      <td>8.3</td>\n",
       "      <td>E</td>\n",
       "    </tr>\n",
       "    <tr>\n",
       "      <td>3</td>\n",
       "      <td>Wii Sports Resort</td>\n",
       "      <td>Wii</td>\n",
       "      <td>2009.0</td>\n",
       "      <td>Sports</td>\n",
       "      <td>15.61</td>\n",
       "      <td>10.93</td>\n",
       "      <td>3.28</td>\n",
       "      <td>2.95</td>\n",
       "      <td>80.0</td>\n",
       "      <td>8</td>\n",
       "      <td>E</td>\n",
       "    </tr>\n",
       "    <tr>\n",
       "      <td>4</td>\n",
       "      <td>Pokemon Red/Pokemon Blue</td>\n",
       "      <td>GB</td>\n",
       "      <td>1996.0</td>\n",
       "      <td>Role-Playing</td>\n",
       "      <td>11.27</td>\n",
       "      <td>8.89</td>\n",
       "      <td>10.22</td>\n",
       "      <td>1.00</td>\n",
       "      <td>NaN</td>\n",
       "      <td>NaN</td>\n",
       "      <td>NaN</td>\n",
       "    </tr>\n",
       "  </tbody>\n",
       "</table>\n",
       "</div>"
      ],
      "text/plain": [
       "                       Name Platform  Year_of_Release         Genre  NA_sales  \\\n",
       "0                Wii Sports      Wii           2006.0        Sports     41.36   \n",
       "1         Super Mario Bros.      NES           1985.0      Platform     29.08   \n",
       "2            Mario Kart Wii      Wii           2008.0        Racing     15.68   \n",
       "3         Wii Sports Resort      Wii           2009.0        Sports     15.61   \n",
       "4  Pokemon Red/Pokemon Blue       GB           1996.0  Role-Playing     11.27   \n",
       "\n",
       "   EU_sales  JP_sales  Other_sales  Critic_Score User_Score Rating  \n",
       "0     28.96      3.77         8.45          76.0          8      E  \n",
       "1      3.58      6.81         0.77           NaN        NaN    NaN  \n",
       "2     12.76      3.79         3.29          82.0        8.3      E  \n",
       "3     10.93      3.28         2.95          80.0          8      E  \n",
       "4      8.89     10.22         1.00           NaN        NaN    NaN  "
      ]
     },
     "metadata": {},
     "output_type": "display_data"
    },
    {
     "name": "stdout",
     "output_type": "stream",
     "text": [
      "<class 'pandas.core.frame.DataFrame'>\n",
      "RangeIndex: 16715 entries, 0 to 16714\n",
      "Data columns (total 11 columns):\n",
      "Name               16713 non-null object\n",
      "Platform           16715 non-null object\n",
      "Year_of_Release    16446 non-null float64\n",
      "Genre              16713 non-null object\n",
      "NA_sales           16715 non-null float64\n",
      "EU_sales           16715 non-null float64\n",
      "JP_sales           16715 non-null float64\n",
      "Other_sales        16715 non-null float64\n",
      "Critic_Score       8137 non-null float64\n",
      "User_Score         10014 non-null object\n",
      "Rating             9949 non-null object\n",
      "dtypes: float64(6), object(5)\n",
      "memory usage: 1.4+ MB\n"
     ]
    }
   ],
   "source": [
    "import pandas as pd\n",
    "pd.options.display.max_columns = None # отображать все столбцы без разбиения датафрейма на части\n",
    "import numpy as np\n",
    "from scipy import stats as st\n",
    "import matplotlib.pyplot as plt\n",
    "import seaborn as sns\n",
    "\n",
    "df = pd.read_csv('/datasets/games.csv', sep=',', decimal='.')\n",
    "\n",
    "display(df.head())\n",
    "df.info()"
   ]
  },
  {
   "cell_type": "code",
   "execution_count": 2,
   "metadata": {},
   "outputs": [
    {
     "data": {
      "text/plain": [
       "array(['E', nan, 'M', 'T', 'E10+', 'K-A', 'AO', 'EC', 'RP'], dtype=object)"
      ]
     },
     "execution_count": 2,
     "metadata": {},
     "output_type": "execute_result"
    }
   ],
   "source": [
    "df['Rating'].unique()"
   ]
  },
  {
   "cell_type": "markdown",
   "metadata": {},
   "source": [
    "Выводы.\n",
    "\n",
    "- Названия столбцов необходимо привести к нижнему регистру.\n",
    "- В столбце 'Name' есть два пропуска, что весьма странно: игра не может быть без имени.\n",
    "- Тип данных в столбце 'Year_of_Release' лучше сменить на 'integer', поскольку дробная часть значений нулевая.\n",
    "- Столбец 'User_Score' имеет тип 'object'. Скорее всего, это связано с наличием в ряде ячеек аббревиатуры 'tbd'  - 'to be determined'  - \"будет определено\". Поскольку на данный момент оценка пользователей неопределена, аббревиатуру 'tbd' можно заменить пропуском типа NaN, что позволит сменить тип столца на 'float64' для удобства дальнейших расчётов.\n",
    "- Значения в столбце 'Rating' — рейтинг от организации ESRB — необходимо расшифровать."
   ]
  },
  {
   "cell_type": "markdown",
   "metadata": {},
   "source": [
    "## Предобработка данных"
   ]
  },
  {
   "cell_type": "code",
   "execution_count": 3,
   "metadata": {},
   "outputs": [],
   "source": [
    "# Названия столбцов необходимо привести к нижнему регистру.\n",
    "df.columns = df.columns.str.lower()"
   ]
  },
  {
   "cell_type": "code",
   "execution_count": 4,
   "metadata": {},
   "outputs": [],
   "source": [
    "# Преобразование значений столбца в числовой тип 'Int64'.\n",
    "df['year_of_release'] = df['year_of_release'].astype('Int64')"
   ]
  },
  {
   "cell_type": "code",
   "execution_count": 5,
   "metadata": {},
   "outputs": [],
   "source": [
    "# Замена 'tbd' на пропуски\n",
    "df['user_score'] = df['user_score'].replace('tbd', np.nan)\n",
    "\n",
    "# Преобразование значений столбца в числовой тип 'float64'.\n",
    "df['user_score'] = df['user_score'].astype('float64')"
   ]
  },
  {
   "cell_type": "code",
   "execution_count": 6,
   "metadata": {},
   "outputs": [
    {
     "data": {
      "text/plain": [
       "array(['E', nan, 'M', 'T', 'E10+', 'K-A', 'AO', 'EC', 'RP'], dtype=object)"
      ]
     },
     "execution_count": 6,
     "metadata": {},
     "output_type": "execute_result"
    }
   ],
   "source": [
    "df['rating'].unique()"
   ]
  },
  {
   "cell_type": "markdown",
   "metadata": {},
   "source": [
    "Столбец 'rating' содержит следующие значения.\n",
    "- NaN - пропущенное значение.\n",
    "- 'RP' - «Рейтинг ожидается» - продукт был отправлен в ESRB и ожидает присвоения рейтинга.\n",
    "- 'EC' - «Для детей младшего возраста» - игра подходит для детей от 3 лет.\n",
    "- 'K-A' - 'Для детей'. В 1998 году рейтинг был переименован в 'Е' - «Для всех» - игра подходит для возрастной категории от 6 лет.\n",
    "- 'E10+' - «Для всех от 10 лет и старше».\n",
    "- 'T' - «Подросткам» - игра подходит для лиц от 13 лет.\n",
    "- 'M' - «Для взрослых» - материалы игры не подходят для подростков младше 17 лет.\n",
    "- 'AO' - «Только для взрослых» - содержание игры только для взрослых старше 18 лет.\n",
    " \n",
    "Поскольку рейтинг 'K-A' после 1998 г. был переименован в 'E', произведём соответствующую замену в столбце 'rating'. Это неявные дубликаты.\n",
    "\n",
    "Произведём замену NaN на 'RP', поскольку возрастная группа в обоих случаях не определена."
   ]
  },
  {
   "cell_type": "code",
   "execution_count": 7,
   "metadata": {},
   "outputs": [],
   "source": [
    "df['rating'] = df['rating'].replace('K-A', 'E')\n",
    "df['rating'] = df['rating'].fillna('RP')\n",
    "\n",
    "\n",
    "# df['rating'] = df['rating'].replace('EC', 'E')\n",
    "# df['rating'] = df['rating'].replace('AO', 'M')"
   ]
  },
  {
   "cell_type": "code",
   "execution_count": 8,
   "metadata": {},
   "outputs": [
    {
     "data": {
      "text/plain": [
       "RP      6769\n",
       "E       3993\n",
       "T       2961\n",
       "M       1563\n",
       "E10+    1420\n",
       "EC         8\n",
       "AO         1\n",
       "Name: rating, dtype: int64"
      ]
     },
     "execution_count": 8,
     "metadata": {},
     "output_type": "execute_result"
    }
   ],
   "source": [
    "df['rating'].value_counts()"
   ]
  },
  {
   "cell_type": "markdown",
   "metadata": {},
   "source": [
    "Проверим наличие неявных дубликатов в столбцах 'platform' и 'genre', а также явных дубликатов-строк в таблице."
   ]
  },
  {
   "cell_type": "code",
   "execution_count": 9,
   "metadata": {},
   "outputs": [
    {
     "data": {
      "text/plain": [
       "array(['Wii', 'NES', 'GB', 'DS', 'X360', 'PS3', 'PS2', 'SNES', 'GBA',\n",
       "       'PS4', '3DS', 'N64', 'PS', 'XB', 'PC', '2600', 'PSP', 'XOne',\n",
       "       'WiiU', 'GC', 'GEN', 'DC', 'PSV', 'SAT', 'SCD', 'WS', 'NG', 'TG16',\n",
       "       '3DO', 'GG', 'PCFX'], dtype=object)"
      ]
     },
     "metadata": {},
     "output_type": "display_data"
    },
    {
     "data": {
      "text/plain": [
       "array(['Sports', 'Platform', 'Racing', 'Role-Playing', 'Puzzle', 'Misc',\n",
       "       'Shooter', 'Simulation', 'Action', 'Fighting', 'Adventure',\n",
       "       'Strategy', nan], dtype=object)"
      ]
     },
     "metadata": {},
     "output_type": "display_data"
    },
    {
     "name": "stdout",
     "output_type": "stream",
     "text": [
      "Количество явных дубликатов: 0\n"
     ]
    }
   ],
   "source": [
    "# Проверим наличие неявных дубликатов в столбцах 'platform' и 'genre'\n",
    "display(df['platform'].unique())\n",
    "display(df['genre'].unique())\n",
    "\n",
    "# Подсчёт явных дубликатов-строк\n",
    "print('Количество явных дубликатов:', df.duplicated().sum())"
   ]
  },
  {
   "cell_type": "markdown",
   "metadata": {},
   "source": [
    "Дубликаты отсутствуют.\n",
    "\n",
    "Посчитаем суммарные продажи во всех регионах и запишем их в отдельный столбец."
   ]
  },
  {
   "cell_type": "code",
   "execution_count": 10,
   "metadata": {},
   "outputs": [],
   "source": [
    "df['sum_sales'] = df['na_sales'] + df['eu_sales'] + df['jp_sales'] + df['other_sales']"
   ]
  },
  {
   "cell_type": "markdown",
   "metadata": {},
   "source": [
    "## Исследовательский анализ данных"
   ]
  },
  {
   "cell_type": "markdown",
   "metadata": {},
   "source": [
    "Посмотрим, сколько игр выпускалось в разные годы."
   ]
  },
  {
   "cell_type": "code",
   "execution_count": 11,
   "metadata": {},
   "outputs": [
    {
     "data": {
      "image/png": "[encoded data removed]",
      "text/plain": [
       "<Figure size 864x360 with 1 Axes>"
      ]
     },
     "metadata": {
      "needs_background": "light"
     },
     "output_type": "display_data"
    }
   ],
   "source": [
    "(\n",
    "    df.groupby('year_of_release')['platform']\n",
    "    .count()\n",
    "    .plot(kind='bar', grid=True, figsize=(12, 5))\n",
    ")\n",
    "\n",
    "plt.xlabel('Годы')\n",
    "plt.ylabel('Количество выпущеннных игр, шт.')\n",
    "plt.show()"
   ]
  },
  {
   "cell_type": "code",
   "execution_count": 12,
   "metadata": {},
   "outputs": [
    {
     "data": {
      "text/plain": [
       "26.0"
      ]
     },
     "execution_count": 12,
     "metadata": {},
     "output_type": "execute_result"
    }
   ],
   "source": [
    "# Определим среднее количество игр, выпускавшихся до 1994 г.\n",
    "(\n",
    "    df[df['year_of_release'] < 1994]\n",
    "    .groupby('year_of_release')['platform']\n",
    "    .count()\n",
    "    .mean()\n",
    "    .round()\n",
    ")"
   ]
  },
  {
   "cell_type": "markdown",
   "metadata": {},
   "source": [
    "Заметный рост количества игр начался в 1994 г. До этого в среднем в год выпускали 26 игр. \"Отсёчем хвост\" слева, далее будем рассматривать период с 1993 по 2016 г."
   ]
  },
  {
   "cell_type": "code",
   "execution_count": 13,
   "metadata": {},
   "outputs": [
    {
     "data": {
      "image/png": "[encoded data removed]",
      "text/plain": [
       "<Figure size 864x360 with 1 Axes>"
      ]
     },
     "metadata": {
      "needs_background": "light"
     },
     "output_type": "display_data"
    }
   ],
   "source": [
    "# Определим платформы с наибольшими суммарными продажами\n",
    "(\n",
    "  df.groupby('platform')['sum_sales'].sum()\n",
    "    .sort_values()\n",
    "    .plot(kind='bar',\n",
    "          grid=True, \n",
    "          figsize=(12, 5),\n",
    "          title='Количество проданных копий игр на разных платформах, млн. шт.'\n",
    "         )\n",
    ")\n",
    "\n",
    "plt.xlabel('Платформа')\n",
    "plt.ylabel('Объём продаж, млн. шт.')\n",
    "plt.show()"
   ]
  },
  {
   "cell_type": "markdown",
   "metadata": {},
   "source": [
    "Среди игровых платформ выделяются 6: PS2, X360, PS3, Wii, DS, PS. Постром распределение объёмов продаж по годам для каждой из указанных платформ."
   ]
  },
  {
   "cell_type": "code",
   "execution_count": 14,
   "metadata": {
    "scrolled": false
   },
   "outputs": [
    {
     "data": {
      "image/png": "[encoded data removed]",
      "text/plain": [
       "<Figure size 864x360 with 1 Axes>"
      ]
     },
     "metadata": {
      "needs_background": "light"
     },
     "output_type": "display_data"
    }
   ],
   "source": [
    "for platform in ['PS2', 'X360', 'PS3', 'Wii', 'DS', 'PS']:\n",
    "    (\n",
    "     df[(df['platform']==platform) & (df['year_of_release']>=1993)]\n",
    "     .groupby('year_of_release')['sum_sales'].sum()\n",
    "     .plot(grid=True, figsize=(12, 5), label=platform)        \n",
    "    )\n",
    "\n",
    "plt.legend()\n",
    "plt.xlabel('Годы продаж')\n",
    "plt.ylabel('Объём продаж, млн. копий')\n",
    "plt.title('Распределение количества проданных копий игр по годам для популярных платформ')\n",
    "plt.show()"
   ]
  },
  {
   "cell_type": "markdown",
   "metadata": {},
   "source": [
    "Судя по графикам, у каждой игровой платформы есть жизненный цикл. Первую половину этого цикла продажи растут, а вторую половину - падают. К 2016 году самые успешные платформы практически полностью потеряли свою актуальность. Определим среднее и медианное значение продолжительности жизненного цикла среди шести популярных платформ."
   ]
  },
  {
   "cell_type": "code",
   "execution_count": 15,
   "metadata": {
    "scrolled": true
   },
   "outputs": [
    {
     "name": "stdout",
     "output_type": "stream",
     "text": [
      "Среднее значение продолжительности жизненного цикла среди шести популярных платформ: 13.0 лет.\n",
      "Медианное значение продолжительности жизненного цикла среди шести популярных платформ: 10.0 лет.\n"
     ]
    }
   ],
   "source": [
    "period = pd.Series()\n",
    "for platform in ['PS2', 'X360', 'PS3', 'Wii', 'DS', 'PS']:\n",
    "    period[platform] = (df[df['platform']==platform]['year_of_release'].max() \n",
    "                      - df[df['platform']==platform]['year_of_release'].min())\n",
    "\n",
    "print(f'Среднее значение продолжительности жизненного цикла среди шести популярных платформ: {period.mean().round()} лет.')\n",
    "print(f'Медианное значение продолжительности жизненного цикла среди шести популярных платформ: {period.median().round()} лет.')"
   ]
  },
  {
   "cell_type": "markdown",
   "metadata": {},
   "source": [
    "Для прогноза продаж на 2017 год имеет смысл рассмотреть период с 2011 по 2016 г. Платформы, используемые на данном временном отрезке, могут оказать какое-то влияние на продажи в 2017 г."
   ]
  },
  {
   "cell_type": "code",
   "execution_count": 16,
   "metadata": {},
   "outputs": [
    {
     "data": {
      "image/png": "[encoded data removed]",
      "text/plain": [
       "<Figure size 864x360 with 1 Axes>"
      ]
     },
     "metadata": {
      "needs_background": "light"
     },
     "output_type": "display_data"
    }
   ],
   "source": [
    "df_filtered = df[(df['year_of_release'] >= 2011)]\n",
    "\n",
    "for platform in df_filtered['platform'].unique():\n",
    "    (\n",
    "     df_filtered[df_filtered['platform']==platform]\n",
    "     .groupby('year_of_release')['sum_sales'].sum()\n",
    "     .plot(grid=True, figsize=(12, 5), label=platform)        \n",
    "    )\n",
    "\n",
    "plt.legend()\n",
    "plt.xlabel('Годы продаж')\n",
    "plt.ylabel('Объём продаж, млн. копий')\n",
    "plt.title('Распределение количества проданных копий по годам для популярных платформ')\n",
    "plt.show()"
   ]
  },
  {
   "cell_type": "markdown",
   "metadata": {},
   "source": [
    "Можно выделить три потенциально прибыльные платформы: 3DS, XOne и PS4. Они лидируют по количеству проданных копий игр в 2015 и 2016 гг. Скорее всего, платформы XOne и PS4 находятся в фазе роста, поскольку появились в 2013 г. Падение продаж в 2016 г. можно объяснить неполными данными за этот год."
   ]
  },
  {
   "cell_type": "code",
   "execution_count": 17,
   "metadata": {},
   "outputs": [
    {
     "data": {
      "image/png": "[encoded data removed]",
      "text/plain": [
       "<Figure size 864x360 with 1 Axes>"
      ]
     },
     "metadata": {
      "needs_background": "light"
     },
     "output_type": "display_data"
    }
   ],
   "source": [
    "# Определим платформы с наибольшими суммарными продажами в 2016 г.\n",
    "(\n",
    "  df.loc[df['year_of_release'] >= 2016]\n",
    "    .groupby('platform')['sum_sales'].sum()\n",
    "    .sort_values()\n",
    "    .plot(kind='bar',\n",
    "          grid=True, \n",
    "          figsize=(12, 5),\n",
    "          title='Количество проданных копий игр на разных платформах в 2016 г., млн. копий'\n",
    "         )\n",
    ")\n",
    "\n",
    "plt.xlabel('Платформа')\n",
    "plt.ylabel('Объём продаж, млн. копий')\n",
    "plt.show()"
   ]
  },
  {
   "cell_type": "markdown",
   "metadata": {},
   "source": [
    "Построим диаграммы размаха объёмов продаж игр для всех игровых платформ за период с 2011 по 2016 г."
   ]
  },
  {
   "cell_type": "code",
   "execution_count": 18,
   "metadata": {},
   "outputs": [
    {
     "data": {
      "image/png": "[encoded data removed]",
      "text/plain": [
       "<Figure size 864x360 with 1 Axes>"
      ]
     },
     "metadata": {
      "needs_background": "light"
     },
     "output_type": "display_data"
    }
   ],
   "source": [
    "plt.figure(figsize=(12,5))\n",
    "\n",
    "sns.boxplot(x='platform', y='sum_sales', data=df_filtered)\n",
    "\n",
    "plt.title('Диаграммы размаха для различных платформ')\n",
    "plt.xlabel('Платформа')\n",
    "plt.ylabel('Объём продаж, млн. копий')\n",
    "plt.grid()\n",
    "plt.ylim(0,2)\n",
    "plt.show()"
   ]
  },
  {
   "cell_type": "markdown",
   "metadata": {},
   "source": [
    "- Наибольший межквартильный размах имеют следующие платформы: PS3, X360, PS4, XOne, WiiU. Медианное значение объёма продаж игр на этих платформах находится на уровне 0,25 млн. копий.\n",
    "- В большинстве случаев каждая четверть выборки шире предыдущей. В четвертой четверти каждой выборки большое количество выбросов. Всё это говорит о большем разбросе объёмов продаж, превышающих медианное значение. Гистограммы выборок будут иметь правостороннюю ассиметрию."
   ]
  },
  {
   "cell_type": "markdown",
   "metadata": {},
   "source": [
    "Посмотрим, как влияют на продажи игр отзывы пользователей и критиков. Возьмём две популярные платформы: 3DS и PS4. Первая находится в фазе роста объёмов продаж, вторая - в фазе падения. Для каждой платформы построим диаграмму рассеяния и посчитаем корреляцию между отзывами и продажами. "
   ]
  },
  {
   "cell_type": "code",
   "execution_count": 19,
   "metadata": {},
   "outputs": [
    {
     "data": {
      "image/png": "[encoded data removed]",
      "text/plain": [
       "<Figure size 1080x576 with 4 Axes>"
      ]
     },
     "metadata": {
      "needs_background": "light"
     },
     "output_type": "display_data"
    }
   ],
   "source": [
    "fig, ax = plt.subplots(2, 2, figsize=(15, 8))\n",
    "\n",
    "i=0\n",
    "for platform in ['3DS', 'PS4']:\n",
    "    j = 0\n",
    "    for score in ['critic_score', 'user_score']:\n",
    "        ax[i, j].scatter(\n",
    "                         x = df_filtered[df_filtered['platform']==platform][score], \n",
    "                         y = df_filtered[df_filtered['platform']==platform]['sum_sales'],\n",
    "                        )\n",
    "        ax[i, j].legend('', loc=\"upper left\", title=platform)\n",
    "        ax[i, j].set_xlabel(f'Оценки {score}')\n",
    "        ax[i, j].set_ylabel('Объёмы продаж игр, млн. копий')\n",
    "#        ax[i, j].set_title(platform)\n",
    "        ax[i, j].grid()\n",
    "        j += 1\n",
    "    i+=1\n",
    "\n",
    "# plt.show()"
   ]
  },
  {
   "cell_type": "markdown",
   "metadata": {},
   "source": [
    "Оценим корреляцию между отзывами ('critic_score', 'user_score') и продажами игр ('sum_sales') с помощью коэффициента корреляции Пирсона."
   ]
  },
  {
   "cell_type": "code",
   "execution_count": 20,
   "metadata": {
    "scrolled": false
   },
   "outputs": [
    {
     "data": {
      "text/html": [
       "<div>\n",
       "<style scoped>\n",
       "    .dataframe tbody tr th:only-of-type {\n",
       "        vertical-align: middle;\n",
       "    }\n",
       "\n",
       "    .dataframe tbody tr th {\n",
       "        vertical-align: top;\n",
       "    }\n",
       "\n",
       "    .dataframe thead th {\n",
       "        text-align: right;\n",
       "    }\n",
       "</style>\n",
       "<table border=\"1\" class=\"dataframe\">\n",
       "  <thead>\n",
       "    <tr style=\"text-align: right;\">\n",
       "      <th></th>\n",
       "      <th>PS3</th>\n",
       "      <th>X360</th>\n",
       "      <th>PS4</th>\n",
       "      <th>3DS</th>\n",
       "      <th>Wii</th>\n",
       "      <th>DS</th>\n",
       "      <th>XOne</th>\n",
       "      <th>WiiU</th>\n",
       "      <th>PC</th>\n",
       "      <th>PSV</th>\n",
       "      <th>PSP</th>\n",
       "      <th>PS2</th>\n",
       "    </tr>\n",
       "  </thead>\n",
       "  <tbody>\n",
       "    <tr>\n",
       "      <td>critic_score</td>\n",
       "      <td>0.38</td>\n",
       "      <td>0.39</td>\n",
       "      <td>0.41</td>\n",
       "      <td>0.35</td>\n",
       "      <td>0.29</td>\n",
       "      <td>0.26</td>\n",
       "      <td>0.42</td>\n",
       "      <td>0.35</td>\n",
       "      <td>0.31</td>\n",
       "      <td>0.13</td>\n",
       "      <td>0.36</td>\n",
       "      <td>NaN</td>\n",
       "    </tr>\n",
       "    <tr>\n",
       "      <td>user_score</td>\n",
       "      <td>0.01</td>\n",
       "      <td>0.04</td>\n",
       "      <td>-0.03</td>\n",
       "      <td>0.22</td>\n",
       "      <td>0.15</td>\n",
       "      <td>0.28</td>\n",
       "      <td>-0.07</td>\n",
       "      <td>0.40</td>\n",
       "      <td>-0.05</td>\n",
       "      <td>0.01</td>\n",
       "      <td>0.01</td>\n",
       "      <td>-0.49</td>\n",
       "    </tr>\n",
       "  </tbody>\n",
       "</table>\n",
       "</div>"
      ],
      "text/plain": [
       "               PS3  X360   PS4   3DS   Wii    DS  XOne  WiiU    PC   PSV  \\\n",
       "critic_score  0.38  0.39  0.41  0.35  0.29  0.26  0.42  0.35  0.31  0.13   \n",
       "user_score    0.01  0.04 -0.03  0.22  0.15  0.28 -0.07  0.40 -0.05  0.01   \n",
       "\n",
       "               PSP   PS2  \n",
       "critic_score  0.36   NaN  \n",
       "user_score    0.01 -0.49  "
      ]
     },
     "execution_count": 20,
     "metadata": {},
     "output_type": "execute_result"
    }
   ],
   "source": [
    "corr_сoeff = pd.DataFrame()\n",
    "\n",
    "for platform in df_filtered['platform'].unique():\n",
    "    corr_сoeff[platform] = (\n",
    "                         df_filtered.loc[df_filtered['platform']==platform, ['critic_score', 'user_score']]\n",
    "                                    .corrwith(df_filtered['sum_sales'], axis=0, method='pearson')\n",
    "                                    .round(2)\n",
    "                           )\n",
    "\n",
    "corr_сoeff"
   ]
  },
  {
   "cell_type": "markdown",
   "metadata": {},
   "source": [
    "Полученные результаты для PS2 во внимание принимать не будем из-за малого количества оценок. Судя по диаграммам рассеяния и коэффициентам корреляции, для большинства платформ объёмы продаж игр никак не связаны с оценками пользователей. Связь объёмов продаж с оценками критиков есть, но слабая."
   ]
  },
  {
   "cell_type": "markdown",
   "metadata": {},
   "source": [
    "Посмотрим общее распределение игр и объёмов продаж по жанрам."
   ]
  },
  {
   "cell_type": "code",
   "execution_count": 21,
   "metadata": {},
   "outputs": [
    {
     "data": {
      "image/png": "[encoded data removed]",
      "text/plain": [
       "<Figure size 864x216 with 2 Axes>"
      ]
     },
     "metadata": {
      "needs_background": "light"
     },
     "output_type": "display_data"
    }
   ],
   "source": [
    "fig, ax = plt.subplots(1, 2, figsize=(12, 3))\n",
    "\n",
    "# Объёмы продаж игр различных жанров\n",
    "ax[0].bar(\n",
    "                 x      = (df_filtered.groupby('genre')['sum_sales'].sum()\n",
    "                                      .sort_values(ascending=False)\n",
    "                                      .index), \n",
    "                 height = (df_filtered.groupby('genre')['sum_sales'].sum()\n",
    "                                      .sort_values(ascending=False)\n",
    "                                      .values)\n",
    "          )\n",
    "\n",
    "ax[0].set_xlabel('Жанры')\n",
    "ax[0].tick_params(axis='x', labelrotation = 90)\n",
    "ax[0].set_ylabel('Объёмы продаж, млн. копий')\n",
    "ax[0].set_title('Объёмы продаж игр различных жанров')\n",
    "ax[0].grid(axis='y')\n",
    "\n",
    "# Количество игр различных жанров\n",
    "ax[1].bar(\n",
    "          x      = df_filtered['genre'].value_counts().index, \n",
    "          height = df_filtered['genre'].value_counts().values\n",
    "         )\n",
    "\n",
    "ax[1].set_xlabel('Жанры')\n",
    "ax[1].tick_params(axis='x', labelrotation = 90)\n",
    "ax[1].set_ylabel('Количество игр, шт.')\n",
    "ax[1].set_title('Количество игр различных жанров')\n",
    "ax[1].grid(axis='y')\n",
    "\n",
    "# plt.show()"
   ]
  },
  {
   "cell_type": "markdown",
   "metadata": {},
   "source": [
    "- Игры жанра 'Action' имеют самый большой суммарный объём продаж (см. выше график 1), который достигается за счёт их большого количества (см. выше график 2).\n",
    "- Большой суммарный объём продаж игр жанра 'Shooter' (см. выше график 1) обеспечен относительно небольшим их количеством (см. выше график 2). Скорее всего, игры этого жанра имеют наибольший средний объём продаж, т.е. в среднем продаются лучше остальных. Проверим это далее. "
   ]
  },
  {
   "cell_type": "code",
   "execution_count": 22,
   "metadata": {},
   "outputs": [
    {
     "data": {
      "image/png": "[encoded data removed]",
      "text/plain": [
       "<Figure size 864x216 with 1 Axes>"
      ]
     },
     "metadata": {
      "needs_background": "light"
     },
     "output_type": "display_data"
    }
   ],
   "source": [
    "fig, ax = plt.subplots(1, 1, figsize=(12, 3))\n",
    "\n",
    "# Количество игр различных жанров\n",
    "ax.bar(\n",
    "                 x      = (df_filtered.groupby('genre')['sum_sales'].mean()\n",
    "                                      .sort_values(ascending=False)\n",
    "                                      .index), \n",
    "                 height = (df_filtered.groupby('genre')['sum_sales'].mean()\n",
    "                                      .sort_values(ascending=False)\n",
    "                                      .values),\n",
    "                 label='mean'\n",
    "      )\n",
    "\n",
    "ax.bar(\n",
    "                 x      = (df_filtered.groupby('genre')['sum_sales'].median()\n",
    "                                      .sort_values(ascending=False)\n",
    "                                      .index), \n",
    "                 height = (df_filtered.groupby('genre')['sum_sales'].median()\n",
    "                                      .sort_values(ascending=False)\n",
    "                                      .values),\n",
    "                label='median' \n",
    "       )\n",
    "\n",
    "ax.legend()\n",
    "ax.set_xlabel('Жанры')\n",
    "ax.tick_params(axis='x', labelrotation = 90)\n",
    "ax.set_ylabel('Объём продаж одной игры, млн. шт.')\n",
    "ax.set_title('Среднее и медианное значения объёмов продаж одной игры')\n",
    "ax.grid(axis='y')"
   ]
  },
  {
   "cell_type": "markdown",
   "metadata": {},
   "source": [
    "- Гипотеза о том, что игры жанра Shooter имеют наибольший средний объём продаж, подтвердилась.\n",
    "- В каждом жанре есть игры-хиты с большими объёмами продаж, которые вызывают смещение среднего значения относительно медианы в большую сторону."
   ]
  },
  {
   "cell_type": "markdown",
   "metadata": {},
   "source": [
    "\n",
    "## Предпочтения пользователей разных регионов (NA, EU, JP)"
   ]
  },
  {
   "cell_type": "markdown",
   "metadata": {},
   "source": [
    "Определим для пользователя каждого региона (NA, EU, JP) самые популярные платформы (топ-5)."
   ]
  },
  {
   "cell_type": "code",
   "execution_count": 23,
   "metadata": {},
   "outputs": [
    {
     "data": {
      "text/html": [
       "<div>\n",
       "<style scoped>\n",
       "    .dataframe tbody tr th:only-of-type {\n",
       "        vertical-align: middle;\n",
       "    }\n",
       "\n",
       "    .dataframe tbody tr th {\n",
       "        vertical-align: top;\n",
       "    }\n",
       "\n",
       "    .dataframe thead th {\n",
       "        text-align: right;\n",
       "    }\n",
       "</style>\n",
       "<table border=\"1\" class=\"dataframe\">\n",
       "  <thead>\n",
       "    <tr style=\"text-align: right;\">\n",
       "      <th></th>\n",
       "      <th>na_top</th>\n",
       "      <th>na_sales</th>\n",
       "      <th>eu_top</th>\n",
       "      <th>eu_sales</th>\n",
       "      <th>jp_top</th>\n",
       "      <th>jp_sales</th>\n",
       "    </tr>\n",
       "  </thead>\n",
       "  <tbody>\n",
       "    <tr>\n",
       "      <td>0</td>\n",
       "      <td>X360</td>\n",
       "      <td>226.80</td>\n",
       "      <td>PS3</td>\n",
       "      <td>163.10</td>\n",
       "      <td>3DS</td>\n",
       "      <td>100.62</td>\n",
       "    </tr>\n",
       "    <tr>\n",
       "      <td>1</td>\n",
       "      <td>PS3</td>\n",
       "      <td>168.26</td>\n",
       "      <td>PS4</td>\n",
       "      <td>141.09</td>\n",
       "      <td>PS3</td>\n",
       "      <td>49.39</td>\n",
       "    </tr>\n",
       "    <tr>\n",
       "      <td>2</td>\n",
       "      <td>PS4</td>\n",
       "      <td>108.74</td>\n",
       "      <td>X360</td>\n",
       "      <td>117.10</td>\n",
       "      <td>PSP</td>\n",
       "      <td>24.04</td>\n",
       "    </tr>\n",
       "    <tr>\n",
       "      <td>3</td>\n",
       "      <td>XOne</td>\n",
       "      <td>93.12</td>\n",
       "      <td>3DS</td>\n",
       "      <td>61.27</td>\n",
       "      <td>PSV</td>\n",
       "      <td>21.84</td>\n",
       "    </tr>\n",
       "    <tr>\n",
       "      <td>4</td>\n",
       "      <td>3DS</td>\n",
       "      <td>82.65</td>\n",
       "      <td>PC</td>\n",
       "      <td>56.70</td>\n",
       "      <td>PS4</td>\n",
       "      <td>15.96</td>\n",
       "    </tr>\n",
       "  </tbody>\n",
       "</table>\n",
       "</div>"
      ],
      "text/plain": [
       "  na_top  na_sales eu_top  eu_sales jp_top  jp_sales\n",
       "0   X360    226.80    PS3    163.10    3DS    100.62\n",
       "1    PS3    168.26    PS4    141.09    PS3     49.39\n",
       "2    PS4    108.74   X360    117.10    PSP     24.04\n",
       "3   XOne     93.12    3DS     61.27    PSV     21.84\n",
       "4    3DS     82.65     PC     56.70    PS4     15.96"
      ]
     },
     "execution_count": 23,
     "metadata": {},
     "output_type": "execute_result"
    }
   ],
   "source": [
    "top_5_platforms = pd.DataFrame()\n",
    "\n",
    "for sales in ['jp_sales', 'eu_sales', 'na_sales']:\n",
    "    top_5_platforms = (\n",
    "                       df_filtered.groupby('platform')[sales].sum()\n",
    "                                  .sort_values(ascending=False)\n",
    "                                  .reset_index()\n",
    "                                  .loc[:4]\n",
    "                                  .rename(columns={'platform': f'{sales[:2]}_top'})\n",
    "                                  .join(top_5_platforms)\n",
    "                       )\n",
    "\n",
    "\n",
    "top_5_platforms"
   ]
  },
  {
   "cell_type": "code",
   "execution_count": 24,
   "metadata": {
    "scrolled": true
   },
   "outputs": [
    {
     "data": {
      "text/html": [
       "<div>\n",
       "<style scoped>\n",
       "    .dataframe tbody tr th:only-of-type {\n",
       "        vertical-align: middle;\n",
       "    }\n",
       "\n",
       "    .dataframe tbody tr th {\n",
       "        vertical-align: top;\n",
       "    }\n",
       "\n",
       "    .dataframe thead th {\n",
       "        text-align: right;\n",
       "    }\n",
       "</style>\n",
       "<table border=\"1\" class=\"dataframe\">\n",
       "  <thead>\n",
       "    <tr style=\"text-align: right;\">\n",
       "      <th></th>\n",
       "      <th>na_top</th>\n",
       "      <th>na_sales</th>\n",
       "      <th>eu_top</th>\n",
       "      <th>eu_sales</th>\n",
       "      <th>jp_top</th>\n",
       "      <th>jp_sales</th>\n",
       "    </tr>\n",
       "  </thead>\n",
       "  <tbody>\n",
       "    <tr>\n",
       "      <td>0</td>\n",
       "      <td>Action</td>\n",
       "      <td>230.92</td>\n",
       "      <td>Action</td>\n",
       "      <td>199.12</td>\n",
       "      <td>Role-Playing</td>\n",
       "      <td>79.87</td>\n",
       "    </tr>\n",
       "    <tr>\n",
       "      <td>1</td>\n",
       "      <td>Shooter</td>\n",
       "      <td>194.43</td>\n",
       "      <td>Shooter</td>\n",
       "      <td>148.02</td>\n",
       "      <td>Action</td>\n",
       "      <td>63.62</td>\n",
       "    </tr>\n",
       "    <tr>\n",
       "      <td>2</td>\n",
       "      <td>Sports</td>\n",
       "      <td>108.70</td>\n",
       "      <td>Sports</td>\n",
       "      <td>88.48</td>\n",
       "      <td>Misc</td>\n",
       "      <td>17.60</td>\n",
       "    </tr>\n",
       "    <tr>\n",
       "      <td>3</td>\n",
       "      <td>Role-Playing</td>\n",
       "      <td>83.78</td>\n",
       "      <td>Role-Playing</td>\n",
       "      <td>62.30</td>\n",
       "      <td>Fighting</td>\n",
       "      <td>12.38</td>\n",
       "    </tr>\n",
       "    <tr>\n",
       "      <td>4</td>\n",
       "      <td>Misc</td>\n",
       "      <td>69.69</td>\n",
       "      <td>Racing</td>\n",
       "      <td>40.58</td>\n",
       "      <td>Platform</td>\n",
       "      <td>12.13</td>\n",
       "    </tr>\n",
       "  </tbody>\n",
       "</table>\n",
       "</div>"
      ],
      "text/plain": [
       "         na_top  na_sales        eu_top  eu_sales        jp_top  jp_sales\n",
       "0        Action    230.92        Action    199.12  Role-Playing     79.87\n",
       "1       Shooter    194.43       Shooter    148.02        Action     63.62\n",
       "2        Sports    108.70        Sports     88.48          Misc     17.60\n",
       "3  Role-Playing     83.78  Role-Playing     62.30      Fighting     12.38\n",
       "4          Misc     69.69        Racing     40.58      Platform     12.13"
      ]
     },
     "execution_count": 24,
     "metadata": {},
     "output_type": "execute_result"
    }
   ],
   "source": [
    "top_5_genres = pd.DataFrame()\n",
    "\n",
    "for sales in ['jp_sales', 'eu_sales', 'na_sales']:\n",
    "    top_5_genres = (\n",
    "                       df_filtered.groupby('genre')[sales].sum()\n",
    "                                  .sort_values(ascending=False)\n",
    "                                  .reset_index()\n",
    "                                  .loc[:4]\n",
    "                                  .rename(columns={'genre': f'{sales[:2]}_top'})\n",
    "                                  .join(top_5_genres)\n",
    "                       )\n",
    "\n",
    "\n",
    "top_5_genres"
   ]
  },
  {
   "cell_type": "markdown",
   "metadata": {},
   "source": [
    "Самыми популярными платформами в `Японии` оказались платформы `японских` фирм Sony и Nintendo, что вполне логично. В Северной `Америке` в топ-5 вошли Xbox 360 и Xbox One `американской` фирмы Microsoft, что тоже вполне логично. Европейские потребители предпочитают японские платформы: из американских в топ-5 оказалась только Xbox 360.\n",
    "\n",
    "Определим для пользователя каждого региона (NA, EU, JP) самые популярные жанры (топ-5)."
   ]
  },
  {
   "cell_type": "markdown",
   "metadata": {},
   "source": [
    "Предпочтения западных потребителей, европейских и американских, почти совпали: первые четыре позиции в топ-5 одни и те же. Предпочтения японцев иные, что связано с иным менталитетом, не похожим на западный.\n",
    "\n",
    "Определим для пользователя каждого региона (NA, EU, JP), влияет ли рейтинг ESRB на продажи в отдельном регионе?"
   ]
  },
  {
   "cell_type": "code",
   "execution_count": 25,
   "metadata": {
    "scrolled": false
   },
   "outputs": [
    {
     "data": {
      "text/html": [
       "<div>\n",
       "<style scoped>\n",
       "    .dataframe tbody tr th:only-of-type {\n",
       "        vertical-align: middle;\n",
       "    }\n",
       "\n",
       "    .dataframe tbody tr th {\n",
       "        vertical-align: top;\n",
       "    }\n",
       "\n",
       "    .dataframe thead th {\n",
       "        text-align: right;\n",
       "    }\n",
       "</style>\n",
       "<table border=\"1\" class=\"dataframe\">\n",
       "  <thead>\n",
       "    <tr style=\"text-align: right;\">\n",
       "      <th></th>\n",
       "      <th>na_top</th>\n",
       "      <th>na_sales</th>\n",
       "      <th>eu_top</th>\n",
       "      <th>eu_sales</th>\n",
       "      <th>jp_top</th>\n",
       "      <th>jp_sales</th>\n",
       "    </tr>\n",
       "  </thead>\n",
       "  <tbody>\n",
       "    <tr>\n",
       "      <td>0</td>\n",
       "      <td>M</td>\n",
       "      <td>308.45</td>\n",
       "      <td>M</td>\n",
       "      <td>250.26</td>\n",
       "      <td>RP</td>\n",
       "      <td>138.21</td>\n",
       "    </tr>\n",
       "    <tr>\n",
       "      <td>1</td>\n",
       "      <td>E</td>\n",
       "      <td>170.17</td>\n",
       "      <td>E</td>\n",
       "      <td>141.73</td>\n",
       "      <td>E</td>\n",
       "      <td>36.68</td>\n",
       "    </tr>\n",
       "    <tr>\n",
       "      <td>2</td>\n",
       "      <td>RP</td>\n",
       "      <td>123.69</td>\n",
       "      <td>RP</td>\n",
       "      <td>116.64</td>\n",
       "      <td>T</td>\n",
       "      <td>33.39</td>\n",
       "    </tr>\n",
       "    <tr>\n",
       "      <td>3</td>\n",
       "      <td>E10+</td>\n",
       "      <td>117.72</td>\n",
       "      <td>T</td>\n",
       "      <td>83.16</td>\n",
       "      <td>M</td>\n",
       "      <td>26.14</td>\n",
       "    </tr>\n",
       "    <tr>\n",
       "      <td>4</td>\n",
       "      <td>T</td>\n",
       "      <td>109.31</td>\n",
       "      <td>E10+</td>\n",
       "      <td>78.00</td>\n",
       "      <td>E10+</td>\n",
       "      <td>11.23</td>\n",
       "    </tr>\n",
       "  </tbody>\n",
       "</table>\n",
       "</div>"
      ],
      "text/plain": [
       "  na_top  na_sales eu_top  eu_sales jp_top  jp_sales\n",
       "0      M    308.45      M    250.26     RP    138.21\n",
       "1      E    170.17      E    141.73      E     36.68\n",
       "2     RP    123.69     RP    116.64      T     33.39\n",
       "3   E10+    117.72      T     83.16      M     26.14\n",
       "4      T    109.31   E10+     78.00   E10+     11.23"
      ]
     },
     "execution_count": 25,
     "metadata": {},
     "output_type": "execute_result"
    }
   ],
   "source": [
    "top_5_ESRB = pd.DataFrame()\n",
    "\n",
    "for sales in ['jp_sales', 'eu_sales', 'na_sales']:\n",
    "    top_5_ESRB = (\n",
    "                   df_filtered.groupby('rating')[sales].sum()\n",
    "                              .sort_values(ascending=False)\n",
    "                              .reset_index()\n",
    "                              .loc[:4]\n",
    "                              .rename(columns={'rating': f'{sales[:2]}_top'})\n",
    "                              .join(top_5_ESRB)\n",
    "                  )\n",
    "\n",
    "top_5_ESRB"
   ]
  },
  {
   "cell_type": "markdown",
   "metadata": {},
   "source": [
    "В топ-5 вошли одни и те же категории ESRB, независимо от региона. Западные потребители предпочитают игры «для взрослых» (M): неслучайно их любымыми жанрами оказались 'Action' и 'Shooter'. Японцы не такие кровожадные, однако следует оговориться, что для бóльшей части игр в Японии возрастной рейтинг не определён."
   ]
  },
  {
   "cell_type": "markdown",
   "metadata": {},
   "source": [
    "## Проверка статистических гипотез"
   ]
  },
  {
   "cell_type": "markdown",
   "metadata": {},
   "source": [
    "- Нулевая гипотеза: cредние пользовательские рейтинги платформ Xbox One и PC одинаковые.\n",
    "- Альтернативная гипотеза: cредние пользовательские рейтинги платформ Xbox One и PC разные."
   ]
  },
  {
   "cell_type": "code",
   "execution_count": 26,
   "metadata": {},
   "outputs": [
    {
     "name": "stdout",
     "output_type": "stream",
     "text": [
      "Средний пользовательский рейтинг платформы Xbox One: 6.52\n",
      "Средний пользовательский рейтинг платформы PC: 6.45\n",
      "\n",
      "Полученное значение p-value = 0.61. Вероятность получить случайно текущую или бóльшую разницу \n",
      "в значениях среднего рейтинга платформ Xbox One и PC приблизительно равна 61%.\n",
      "       \n",
      "Вывод: не получилось отвергнуть нулевую гипотезу.\n"
     ]
    }
   ],
   "source": [
    "# Пользовательские рейтинги платформ\n",
    "\n",
    "user_score_xone = df_filtered[(df_filtered['platform'] == 'XOne') &\n",
    "                              ~df_filtered['user_score'].isna()]['user_score']\n",
    "\n",
    "user_score_pc = df_filtered[(df_filtered['platform'] == 'PC') &\n",
    "                              ~df_filtered['user_score'].isna()]['user_score']\n",
    "                  \n",
    "print('Средний пользовательский рейтинг платформы Xbox One:', user_score_xone.mean().round(2))\n",
    "print('Средний пользовательский рейтинг платформы PC:', user_score_pc.mean().round(2))\n",
    "\n",
    "# Проверим гипотезу о равенстве средних двух генеральных совокупностей\n",
    "\n",
    "alpha = 0.05  # критический уровень статистической значимости\n",
    "\n",
    "results = st.ttest_ind(user_score_xone, user_score_pc, equal_var=False)\n",
    "\n",
    "print(f'''\n",
    "Полученное значение p-value = {results.pvalue.round(2)}. Вероятность получить случайно текущую или бóльшую разницу \n",
    "в значениях среднего рейтинга платформ Xbox One и PC приблизительно равна {results.pvalue:.0%}.\n",
    "       ''')\n",
    "\n",
    "if results.pvalue < alpha:\n",
    "    print('Вывод: отвергаем нулевую гипотезу.')\n",
    "\n",
    "else:\n",
    "    print('Вывод: не получилось отвергнуть нулевую гипотезу.')"
   ]
  },
  {
   "cell_type": "markdown",
   "metadata": {},
   "source": [
    "- Нулевая гипотеза: cредние пользовательские рейтинги жанров 'Action' и 'Sports' одинаковые.\n",
    "- Альтернативная гипотеза: cредние пользовательские рейтинги жанров 'Action' и 'Sports' разные."
   ]
  },
  {
   "cell_type": "code",
   "execution_count": 27,
   "metadata": {},
   "outputs": [
    {
     "name": "stdout",
     "output_type": "stream",
     "text": [
      "Средний пользовательский рейтинг жанра \"Action\": 6.78\n",
      "Средний пользовательский рейтинг платформы \"Sports\": 5.65\n",
      "\n",
      "Полученное значение p-value = 8.285648549432565e-19. Вероятность получить случайно текущую или \n",
      "бóльшую разницу в значениях среднего рейтинга жанров 'Action' и 'Sports' приблизительно равна 0%.\n",
      "       \n",
      "Вывод: отвергаем нулевую гипотезу.\n"
     ]
    }
   ],
   "source": [
    "# Пользовательские рейтинги жанров 'Action' и 'Sports'\n",
    "\n",
    "user_score_action = df_filtered[(df_filtered['genre'] == 'Action') &\n",
    "                              ~df_filtered['user_score'].isna()]['user_score']\n",
    "\n",
    "user_score_sports = df_filtered[(df_filtered['genre'] == 'Sports') &\n",
    "                              ~df_filtered['user_score'].isna()]['user_score']\n",
    "                  \n",
    "print('Средний пользовательский рейтинг жанра \"Action\":', user_score_action.mean().round(2))\n",
    "print('Средний пользовательский рейтинг платформы \"Sports\":', user_score_sports.mean().round(2))\n",
    "\n",
    "# Проверим гипотезу о равенстве средних двух генеральных совокупностей\n",
    "\n",
    "alpha = 0.05  # критический уровень статистической значимости\n",
    "\n",
    "results = st.ttest_ind(user_score_action, user_score_sports, equal_var=False)\n",
    "\n",
    "print(f'''\n",
    "Полученное значение p-value = {results.pvalue}. Вероятность получить случайно текущую или \n",
    "бóльшую разницу в значениях среднего рейтинга жанров 'Action' и 'Sports' приблизительно равна {results.pvalue:.0%}.\n",
    "       ''')\n",
    "\n",
    "if results.pvalue < alpha:\n",
    "    print('Вывод: отвергаем нулевую гипотезу.')\n",
    "\n",
    "else:\n",
    "    print('Вывод: не получилось отвергнуть нулевую гипотезу.')"
   ]
  },
  {
   "cell_type": "markdown",
   "metadata": {},
   "source": [
    "## Выводы"
   ]
  },
  {
   "cell_type": "markdown",
   "metadata": {},
   "source": [
    "- Наболее перспективными игровыми платформами являются 3DS, Xbox One и PS4. При этом плавтформы Xbox One и PS4 находятся в фазе роста.\n",
    "- Общий объём продаж наибольший у игр жанра 'Action', однако он достигается за счёт большого количества игр указанного жанра. Средний объём продаж наибольший у игр жанра 'Shooter'.\n",
    "- Если рассматривать распределение объёмов продаж игр внутри платформы или жанра, то везде наблюдается правосторонняя ассиметрия и смещение среднего значения относительно медианы в большую сторону. Причиной этого является наличие игр-хитов, которые создают \"выбросы\" в распределнии объёмов продаж.\n",
    "- Предпочтения жителей Запада во многом совпадают и отличаются от предпочтений жителей Японии.\n",
    "- Объёмы продаж игр не связаны с оценками пользователей и слабо коррелируют с оценками критиков.\n",
    "- Нет оснований отвергнуть гипотезу о том, что средние пользовательские рейтинги платформ Xbox One и PC одинаковые.\n",
    "- Нет оснований отвергнуть гипотезу о том, что пользовательские рейтинги жанров 'Action'  и 'Sports' разные."
   ]
  }
 ],
 "metadata": {
  "ExecuteTimeLog": [
   {
    "duration": 3375,
    "start_time": "2022-01-10T12:31:14.612Z"
   },
   {
    "duration": 104,
    "start_time": "2022-01-10T12:34:37.792Z"
   },
   {
    "duration": 68,
    "start_time": "2022-01-10T12:46:40.343Z"
   },
   {
    "duration": 6,
    "start_time": "2022-01-10T13:18:12.076Z"
   },
   {
    "duration": 6,
    "start_time": "2022-01-10T13:18:46.842Z"
   },
   {
    "duration": 5,
    "start_time": "2022-01-10T13:18:50.972Z"
   },
   {
    "duration": 6,
    "start_time": "2022-01-10T13:18:55.906Z"
   },
   {
    "duration": 5,
    "start_time": "2022-01-10T13:19:01.060Z"
   },
   {
    "duration": 406,
    "start_time": "2022-01-10T13:23:40.626Z"
   },
   {
    "duration": 5,
    "start_time": "2022-01-10T13:23:57.114Z"
   },
   {
    "duration": 20,
    "start_time": "2022-01-10T13:24:23.486Z"
   },
   {
    "duration": 337,
    "start_time": "2022-01-10T13:24:37.063Z"
   },
   {
    "duration": 1104,
    "start_time": "2022-01-10T13:24:53.627Z"
   },
   {
    "duration": 19,
    "start_time": "2022-01-10T13:25:30.266Z"
   },
   {
    "duration": 18,
    "start_time": "2022-01-10T13:26:14.846Z"
   },
   {
    "duration": 5,
    "start_time": "2022-01-10T13:27:02.359Z"
   },
   {
    "duration": 19,
    "start_time": "2022-01-10T13:27:17.509Z"
   },
   {
    "duration": 6,
    "start_time": "2022-01-10T13:27:44.008Z"
   },
   {
    "duration": 7,
    "start_time": "2022-01-10T13:28:32.827Z"
   },
   {
    "duration": 29,
    "start_time": "2022-01-10T13:39:14.443Z"
   },
   {
    "duration": 71,
    "start_time": "2022-01-10T13:39:30.965Z"
   },
   {
    "duration": 5,
    "start_time": "2022-01-10T13:39:31.039Z"
   },
   {
    "duration": 56,
    "start_time": "2022-01-10T13:39:31.047Z"
   },
   {
    "duration": 6,
    "start_time": "2022-01-10T13:39:53.898Z"
   },
   {
    "duration": 7,
    "start_time": "2022-01-10T13:40:01.667Z"
   },
   {
    "duration": 19,
    "start_time": "2022-01-10T13:40:17.576Z"
   },
   {
    "duration": 5,
    "start_time": "2022-01-10T13:40:36.104Z"
   },
   {
    "duration": 22,
    "start_time": "2022-01-10T13:41:36.826Z"
   },
   {
    "duration": 7341,
    "start_time": "2022-01-10T13:44:32.862Z"
   },
   {
    "duration": 322,
    "start_time": "2022-01-10T13:44:52.009Z"
   },
   {
    "duration": 7,
    "start_time": "2022-01-10T13:45:29.102Z"
   },
   {
    "duration": 22,
    "start_time": "2022-01-10T13:45:33.764Z"
   },
   {
    "duration": 82,
    "start_time": "2022-01-10T13:45:50.442Z"
   },
   {
    "duration": 8,
    "start_time": "2022-01-10T13:46:13.257Z"
   },
   {
    "duration": 4,
    "start_time": "2022-01-10T13:46:14.897Z"
   },
   {
    "duration": 22,
    "start_time": "2022-01-10T13:46:15.907Z"
   },
   {
    "duration": 5,
    "start_time": "2022-01-10T13:46:38.694Z"
   },
   {
    "duration": 20,
    "start_time": "2022-01-10T13:48:14.201Z"
   },
   {
    "duration": 14,
    "start_time": "2022-01-10T13:48:35.595Z"
   },
   {
    "duration": 15,
    "start_time": "2022-01-10T13:49:01.864Z"
   },
   {
    "duration": 23,
    "start_time": "2022-01-10T13:49:18.069Z"
   },
   {
    "duration": 12,
    "start_time": "2022-01-10T13:49:34.549Z"
   },
   {
    "duration": 10,
    "start_time": "2022-01-10T13:49:51.382Z"
   },
   {
    "duration": 12,
    "start_time": "2022-01-10T13:52:10.434Z"
   },
   {
    "duration": 15,
    "start_time": "2022-01-10T13:53:21.192Z"
   },
   {
    "duration": 18,
    "start_time": "2022-01-10T13:54:23.158Z"
   },
   {
    "duration": 16,
    "start_time": "2022-01-10T13:54:36.359Z"
   },
   {
    "duration": 17,
    "start_time": "2022-01-10T13:54:51.854Z"
   },
   {
    "duration": 22,
    "start_time": "2022-01-10T13:55:25.744Z"
   },
   {
    "duration": 96,
    "start_time": "2022-01-10T13:55:51.890Z"
   },
   {
    "duration": 4,
    "start_time": "2022-01-10T13:55:51.988Z"
   },
   {
    "duration": 40,
    "start_time": "2022-01-10T13:55:51.996Z"
   },
   {
    "duration": 17,
    "start_time": "2022-01-10T13:55:52.039Z"
   },
   {
    "duration": 9,
    "start_time": "2022-01-10T13:56:34.433Z"
   },
   {
    "duration": 4,
    "start_time": "2022-01-10T13:56:44.950Z"
   },
   {
    "duration": 90,
    "start_time": "2022-01-10T13:56:56.846Z"
   },
   {
    "duration": 4,
    "start_time": "2022-01-10T13:56:56.938Z"
   },
   {
    "duration": 23,
    "start_time": "2022-01-10T13:56:56.946Z"
   },
   {
    "duration": 9,
    "start_time": "2022-01-10T13:56:56.971Z"
   },
   {
    "duration": 25,
    "start_time": "2022-01-10T13:58:33.858Z"
   },
   {
    "duration": 26,
    "start_time": "2022-01-10T14:04:55.150Z"
   },
   {
    "duration": 300,
    "start_time": "2022-01-10T14:05:17.531Z"
   },
   {
    "duration": 283,
    "start_time": "2022-01-10T14:07:37.794Z"
   },
   {
    "duration": 29,
    "start_time": "2022-01-10T14:07:54.656Z"
   },
   {
    "duration": 19,
    "start_time": "2022-01-10T14:08:03.499Z"
   },
   {
    "duration": 289,
    "start_time": "2022-01-10T14:08:39.040Z"
   },
   {
    "duration": 21,
    "start_time": "2022-01-10T14:08:56.368Z"
   },
   {
    "duration": 284,
    "start_time": "2022-01-10T14:09:45.075Z"
   },
   {
    "duration": 326,
    "start_time": "2022-01-10T14:10:00.976Z"
   },
   {
    "duration": 23,
    "start_time": "2022-01-10T14:10:48.289Z"
   },
   {
    "duration": 23,
    "start_time": "2022-01-10T14:11:15.227Z"
   },
   {
    "duration": 22,
    "start_time": "2022-01-10T14:37:14.286Z"
   },
   {
    "duration": 317,
    "start_time": "2022-01-10T14:37:27.613Z"
   },
   {
    "duration": 281,
    "start_time": "2022-01-10T14:41:22.661Z"
   },
   {
    "duration": 20,
    "start_time": "2022-01-10T14:41:51.565Z"
   },
   {
    "duration": 21,
    "start_time": "2022-01-10T14:42:05.634Z"
   },
   {
    "duration": 21,
    "start_time": "2022-01-10T14:42:21.106Z"
   },
   {
    "duration": 25,
    "start_time": "2022-01-10T14:43:03.123Z"
   },
   {
    "duration": 20,
    "start_time": "2022-01-10T14:43:10.510Z"
   },
   {
    "duration": 19,
    "start_time": "2022-01-10T14:43:21.179Z"
   },
   {
    "duration": 19,
    "start_time": "2022-01-10T14:43:32.175Z"
   },
   {
    "duration": 283,
    "start_time": "2022-01-10T14:44:18.252Z"
   },
   {
    "duration": 20,
    "start_time": "2022-01-10T14:44:41.652Z"
   },
   {
    "duration": 19,
    "start_time": "2022-01-10T14:45:15.473Z"
   },
   {
    "duration": 32,
    "start_time": "2022-01-10T14:54:20.169Z"
   },
   {
    "duration": 50,
    "start_time": "2022-01-10T14:54:27.316Z"
   },
   {
    "duration": 59,
    "start_time": "2022-01-10T14:54:51.719Z"
   },
   {
    "duration": 92,
    "start_time": "2022-01-10T14:55:07.458Z"
   },
   {
    "duration": 159,
    "start_time": "2022-01-10T14:55:07.553Z"
   },
   {
    "duration": 277,
    "start_time": "2022-01-10T14:55:07.715Z"
   },
   {
    "duration": 309,
    "start_time": "2022-01-10T14:55:07.995Z"
   },
   {
    "duration": 286,
    "start_time": "2022-01-10T14:55:08.306Z"
   },
   {
    "duration": 380,
    "start_time": "2022-01-10T14:55:08.594Z"
   },
   {
    "duration": 59,
    "start_time": "2022-01-10T14:55:19.418Z"
   },
   {
    "duration": 59,
    "start_time": "2022-01-10T14:55:36.463Z"
   },
   {
    "duration": 73,
    "start_time": "2022-01-10T14:55:51.526Z"
   },
   {
    "duration": 193,
    "start_time": "2022-01-10T14:55:59.027Z"
   },
   {
    "duration": 58,
    "start_time": "2022-01-10T14:56:02.485Z"
   },
   {
    "duration": 86,
    "start_time": "2022-01-10T14:56:14.934Z"
   },
   {
    "duration": 264,
    "start_time": "2022-01-10T14:56:15.023Z"
   },
   {
    "duration": 331,
    "start_time": "2022-01-10T14:56:15.290Z"
   },
   {
    "duration": 260,
    "start_time": "2022-01-10T14:56:15.624Z"
   },
   {
    "duration": 213,
    "start_time": "2022-01-10T14:56:15.887Z"
   },
   {
    "duration": 279,
    "start_time": "2022-01-10T14:56:16.102Z"
   },
   {
    "duration": 74,
    "start_time": "2022-01-10T14:56:22.530Z"
   },
   {
    "duration": 6,
    "start_time": "2022-01-10T15:00:15.493Z"
   },
   {
    "duration": 87,
    "start_time": "2022-01-10T15:00:42.729Z"
   },
   {
    "duration": 197,
    "start_time": "2022-01-10T15:00:42.819Z"
   },
   {
    "duration": 219,
    "start_time": "2022-01-10T15:00:43.019Z"
   },
   {
    "duration": 242,
    "start_time": "2022-01-10T15:00:43.241Z"
   },
   {
    "duration": 209,
    "start_time": "2022-01-10T15:00:43.486Z"
   },
   {
    "duration": 236,
    "start_time": "2022-01-10T15:00:43.698Z"
   },
   {
    "duration": 247,
    "start_time": "2022-01-10T15:00:43.937Z"
   },
   {
    "duration": 7,
    "start_time": "2022-01-10T15:02:18.410Z"
   },
   {
    "duration": 8,
    "start_time": "2022-01-10T15:03:06.427Z"
   },
   {
    "duration": 9,
    "start_time": "2022-01-10T15:03:17.377Z"
   },
   {
    "duration": 7,
    "start_time": "2022-01-10T15:03:30.656Z"
   },
   {
    "duration": 8,
    "start_time": "2022-01-10T15:03:41.427Z"
   },
   {
    "duration": 8,
    "start_time": "2022-01-10T15:04:45.788Z"
   },
   {
    "duration": 87,
    "start_time": "2022-01-10T15:13:56.702Z"
   },
   {
    "duration": 7910,
    "start_time": "2022-01-10T15:14:02.600Z"
   },
   {
    "duration": 7,
    "start_time": "2022-01-10T15:14:23.117Z"
   },
   {
    "duration": 7751,
    "start_time": "2022-01-10T15:38:20.417Z"
   },
   {
    "duration": 74,
    "start_time": "2022-01-10T15:38:46.866Z"
   },
   {
    "duration": 148,
    "start_time": "2022-01-10T15:38:46.944Z"
   },
   {
    "duration": 240,
    "start_time": "2022-01-10T15:38:47.096Z"
   },
   {
    "duration": 187,
    "start_time": "2022-01-10T15:38:47.339Z"
   },
   {
    "duration": 210,
    "start_time": "2022-01-10T15:38:47.528Z"
   },
   {
    "duration": 177,
    "start_time": "2022-01-10T15:38:47.741Z"
   },
   {
    "duration": 172,
    "start_time": "2022-01-10T15:38:47.920Z"
   },
   {
    "duration": 68,
    "start_time": "2022-01-10T15:39:18.598Z"
   },
   {
    "duration": 190,
    "start_time": "2022-01-10T15:39:18.668Z"
   },
   {
    "duration": 217,
    "start_time": "2022-01-10T15:39:18.861Z"
   },
   {
    "duration": 291,
    "start_time": "2022-01-10T15:39:19.081Z"
   },
   {
    "duration": 211,
    "start_time": "2022-01-10T15:39:19.375Z"
   },
   {
    "duration": 193,
    "start_time": "2022-01-10T15:39:19.589Z"
   },
   {
    "duration": 7,
    "start_time": "2022-01-10T15:41:49.619Z"
   },
   {
    "duration": 9,
    "start_time": "2022-01-10T15:41:58.704Z"
   },
   {
    "duration": 11,
    "start_time": "2022-01-10T15:45:44.779Z"
   },
   {
    "duration": 11,
    "start_time": "2022-01-10T15:55:04.591Z"
   },
   {
    "duration": 8,
    "start_time": "2022-01-10T15:55:09.314Z"
   },
   {
    "duration": 45,
    "start_time": "2022-01-10T16:01:23.559Z"
   },
   {
    "duration": 30,
    "start_time": "2022-01-10T16:04:35.871Z"
   },
   {
    "duration": 72,
    "start_time": "2022-01-10T16:12:31.784Z"
   },
   {
    "duration": 7,
    "start_time": "2022-01-10T16:12:31.859Z"
   },
   {
    "duration": 6,
    "start_time": "2022-01-10T16:12:31.869Z"
   },
   {
    "duration": 6,
    "start_time": "2022-01-10T16:12:31.878Z"
   },
   {
    "duration": 44,
    "start_time": "2022-01-10T16:12:31.887Z"
   },
   {
    "duration": 14,
    "start_time": "2022-01-10T16:12:31.933Z"
   },
   {
    "duration": 15,
    "start_time": "2022-01-10T16:12:31.950Z"
   },
   {
    "duration": 56,
    "start_time": "2022-01-10T16:12:31.969Z"
   },
   {
    "duration": 18,
    "start_time": "2022-01-10T16:20:14.152Z"
   },
   {
    "duration": 11,
    "start_time": "2022-01-10T16:32:20.407Z"
   },
   {
    "duration": 23,
    "start_time": "2022-01-10T16:32:31.710Z"
   },
   {
    "duration": 6,
    "start_time": "2022-01-10T16:33:11.863Z"
   },
   {
    "duration": 34,
    "start_time": "2022-01-10T16:36:06.562Z"
   },
   {
    "duration": 66,
    "start_time": "2022-01-10T16:36:20.490Z"
   },
   {
    "duration": 6,
    "start_time": "2022-01-10T16:36:20.559Z"
   },
   {
    "duration": 5,
    "start_time": "2022-01-10T16:36:20.568Z"
   },
   {
    "duration": 9,
    "start_time": "2022-01-10T16:36:20.576Z"
   },
   {
    "duration": 38,
    "start_time": "2022-01-10T16:36:20.587Z"
   },
   {
    "duration": 8,
    "start_time": "2022-01-10T16:36:20.627Z"
   },
   {
    "duration": 8,
    "start_time": "2022-01-10T16:36:20.637Z"
   },
   {
    "duration": 29,
    "start_time": "2022-01-10T16:36:20.648Z"
   },
   {
    "duration": 46,
    "start_time": "2022-01-10T16:36:20.680Z"
   },
   {
    "duration": 301,
    "start_time": "2022-01-11T10:51:54.756Z"
   },
   {
    "duration": 2480,
    "start_time": "2022-01-11T10:52:04.603Z"
   },
   {
    "duration": -36,
    "start_time": "2022-01-11T10:52:07.122Z"
   },
   {
    "duration": -43,
    "start_time": "2022-01-11T10:52:07.130Z"
   },
   {
    "duration": -56,
    "start_time": "2022-01-11T10:52:07.145Z"
   },
   {
    "duration": -61,
    "start_time": "2022-01-11T10:52:07.152Z"
   },
   {
    "duration": -63,
    "start_time": "2022-01-11T10:52:07.155Z"
   },
   {
    "duration": -64,
    "start_time": "2022-01-11T10:52:07.158Z"
   },
   {
    "duration": -65,
    "start_time": "2022-01-11T10:52:07.160Z"
   },
   {
    "duration": -67,
    "start_time": "2022-01-11T10:52:07.163Z"
   },
   {
    "duration": 70,
    "start_time": "2022-01-11T10:52:39.080Z"
   },
   {
    "duration": 7,
    "start_time": "2022-01-11T10:52:39.153Z"
   },
   {
    "duration": 8,
    "start_time": "2022-01-11T10:52:39.163Z"
   },
   {
    "duration": 10,
    "start_time": "2022-01-11T10:52:39.173Z"
   },
   {
    "duration": 34,
    "start_time": "2022-01-11T10:52:39.185Z"
   },
   {
    "duration": 9,
    "start_time": "2022-01-11T10:52:39.221Z"
   },
   {
    "duration": 8,
    "start_time": "2022-01-11T10:52:39.232Z"
   },
   {
    "duration": 31,
    "start_time": "2022-01-11T10:52:39.243Z"
   },
   {
    "duration": 42,
    "start_time": "2022-01-11T10:52:39.277Z"
   },
   {
    "duration": 6,
    "start_time": "2022-01-11T11:02:20.592Z"
   },
   {
    "duration": 376,
    "start_time": "2022-01-11T11:02:53.967Z"
   },
   {
    "duration": 335,
    "start_time": "2022-01-11T11:03:07.280Z"
   },
   {
    "duration": 395,
    "start_time": "2022-01-11T11:03:14.004Z"
   },
   {
    "duration": 645,
    "start_time": "2022-01-11T11:03:58.390Z"
   },
   {
    "duration": 254,
    "start_time": "2022-01-11T11:04:10.894Z"
   },
   {
    "duration": 633,
    "start_time": "2022-01-11T11:05:07.676Z"
   },
   {
    "duration": 651,
    "start_time": "2022-01-11T11:10:47.222Z"
   },
   {
    "duration": 730,
    "start_time": "2022-01-11T11:11:08.733Z"
   },
   {
    "duration": 82,
    "start_time": "2022-01-11T11:11:51.715Z"
   },
   {
    "duration": 738,
    "start_time": "2022-01-11T11:11:58.011Z"
   },
   {
    "duration": 612,
    "start_time": "2022-01-11T11:12:14.551Z"
   },
   {
    "duration": 7004,
    "start_time": "2022-01-11T11:13:04.125Z"
   },
   {
    "duration": 554,
    "start_time": "2022-01-11T11:13:38.695Z"
   },
   {
    "duration": 634,
    "start_time": "2022-01-11T11:15:36.493Z"
   },
   {
    "duration": 99,
    "start_time": "2022-01-11T11:15:51.928Z"
   },
   {
    "duration": 85,
    "start_time": "2022-01-11T11:15:55.713Z"
   },
   {
    "duration": 571,
    "start_time": "2022-01-11T11:16:04.995Z"
   },
   {
    "duration": 94,
    "start_time": "2022-01-11T11:16:15.583Z"
   },
   {
    "duration": 678,
    "start_time": "2022-01-11T11:16:29.904Z"
   },
   {
    "duration": 756,
    "start_time": "2022-01-11T11:16:46.376Z"
   },
   {
    "duration": 638,
    "start_time": "2022-01-11T11:17:05.291Z"
   },
   {
    "duration": 659,
    "start_time": "2022-01-11T11:17:49.674Z"
   },
   {
    "duration": 617,
    "start_time": "2022-01-11T11:17:57.561Z"
   },
   {
    "duration": 631,
    "start_time": "2022-01-11T11:18:23.622Z"
   },
   {
    "duration": 893,
    "start_time": "2022-01-11T11:18:36.384Z"
   },
   {
    "duration": 885,
    "start_time": "2022-01-11T11:18:56.674Z"
   },
   {
    "duration": 790,
    "start_time": "2022-01-11T11:19:01.822Z"
   },
   {
    "duration": 661,
    "start_time": "2022-01-11T11:19:45.321Z"
   },
   {
    "duration": 672,
    "start_time": "2022-01-11T11:20:26.410Z"
   },
   {
    "duration": 551,
    "start_time": "2022-01-11T11:22:03.623Z"
   },
   {
    "duration": 657,
    "start_time": "2022-01-11T11:22:07.744Z"
   },
   {
    "duration": 696,
    "start_time": "2022-01-11T11:22:27.125Z"
   },
   {
    "duration": 651,
    "start_time": "2022-01-11T11:22:56.430Z"
   },
   {
    "duration": 653,
    "start_time": "2022-01-11T11:23:05.289Z"
   },
   {
    "duration": 895,
    "start_time": "2022-01-11T11:26:15.454Z"
   },
   {
    "duration": 679,
    "start_time": "2022-01-11T11:26:26.609Z"
   },
   {
    "duration": 643,
    "start_time": "2022-01-11T11:26:43.402Z"
   },
   {
    "duration": 673,
    "start_time": "2022-01-11T11:28:05.096Z"
   },
   {
    "duration": 83,
    "start_time": "2022-01-11T11:34:41.457Z"
   },
   {
    "duration": 704,
    "start_time": "2022-01-11T11:34:50.374Z"
   },
   {
    "duration": 688,
    "start_time": "2022-01-11T11:35:03.704Z"
   },
   {
    "duration": 663,
    "start_time": "2022-01-11T11:35:48.456Z"
   },
   {
    "duration": 725,
    "start_time": "2022-01-11T11:35:54.792Z"
   },
   {
    "duration": 81,
    "start_time": "2022-01-11T11:35:59.552Z"
   },
   {
    "duration": 840,
    "start_time": "2022-01-11T11:36:06.907Z"
   },
   {
    "duration": 13,
    "start_time": "2022-01-11T11:37:06.327Z"
   },
   {
    "duration": 14,
    "start_time": "2022-01-11T11:44:19.058Z"
   },
   {
    "duration": 7,
    "start_time": "2022-01-11T11:45:41.834Z"
   },
   {
    "duration": 15,
    "start_time": "2022-01-11T11:46:12.012Z"
   },
   {
    "duration": 268,
    "start_time": "2022-01-11T11:49:11.078Z"
   },
   {
    "duration": 248,
    "start_time": "2022-01-11T11:49:28.603Z"
   },
   {
    "duration": 261,
    "start_time": "2022-01-11T11:50:16.560Z"
   },
   {
    "duration": 17,
    "start_time": "2022-01-11T11:51:17.658Z"
   },
   {
    "duration": 15,
    "start_time": "2022-01-11T11:51:26.579Z"
   },
   {
    "duration": 613,
    "start_time": "2022-01-11T11:55:31.214Z"
   },
   {
    "duration": 581,
    "start_time": "2022-01-11T11:57:24.201Z"
   },
   {
    "duration": 7518,
    "start_time": "2022-01-11T12:01:28.967Z"
   },
   {
    "duration": 614,
    "start_time": "2022-01-11T12:02:59.272Z"
   },
   {
    "duration": 553,
    "start_time": "2022-01-11T12:03:09.377Z"
   },
   {
    "duration": 590,
    "start_time": "2022-01-11T12:03:29.915Z"
   },
   {
    "duration": 552,
    "start_time": "2022-01-11T12:03:36.434Z"
   },
   {
    "duration": 586,
    "start_time": "2022-01-11T12:03:43.401Z"
   },
   {
    "duration": 654,
    "start_time": "2022-01-11T12:04:24.252Z"
   },
   {
    "duration": 563,
    "start_time": "2022-01-11T12:09:57.262Z"
   },
   {
    "duration": 825,
    "start_time": "2022-01-11T12:10:18.557Z"
   },
   {
    "duration": 546,
    "start_time": "2022-01-11T12:10:31.715Z"
   },
   {
    "duration": 584,
    "start_time": "2022-01-11T12:10:53.368Z"
   },
   {
    "duration": 7652,
    "start_time": "2022-01-11T12:26:10.789Z"
   },
   {
    "duration": 6526,
    "start_time": "2022-01-11T12:26:32.097Z"
   },
   {
    "duration": 7060,
    "start_time": "2022-01-11T12:29:23.168Z"
   },
   {
    "duration": 310,
    "start_time": "2022-01-11T12:29:48.726Z"
   },
   {
    "duration": 63,
    "start_time": "2022-01-11T12:30:09.065Z"
   },
   {
    "duration": 70,
    "start_time": "2022-01-11T12:30:24.330Z"
   },
   {
    "duration": 66,
    "start_time": "2022-01-11T12:30:47.499Z"
   },
   {
    "duration": 22,
    "start_time": "2022-01-11T12:33:02.497Z"
   },
   {
    "duration": 291,
    "start_time": "2022-01-11T12:33:13.666Z"
   },
   {
    "duration": 18,
    "start_time": "2022-01-11T12:33:32.988Z"
   },
   {
    "duration": 2767,
    "start_time": "2022-01-11T12:33:58.521Z"
   },
   {
    "duration": 708,
    "start_time": "2022-01-11T12:34:50.182Z"
   },
   {
    "duration": 669,
    "start_time": "2022-01-11T12:35:36.385Z"
   },
   {
    "duration": 697,
    "start_time": "2022-01-11T12:35:54.770Z"
   },
   {
    "duration": 717,
    "start_time": "2022-01-11T12:36:03.241Z"
   },
   {
    "duration": 702,
    "start_time": "2022-01-11T12:36:21.943Z"
   },
   {
    "duration": 779,
    "start_time": "2022-01-11T12:36:34.701Z"
   },
   {
    "duration": 734,
    "start_time": "2022-01-11T12:37:16.641Z"
   },
   {
    "duration": 428,
    "start_time": "2022-01-11T12:38:16.384Z"
   },
   {
    "duration": 701,
    "start_time": "2022-01-11T12:38:39.378Z"
   },
   {
    "duration": 72,
    "start_time": "2022-01-11T12:40:14.269Z"
   },
   {
    "duration": 6,
    "start_time": "2022-01-11T12:40:14.344Z"
   },
   {
    "duration": 8,
    "start_time": "2022-01-11T12:40:14.353Z"
   },
   {
    "duration": 8,
    "start_time": "2022-01-11T12:40:14.363Z"
   },
   {
    "duration": 10,
    "start_time": "2022-01-11T12:40:14.374Z"
   },
   {
    "duration": 35,
    "start_time": "2022-01-11T12:40:14.386Z"
   },
   {
    "duration": 13,
    "start_time": "2022-01-11T12:40:14.424Z"
   },
   {
    "duration": 32,
    "start_time": "2022-01-11T12:40:14.442Z"
   },
   {
    "duration": 44,
    "start_time": "2022-01-11T12:40:14.477Z"
   },
   {
    "duration": 937,
    "start_time": "2022-01-11T12:40:14.525Z"
   },
   {
    "duration": 14,
    "start_time": "2022-01-11T12:40:15.466Z"
   },
   {
    "duration": 649,
    "start_time": "2022-01-11T12:40:15.482Z"
   },
   {
    "duration": 17,
    "start_time": "2022-01-11T12:40:16.133Z"
   },
   {
    "duration": 763,
    "start_time": "2022-01-11T12:40:16.153Z"
   },
   {
    "duration": -235,
    "start_time": "2022-01-11T12:40:17.153Z"
   },
   {
    "duration": 791,
    "start_time": "2022-01-11T12:42:13.772Z"
   },
   {
    "duration": 692,
    "start_time": "2022-01-11T12:42:25.183Z"
   },
   {
    "duration": 436,
    "start_time": "2022-01-11T12:45:46.159Z"
   },
   {
    "duration": 765,
    "start_time": "2022-01-11T12:45:56.834Z"
   },
   {
    "duration": 690,
    "start_time": "2022-01-11T12:47:23.827Z"
   },
   {
    "duration": 761,
    "start_time": "2022-01-11T12:47:37.242Z"
   },
   {
    "duration": 719,
    "start_time": "2022-01-11T12:47:45.684Z"
   },
   {
    "duration": 691,
    "start_time": "2022-01-11T12:48:02.560Z"
   },
   {
    "duration": 690,
    "start_time": "2022-01-11T12:50:33.250Z"
   },
   {
    "duration": 1170,
    "start_time": "2022-01-11T12:53:48.733Z"
   },
   {
    "duration": 668,
    "start_time": "2022-01-11T13:03:59.795Z"
   },
   {
    "duration": 597,
    "start_time": "2022-01-11T13:15:39.761Z"
   },
   {
    "duration": 687,
    "start_time": "2022-01-11T13:16:43.552Z"
   },
   {
    "duration": 78,
    "start_time": "2022-01-11T13:17:25.291Z"
   },
   {
    "duration": 112,
    "start_time": "2022-01-11T13:17:25.372Z"
   },
   {
    "duration": 172,
    "start_time": "2022-01-11T13:17:25.487Z"
   },
   {
    "duration": 90,
    "start_time": "2022-01-11T13:17:25.663Z"
   },
   {
    "duration": 131,
    "start_time": "2022-01-11T13:17:25.756Z"
   },
   {
    "duration": 157,
    "start_time": "2022-01-11T13:17:25.890Z"
   },
   {
    "duration": 150,
    "start_time": "2022-01-11T13:17:26.050Z"
   },
   {
    "duration": 104,
    "start_time": "2022-01-11T13:17:26.204Z"
   },
   {
    "duration": 19,
    "start_time": "2022-01-11T13:17:26.311Z"
   },
   {
    "duration": 749,
    "start_time": "2022-01-11T13:17:26.333Z"
   },
   {
    "duration": 14,
    "start_time": "2022-01-11T13:17:27.084Z"
   },
   {
    "duration": 932,
    "start_time": "2022-01-11T13:17:27.118Z"
   },
   {
    "duration": 20,
    "start_time": "2022-01-11T13:17:28.053Z"
   },
   {
    "duration": 552,
    "start_time": "2022-01-11T13:17:28.076Z"
   },
   {
    "duration": 6,
    "start_time": "2022-01-11T13:17:28.630Z"
   },
   {
    "duration": 722,
    "start_time": "2022-01-11T13:17:44.864Z"
   },
   {
    "duration": 434,
    "start_time": "2022-01-11T13:18:09.779Z"
   },
   {
    "duration": 427,
    "start_time": "2022-01-11T13:35:07.183Z"
   },
   {
    "duration": 74,
    "start_time": "2022-01-11T13:35:39.625Z"
   },
   {
    "duration": 136,
    "start_time": "2022-01-11T13:35:39.703Z"
   },
   {
    "duration": 99,
    "start_time": "2022-01-11T13:35:39.843Z"
   },
   {
    "duration": 169,
    "start_time": "2022-01-11T13:35:39.944Z"
   },
   {
    "duration": 87,
    "start_time": "2022-01-11T13:35:40.115Z"
   },
   {
    "duration": 277,
    "start_time": "2022-01-11T13:35:40.204Z"
   },
   {
    "duration": 179,
    "start_time": "2022-01-11T13:35:40.484Z"
   },
   {
    "duration": 189,
    "start_time": "2022-01-11T13:35:40.667Z"
   },
   {
    "duration": 113,
    "start_time": "2022-01-11T13:35:40.859Z"
   },
   {
    "duration": 787,
    "start_time": "2022-01-11T13:35:40.975Z"
   },
   {
    "duration": 17,
    "start_time": "2022-01-11T13:35:41.766Z"
   },
   {
    "duration": 921,
    "start_time": "2022-01-11T13:35:41.786Z"
   },
   {
    "duration": 27,
    "start_time": "2022-01-11T13:35:42.710Z"
   },
   {
    "duration": 617,
    "start_time": "2022-01-11T13:35:42.740Z"
   },
   {
    "duration": 6,
    "start_time": "2022-01-11T13:35:43.360Z"
   },
   {
    "duration": 747,
    "start_time": "2022-01-11T13:35:51.048Z"
   },
   {
    "duration": 72,
    "start_time": "2022-01-11T13:37:52.335Z"
   },
   {
    "duration": 7540,
    "start_time": "2022-01-11T13:37:59.615Z"
   },
   {
    "duration": 73,
    "start_time": "2022-01-11T13:38:22.282Z"
   },
   {
    "duration": 732,
    "start_time": "2022-01-11T13:38:22.358Z"
   },
   {
    "duration": 297,
    "start_time": "2022-01-11T13:38:23.094Z"
   },
   {
    "duration": 451,
    "start_time": "2022-01-11T13:38:23.394Z"
   },
   {
    "duration": 268,
    "start_time": "2022-01-11T13:38:23.848Z"
   },
   {
    "duration": 314,
    "start_time": "2022-01-11T13:38:24.119Z"
   },
   {
    "duration": 527,
    "start_time": "2022-01-11T13:38:24.435Z"
   },
   {
    "duration": 459,
    "start_time": "2022-01-11T13:38:24.966Z"
   },
   {
    "duration": 273,
    "start_time": "2022-01-11T13:38:25.428Z"
   },
   {
    "duration": 724,
    "start_time": "2022-01-11T13:38:25.704Z"
   },
   {
    "duration": 14,
    "start_time": "2022-01-11T13:38:26.431Z"
   },
   {
    "duration": 1246,
    "start_time": "2022-01-11T13:38:26.448Z"
   },
   {
    "duration": 30,
    "start_time": "2022-01-11T13:38:27.696Z"
   },
   {
    "duration": 1296,
    "start_time": "2022-01-11T13:38:27.729Z"
   },
   {
    "duration": -521,
    "start_time": "2022-01-11T13:38:29.550Z"
   },
   {
    "duration": 217,
    "start_time": "2022-01-11T19:54:53.717Z"
   },
   {
    "duration": 1117,
    "start_time": "2022-01-11T19:55:26.270Z"
   },
   {
    "duration": 4,
    "start_time": "2022-01-11T19:55:27.389Z"
   },
   {
    "duration": 4,
    "start_time": "2022-01-11T19:55:27.395Z"
   },
   {
    "duration": 6,
    "start_time": "2022-01-11T19:55:27.401Z"
   },
   {
    "duration": 7,
    "start_time": "2022-01-11T19:55:27.408Z"
   },
   {
    "duration": 5,
    "start_time": "2022-01-11T19:55:27.416Z"
   },
   {
    "duration": 6,
    "start_time": "2022-01-11T19:55:27.422Z"
   },
   {
    "duration": 21,
    "start_time": "2022-01-11T19:55:27.430Z"
   },
   {
    "duration": 42,
    "start_time": "2022-01-11T19:55:27.452Z"
   },
   {
    "duration": 415,
    "start_time": "2022-01-11T19:55:27.495Z"
   },
   {
    "duration": 9,
    "start_time": "2022-01-11T19:55:27.912Z"
   },
   {
    "duration": 371,
    "start_time": "2022-01-11T19:55:27.922Z"
   },
   {
    "duration": 12,
    "start_time": "2022-01-11T19:55:33.530Z"
   },
   {
    "duration": 10,
    "start_time": "2022-01-11T19:55:53.314Z"
   },
   {
    "duration": 286,
    "start_time": "2022-01-11T19:57:39.389Z"
   },
   {
    "duration": 415,
    "start_time": "2022-01-11T19:57:51.425Z"
   },
   {
    "duration": 358,
    "start_time": "2022-01-11T19:58:12.408Z"
   },
   {
    "duration": 285,
    "start_time": "2022-01-11T19:58:34.448Z"
   },
   {
    "duration": 376,
    "start_time": "2022-01-11T19:58:40.542Z"
   },
   {
    "duration": 13,
    "start_time": "2022-01-11T19:59:18.010Z"
   },
   {
    "duration": 320,
    "start_time": "2022-01-11T19:59:55.719Z"
   },
   {
    "duration": 1396,
    "start_time": "2022-01-11T20:00:05.469Z"
   },
   {
    "duration": 11,
    "start_time": "2022-01-11T20:01:45.513Z"
   },
   {
    "duration": 14,
    "start_time": "2022-01-11T20:01:55.545Z"
   },
   {
    "duration": 11,
    "start_time": "2022-01-11T20:02:02.627Z"
   },
   {
    "duration": 13,
    "start_time": "2022-01-11T20:02:41.201Z"
   },
   {
    "duration": 322,
    "start_time": "2022-01-11T20:03:05.605Z"
   },
   {
    "duration": 1474,
    "start_time": "2022-01-11T20:03:16.801Z"
   },
   {
    "duration": 1485,
    "start_time": "2022-01-11T20:03:46.256Z"
   },
   {
    "duration": 13,
    "start_time": "2022-01-11T20:03:56.057Z"
   },
   {
    "duration": 12,
    "start_time": "2022-01-11T20:04:17.129Z"
   },
   {
    "duration": 10,
    "start_time": "2022-01-11T20:05:08.809Z"
   },
   {
    "duration": 9,
    "start_time": "2022-01-11T20:05:20.675Z"
   },
   {
    "duration": 16,
    "start_time": "2022-01-11T20:05:30.003Z"
   },
   {
    "duration": 262,
    "start_time": "2022-01-11T20:05:36.253Z"
   },
   {
    "duration": 11,
    "start_time": "2022-01-11T20:06:05.316Z"
   },
   {
    "duration": 10,
    "start_time": "2022-01-11T20:08:40.730Z"
   },
   {
    "duration": 9,
    "start_time": "2022-01-11T20:08:48.840Z"
   },
   {
    "duration": 345,
    "start_time": "2022-01-11T20:10:34.980Z"
   },
   {
    "duration": 359,
    "start_time": "2022-01-11T20:10:39.962Z"
   },
   {
    "duration": 347,
    "start_time": "2022-01-11T20:10:50.704Z"
   },
   {
    "duration": 392,
    "start_time": "2022-01-11T20:10:58.545Z"
   },
   {
    "duration": 415,
    "start_time": "2022-01-11T20:11:12.703Z"
   },
   {
    "duration": 9,
    "start_time": "2022-01-11T20:12:03.097Z"
   },
   {
    "duration": 404,
    "start_time": "2022-01-11T20:12:47.069Z"
   },
   {
    "duration": 392,
    "start_time": "2022-01-11T20:12:55.573Z"
   },
   {
    "duration": 325,
    "start_time": "2022-01-11T20:14:06.215Z"
   },
   {
    "duration": 360,
    "start_time": "2022-01-11T20:15:02.249Z"
   },
   {
    "duration": 362,
    "start_time": "2022-01-11T20:23:46.720Z"
   },
   {
    "duration": 1494,
    "start_time": "2022-01-11T20:24:57.915Z"
   },
   {
    "duration": 341,
    "start_time": "2022-01-11T20:25:06.682Z"
   },
   {
    "duration": 10,
    "start_time": "2022-01-11T20:43:26.579Z"
   },
   {
    "duration": 9,
    "start_time": "2022-01-11T20:43:31.563Z"
   },
   {
    "duration": 10,
    "start_time": "2022-01-11T20:43:37.568Z"
   },
   {
    "duration": 8,
    "start_time": "2022-01-11T20:43:50.145Z"
   },
   {
    "duration": 11,
    "start_time": "2022-01-11T20:43:57.812Z"
   },
   {
    "duration": 9,
    "start_time": "2022-01-11T20:47:24.559Z"
   },
   {
    "duration": 11,
    "start_time": "2022-01-11T20:47:35.590Z"
   },
   {
    "duration": 10,
    "start_time": "2022-01-11T20:48:42.593Z"
   },
   {
    "duration": 10,
    "start_time": "2022-01-11T20:48:51.830Z"
   },
   {
    "duration": 4,
    "start_time": "2022-01-11T20:54:21.810Z"
   },
   {
    "duration": 58,
    "start_time": "2022-01-11T20:59:57.290Z"
   },
   {
    "duration": 96,
    "start_time": "2022-01-11T21:00:01.234Z"
   },
   {
    "duration": 187,
    "start_time": "2022-01-11T21:00:09.260Z"
   },
   {
    "duration": 32,
    "start_time": "2022-01-11T21:00:19.070Z"
   },
   {
    "duration": 34,
    "start_time": "2022-01-11T21:00:33.093Z"
   },
   {
    "duration": 32,
    "start_time": "2022-01-11T21:03:22.357Z"
   },
   {
    "duration": 32,
    "start_time": "2022-01-11T21:03:41.782Z"
   },
   {
    "duration": 33,
    "start_time": "2022-01-11T21:04:21.931Z"
   },
   {
    "duration": 41,
    "start_time": "2022-01-11T21:05:48.744Z"
   },
   {
    "duration": 31,
    "start_time": "2022-01-11T21:06:12.020Z"
   },
   {
    "duration": 33,
    "start_time": "2022-01-11T21:06:24.601Z"
   },
   {
    "duration": 34,
    "start_time": "2022-01-11T21:06:34.657Z"
   },
   {
    "duration": 33,
    "start_time": "2022-01-11T21:07:53.013Z"
   },
   {
    "duration": 33,
    "start_time": "2022-01-11T21:12:11.849Z"
   },
   {
    "duration": 34,
    "start_time": "2022-01-11T21:13:28.707Z"
   },
   {
    "duration": 32,
    "start_time": "2022-01-11T21:14:17.890Z"
   },
   {
    "duration": 54,
    "start_time": "2022-01-11T21:15:54.508Z"
   },
   {
    "duration": 1528,
    "start_time": "2022-01-11T21:16:01.527Z"
   },
   {
    "duration": 1699,
    "start_time": "2022-01-11T21:16:30.244Z"
   },
   {
    "duration": 14,
    "start_time": "2022-01-11T21:17:08.624Z"
   },
   {
    "duration": 22,
    "start_time": "2022-01-11T21:18:03.447Z"
   },
   {
    "duration": 26,
    "start_time": "2022-01-11T21:18:11.377Z"
   },
   {
    "duration": 1446,
    "start_time": "2022-01-11T21:19:01.217Z"
   },
   {
    "duration": 26,
    "start_time": "2022-01-11T21:19:47.931Z"
   },
   {
    "duration": 346,
    "start_time": "2022-01-11T21:20:05.939Z"
   },
   {
    "duration": 330,
    "start_time": "2022-01-11T21:20:48.325Z"
   },
   {
    "duration": 335,
    "start_time": "2022-01-11T21:20:54.979Z"
   },
   {
    "duration": 332,
    "start_time": "2022-01-11T21:21:18.108Z"
   },
   {
    "duration": 339,
    "start_time": "2022-01-11T21:27:51.252Z"
   },
   {
    "duration": 343,
    "start_time": "2022-01-11T21:28:02.041Z"
   },
   {
    "duration": 358,
    "start_time": "2022-01-11T21:28:08.973Z"
   },
   {
    "duration": 359,
    "start_time": "2022-01-11T21:28:18.429Z"
   },
   {
    "duration": 367,
    "start_time": "2022-01-11T21:28:31.240Z"
   },
   {
    "duration": 498,
    "start_time": "2022-01-11T21:31:22.943Z"
   },
   {
    "duration": 481,
    "start_time": "2022-01-11T21:31:50.351Z"
   },
   {
    "duration": 341,
    "start_time": "2022-01-11T21:32:04.986Z"
   },
   {
    "duration": 358,
    "start_time": "2022-01-11T21:32:24.411Z"
   },
   {
    "duration": 338,
    "start_time": "2022-01-11T21:32:33.518Z"
   },
   {
    "duration": 15,
    "start_time": "2022-01-11T22:06:20.562Z"
   },
   {
    "duration": 19,
    "start_time": "2022-01-11T22:06:40.191Z"
   },
   {
    "duration": 19,
    "start_time": "2022-01-11T22:06:44.568Z"
   },
   {
    "duration": 1392,
    "start_time": "2022-01-11T22:13:48.027Z"
   },
   {
    "duration": 449,
    "start_time": "2022-01-11T22:14:13.021Z"
   },
   {
    "duration": 54,
    "start_time": "2022-01-11T22:18:35.568Z"
   },
   {
    "duration": 5,
    "start_time": "2022-01-11T22:18:35.624Z"
   },
   {
    "duration": 5,
    "start_time": "2022-01-11T22:18:35.632Z"
   },
   {
    "duration": 5,
    "start_time": "2022-01-11T22:18:35.640Z"
   },
   {
    "duration": 9,
    "start_time": "2022-01-11T22:18:35.647Z"
   },
   {
    "duration": 43,
    "start_time": "2022-01-11T22:18:35.658Z"
   },
   {
    "duration": 16,
    "start_time": "2022-01-11T22:18:35.703Z"
   },
   {
    "duration": 28,
    "start_time": "2022-01-11T22:18:35.722Z"
   },
   {
    "duration": 5,
    "start_time": "2022-01-11T22:18:35.752Z"
   },
   {
    "duration": 391,
    "start_time": "2022-01-11T22:18:35.758Z"
   },
   {
    "duration": 7,
    "start_time": "2022-01-11T22:18:36.151Z"
   },
   {
    "duration": 482,
    "start_time": "2022-01-11T22:18:36.160Z"
   },
   {
    "duration": 10,
    "start_time": "2022-01-11T22:18:36.643Z"
   },
   {
    "duration": 346,
    "start_time": "2022-01-11T22:18:36.655Z"
   },
   {
    "duration": 34,
    "start_time": "2022-01-11T22:18:37.003Z"
   },
   {
    "duration": 4,
    "start_time": "2022-01-11T22:18:37.038Z"
   },
   {
    "duration": 257,
    "start_time": "2022-01-12T16:40:23.422Z"
   },
   {
    "duration": 1051,
    "start_time": "2022-01-12T16:40:39.150Z"
   },
   {
    "duration": 5,
    "start_time": "2022-01-12T16:40:40.203Z"
   },
   {
    "duration": 6,
    "start_time": "2022-01-12T16:40:40.209Z"
   },
   {
    "duration": 7,
    "start_time": "2022-01-12T16:40:40.217Z"
   },
   {
    "duration": 7,
    "start_time": "2022-01-12T16:40:40.226Z"
   },
   {
    "duration": 5,
    "start_time": "2022-01-12T16:40:40.235Z"
   },
   {
    "duration": 6,
    "start_time": "2022-01-12T16:40:40.242Z"
   },
   {
    "duration": 61,
    "start_time": "2022-01-12T16:40:40.251Z"
   },
   {
    "duration": 5,
    "start_time": "2022-01-12T16:40:40.314Z"
   },
   {
    "duration": 405,
    "start_time": "2022-01-12T16:40:40.321Z"
   },
   {
    "duration": 9,
    "start_time": "2022-01-12T16:40:40.728Z"
   },
   {
    "duration": 354,
    "start_time": "2022-01-12T16:40:40.739Z"
   },
   {
    "duration": 10,
    "start_time": "2022-01-12T16:40:41.095Z"
   },
   {
    "duration": 338,
    "start_time": "2022-01-12T16:40:41.106Z"
   },
   {
    "duration": 46,
    "start_time": "2022-01-12T16:40:41.446Z"
   },
   {
    "duration": 261,
    "start_time": "2022-01-12T16:40:41.494Z"
   },
   {
    "duration": -199,
    "start_time": "2022-01-12T16:40:41.956Z"
   },
   {
    "duration": 6,
    "start_time": "2022-01-12T16:42:03.501Z"
   },
   {
    "duration": 7,
    "start_time": "2022-01-12T16:42:11.206Z"
   },
   {
    "duration": 6,
    "start_time": "2022-01-12T16:42:19.665Z"
   },
   {
    "duration": 17,
    "start_time": "2022-01-12T16:42:41.467Z"
   },
   {
    "duration": 18,
    "start_time": "2022-01-12T16:42:51.342Z"
   },
   {
    "duration": 18,
    "start_time": "2022-01-12T16:44:49.655Z"
   },
   {
    "duration": 18,
    "start_time": "2022-01-12T16:45:07.063Z"
   },
   {
    "duration": 18,
    "start_time": "2022-01-12T16:45:16.874Z"
   },
   {
    "duration": 23,
    "start_time": "2022-01-12T16:48:51.636Z"
   },
   {
    "duration": 9,
    "start_time": "2022-01-12T16:49:31.090Z"
   },
   {
    "duration": 10,
    "start_time": "2022-01-12T16:49:34.841Z"
   },
   {
    "duration": 10,
    "start_time": "2022-01-12T16:49:59.785Z"
   },
   {
    "duration": 10,
    "start_time": "2022-01-12T16:50:46.751Z"
   },
   {
    "duration": 340,
    "start_time": "2022-01-12T16:54:56.986Z"
   },
   {
    "duration": 316,
    "start_time": "2022-01-12T16:58:41.772Z"
   },
   {
    "duration": 68,
    "start_time": "2022-01-12T16:58:58.164Z"
   },
   {
    "duration": 397,
    "start_time": "2022-01-12T16:59:18.583Z"
   },
   {
    "duration": 58,
    "start_time": "2022-01-12T17:03:02.148Z"
   },
   {
    "duration": 340,
    "start_time": "2022-01-12T17:03:09.243Z"
   },
   {
    "duration": 461,
    "start_time": "2022-01-12T17:03:35.336Z"
   },
   {
    "duration": 54,
    "start_time": "2022-01-12T17:15:11.537Z"
   },
   {
    "duration": 5,
    "start_time": "2022-01-12T17:15:11.592Z"
   },
   {
    "duration": 32,
    "start_time": "2022-01-12T17:15:11.599Z"
   },
   {
    "duration": 27,
    "start_time": "2022-01-12T17:15:11.633Z"
   },
   {
    "duration": 54,
    "start_time": "2022-01-12T17:15:11.662Z"
   },
   {
    "duration": 31,
    "start_time": "2022-01-12T17:15:11.719Z"
   },
   {
    "duration": 33,
    "start_time": "2022-01-12T17:15:11.752Z"
   },
   {
    "duration": 48,
    "start_time": "2022-01-12T17:15:11.787Z"
   },
   {
    "duration": 12,
    "start_time": "2022-01-12T17:15:11.837Z"
   },
   {
    "duration": 409,
    "start_time": "2022-01-12T17:15:11.851Z"
   },
   {
    "duration": 8,
    "start_time": "2022-01-12T17:15:12.262Z"
   },
   {
    "duration": 355,
    "start_time": "2022-01-12T17:15:12.272Z"
   },
   {
    "duration": 342,
    "start_time": "2022-01-12T17:15:12.628Z"
   },
   {
    "duration": 42,
    "start_time": "2022-01-12T17:15:12.972Z"
   },
   {
    "duration": 422,
    "start_time": "2022-01-12T17:15:13.015Z"
   },
   {
    "duration": 4,
    "start_time": "2022-01-12T17:15:13.439Z"
   },
   {
    "duration": 181,
    "start_time": "2022-01-12T17:17:40.814Z"
   },
   {
    "duration": 182,
    "start_time": "2022-01-12T17:18:02.198Z"
   },
   {
    "duration": 4,
    "start_time": "2022-01-12T17:18:10.255Z"
   },
   {
    "duration": 184,
    "start_time": "2022-01-12T17:28:07.250Z"
   },
   {
    "duration": 56,
    "start_time": "2022-01-12T17:34:34.352Z"
   },
   {
    "duration": 134,
    "start_time": "2022-01-12T17:34:39.912Z"
   },
   {
    "duration": 188,
    "start_time": "2022-01-12T17:34:48.264Z"
   },
   {
    "duration": 353,
    "start_time": "2022-01-12T17:35:01.938Z"
   },
   {
    "duration": 606,
    "start_time": "2022-01-12T17:35:22.685Z"
   },
   {
    "duration": 357,
    "start_time": "2022-01-12T17:35:38.073Z"
   },
   {
    "duration": 512,
    "start_time": "2022-01-12T17:35:45.109Z"
   },
   {
    "duration": 532,
    "start_time": "2022-01-12T17:36:08.632Z"
   },
   {
    "duration": 392,
    "start_time": "2022-01-12T17:36:21.739Z"
   },
   {
    "duration": 470,
    "start_time": "2022-01-12T17:36:28.809Z"
   },
   {
    "duration": 376,
    "start_time": "2022-01-12T17:36:41.451Z"
   },
   {
    "duration": 402,
    "start_time": "2022-01-12T17:36:52.825Z"
   },
   {
    "duration": 383,
    "start_time": "2022-01-12T17:37:14.936Z"
   },
   {
    "duration": 391,
    "start_time": "2022-01-12T17:37:27.927Z"
   },
   {
    "duration": 390,
    "start_time": "2022-01-12T17:37:47.471Z"
   },
   {
    "duration": 478,
    "start_time": "2022-01-12T17:40:07.448Z"
   },
   {
    "duration": 404,
    "start_time": "2022-01-12T17:40:40.904Z"
   },
   {
    "duration": 533,
    "start_time": "2022-01-12T17:40:59.050Z"
   },
   {
    "duration": 542,
    "start_time": "2022-01-12T17:41:27.651Z"
   },
   {
    "duration": 500,
    "start_time": "2022-01-12T17:41:35.493Z"
   },
   {
    "duration": 409,
    "start_time": "2022-01-12T17:41:48.767Z"
   },
   {
    "duration": 389,
    "start_time": "2022-01-12T17:46:10.847Z"
   },
   {
    "duration": 396,
    "start_time": "2022-01-12T17:52:06.052Z"
   },
   {
    "duration": 4634,
    "start_time": "2022-01-12T17:56:39.460Z"
   },
   {
    "duration": 52,
    "start_time": "2022-01-12T17:57:53.670Z"
   },
   {
    "duration": 4,
    "start_time": "2022-01-12T17:57:53.724Z"
   },
   {
    "duration": 5,
    "start_time": "2022-01-12T17:57:53.730Z"
   },
   {
    "duration": 5,
    "start_time": "2022-01-12T17:57:53.737Z"
   },
   {
    "duration": 9,
    "start_time": "2022-01-12T17:57:53.743Z"
   },
   {
    "duration": 7,
    "start_time": "2022-01-12T17:57:53.754Z"
   },
   {
    "duration": 29,
    "start_time": "2022-01-12T17:57:53.762Z"
   },
   {
    "duration": 20,
    "start_time": "2022-01-12T17:57:53.793Z"
   },
   {
    "duration": 4,
    "start_time": "2022-01-12T17:57:53.815Z"
   },
   {
    "duration": 401,
    "start_time": "2022-01-12T17:57:53.820Z"
   },
   {
    "duration": 7,
    "start_time": "2022-01-12T17:57:54.223Z"
   },
   {
    "duration": 354,
    "start_time": "2022-01-12T17:57:54.232Z"
   },
   {
    "duration": 435,
    "start_time": "2022-01-12T17:57:54.588Z"
   },
   {
    "duration": 34,
    "start_time": "2022-01-12T17:57:55.025Z"
   },
   {
    "duration": 406,
    "start_time": "2022-01-12T17:57:55.061Z"
   },
   {
    "duration": 4,
    "start_time": "2022-01-12T17:57:55.469Z"
   },
   {
    "duration": 403,
    "start_time": "2022-01-12T17:57:55.475Z"
   },
   {
    "duration": 4,
    "start_time": "2022-01-12T17:57:55.879Z"
   },
   {
    "duration": 53,
    "start_time": "2022-01-12T17:59:22.919Z"
   },
   {
    "duration": 4,
    "start_time": "2022-01-12T17:59:22.974Z"
   },
   {
    "duration": 5,
    "start_time": "2022-01-12T17:59:22.980Z"
   },
   {
    "duration": 7,
    "start_time": "2022-01-12T17:59:22.987Z"
   },
   {
    "duration": 7,
    "start_time": "2022-01-12T17:59:22.996Z"
   },
   {
    "duration": 7,
    "start_time": "2022-01-12T17:59:23.004Z"
   },
   {
    "duration": 8,
    "start_time": "2022-01-12T17:59:23.012Z"
   },
   {
    "duration": 21,
    "start_time": "2022-01-12T17:59:23.022Z"
   },
   {
    "duration": 4,
    "start_time": "2022-01-12T17:59:23.045Z"
   },
   {
    "duration": 423,
    "start_time": "2022-01-12T17:59:23.050Z"
   },
   {
    "duration": 19,
    "start_time": "2022-01-12T17:59:23.475Z"
   },
   {
    "duration": 344,
    "start_time": "2022-01-12T17:59:23.496Z"
   },
   {
    "duration": 349,
    "start_time": "2022-01-12T17:59:23.842Z"
   },
   {
    "duration": 33,
    "start_time": "2022-01-12T17:59:24.193Z"
   },
   {
    "duration": 410,
    "start_time": "2022-01-12T17:59:24.228Z"
   },
   {
    "duration": 4,
    "start_time": "2022-01-12T17:59:24.640Z"
   },
   {
    "duration": 539,
    "start_time": "2022-01-12T17:59:24.646Z"
   },
   {
    "duration": 7,
    "start_time": "2022-01-12T17:59:25.186Z"
   },
   {
    "duration": 194,
    "start_time": "2022-01-12T20:23:58.508Z"
   },
   {
    "duration": 14,
    "start_time": "2022-01-12T20:24:06.183Z"
   },
   {
    "duration": 71,
    "start_time": "2022-01-12T20:32:00.409Z"
   },
   {
    "duration": 322,
    "start_time": "2022-01-12T20:32:05.914Z"
   },
   {
    "duration": 305,
    "start_time": "2022-01-12T20:32:41.601Z"
   },
   {
    "duration": 330,
    "start_time": "2022-01-12T20:32:49.677Z"
   },
   {
    "duration": 338,
    "start_time": "2022-01-12T20:33:02.478Z"
   },
   {
    "duration": 342,
    "start_time": "2022-01-12T20:33:09.071Z"
   },
   {
    "duration": 322,
    "start_time": "2022-01-12T20:34:43.456Z"
   },
   {
    "duration": 318,
    "start_time": "2022-01-12T20:35:43.937Z"
   },
   {
    "duration": 381,
    "start_time": "2022-01-12T20:36:15.470Z"
   },
   {
    "duration": 330,
    "start_time": "2022-01-12T20:36:25.924Z"
   },
   {
    "duration": 350,
    "start_time": "2022-01-12T20:36:38.390Z"
   },
   {
    "duration": 800,
    "start_time": "2022-01-12T20:40:39.472Z"
   },
   {
    "duration": 677,
    "start_time": "2022-01-12T20:41:00.497Z"
   },
   {
    "duration": 658,
    "start_time": "2022-01-12T20:51:47.406Z"
   },
   {
    "duration": 641,
    "start_time": "2022-01-12T20:51:59.232Z"
   },
   {
    "duration": 381,
    "start_time": "2022-01-12T20:52:48.289Z"
   },
   {
    "duration": 648,
    "start_time": "2022-01-12T20:53:04.445Z"
   },
   {
    "duration": 60,
    "start_time": "2022-01-12T20:53:42.140Z"
   },
   {
    "duration": 691,
    "start_time": "2022-01-12T20:53:47.492Z"
   },
   {
    "duration": 704,
    "start_time": "2022-01-12T20:54:56.261Z"
   },
   {
    "duration": 796,
    "start_time": "2022-01-12T20:55:51.575Z"
   },
   {
    "duration": 651,
    "start_time": "2022-01-12T20:56:06.836Z"
   },
   {
    "duration": 673,
    "start_time": "2022-01-12T20:56:13.483Z"
   },
   {
    "duration": 4820,
    "start_time": "2022-01-12T21:04:02.073Z"
   },
   {
    "duration": 1356,
    "start_time": "2022-01-12T21:04:32.987Z"
   },
   {
    "duration": 1217,
    "start_time": "2022-01-12T21:05:16.955Z"
   },
   {
    "duration": 1386,
    "start_time": "2022-01-12T21:06:13.856Z"
   },
   {
    "duration": 1273,
    "start_time": "2022-01-12T21:24:36.064Z"
   },
   {
    "duration": 63,
    "start_time": "2022-01-12T21:25:44.269Z"
   },
   {
    "duration": 59,
    "start_time": "2022-01-12T21:26:30.127Z"
   },
   {
    "duration": 199,
    "start_time": "2022-01-12T21:26:41.716Z"
   },
   {
    "duration": 218,
    "start_time": "2022-01-12T21:28:55.958Z"
   },
   {
    "duration": 197,
    "start_time": "2022-01-12T21:32:00.966Z"
   },
   {
    "duration": 178,
    "start_time": "2022-01-12T21:34:02.837Z"
   },
   {
    "duration": 204,
    "start_time": "2022-01-12T21:34:51.654Z"
   },
   {
    "duration": 185,
    "start_time": "2022-01-12T21:35:06.412Z"
   },
   {
    "duration": 194,
    "start_time": "2022-01-12T21:35:46.969Z"
   },
   {
    "duration": 180,
    "start_time": "2022-01-12T21:36:22.698Z"
   },
   {
    "duration": 707,
    "start_time": "2022-01-12T21:40:02.505Z"
   },
   {
    "duration": 773,
    "start_time": "2022-01-12T21:40:52.493Z"
   },
   {
    "duration": 709,
    "start_time": "2022-01-12T21:41:10.156Z"
   },
   {
    "duration": 729,
    "start_time": "2022-01-12T21:43:48.454Z"
   },
   {
    "duration": 508,
    "start_time": "2022-01-12T21:45:30.397Z"
   },
   {
    "duration": 636,
    "start_time": "2022-01-12T21:46:06.073Z"
   },
   {
    "duration": 510,
    "start_time": "2022-01-12T21:46:36.933Z"
   },
   {
    "duration": 508,
    "start_time": "2022-01-12T21:48:05.225Z"
   },
   {
    "duration": 8,
    "start_time": "2022-01-12T21:49:48.674Z"
   },
   {
    "duration": 7,
    "start_time": "2022-01-12T21:50:24.072Z"
   },
   {
    "duration": 1158,
    "start_time": "2022-01-13T13:50:37.265Z"
   },
   {
    "duration": 5,
    "start_time": "2022-01-13T13:50:38.425Z"
   },
   {
    "duration": 8,
    "start_time": "2022-01-13T13:50:38.431Z"
   },
   {
    "duration": 14,
    "start_time": "2022-01-13T13:50:38.441Z"
   },
   {
    "duration": 25,
    "start_time": "2022-01-13T13:50:38.457Z"
   },
   {
    "duration": 21,
    "start_time": "2022-01-13T13:50:38.483Z"
   },
   {
    "duration": 18,
    "start_time": "2022-01-13T13:50:38.506Z"
   },
   {
    "duration": 41,
    "start_time": "2022-01-13T13:50:38.527Z"
   },
   {
    "duration": 11,
    "start_time": "2022-01-13T13:50:38.571Z"
   },
   {
    "duration": 373,
    "start_time": "2022-01-13T13:50:38.583Z"
   },
   {
    "duration": 8,
    "start_time": "2022-01-13T13:50:38.958Z"
   },
   {
    "duration": 341,
    "start_time": "2022-01-13T13:50:38.968Z"
   },
   {
    "duration": 332,
    "start_time": "2022-01-13T13:50:39.310Z"
   },
   {
    "duration": 33,
    "start_time": "2022-01-13T13:50:39.643Z"
   },
   {
    "duration": 383,
    "start_time": "2022-01-13T13:50:39.677Z"
   },
   {
    "duration": 3,
    "start_time": "2022-01-13T13:50:40.062Z"
   },
   {
    "duration": 456,
    "start_time": "2022-01-13T13:50:40.067Z"
   },
   {
    "duration": 18,
    "start_time": "2022-01-13T13:50:40.525Z"
   },
   {
    "duration": 1276,
    "start_time": "2022-01-13T13:50:40.545Z"
   },
   {
    "duration": 686,
    "start_time": "2022-01-13T13:50:41.823Z"
   },
   {
    "duration": -685,
    "start_time": "2022-01-13T13:50:43.195Z"
   },
   {
    "duration": -694,
    "start_time": "2022-01-13T13:50:43.205Z"
   },
   {
    "duration": 540,
    "start_time": "2022-01-13T13:51:36.785Z"
   },
   {
    "duration": 7,
    "start_time": "2022-01-13T13:53:20.868Z"
   },
   {
    "duration": 13,
    "start_time": "2022-01-13T13:53:37.534Z"
   },
   {
    "duration": 547,
    "start_time": "2022-01-13T13:55:30.735Z"
   },
   {
    "duration": 8,
    "start_time": "2022-01-13T13:55:43.466Z"
   },
   {
    "duration": 591,
    "start_time": "2022-01-13T13:57:20.450Z"
   },
   {
    "duration": 726,
    "start_time": "2022-01-13T13:58:14.656Z"
   },
   {
    "duration": 6,
    "start_time": "2022-01-13T13:58:35.500Z"
   },
   {
    "duration": 8,
    "start_time": "2022-01-13T13:58:46.981Z"
   },
   {
    "duration": 11,
    "start_time": "2022-01-13T13:59:15.650Z"
   },
   {
    "duration": 246,
    "start_time": "2022-01-13T14:00:41.083Z"
   },
   {
    "duration": 461,
    "start_time": "2022-01-13T14:00:58.404Z"
   },
   {
    "duration": 90,
    "start_time": "2022-01-13T14:02:52.706Z"
   },
   {
    "duration": 256,
    "start_time": "2022-01-13T14:03:11.961Z"
   },
   {
    "duration": 11,
    "start_time": "2022-01-13T14:03:31.231Z"
   },
   {
    "duration": 12,
    "start_time": "2022-01-13T14:03:53.762Z"
   },
   {
    "duration": 14,
    "start_time": "2022-01-13T14:04:18.440Z"
   },
   {
    "duration": 549,
    "start_time": "2022-01-13T14:04:51.983Z"
   },
   {
    "duration": 564,
    "start_time": "2022-01-13T14:07:38.789Z"
   },
   {
    "duration": 6864,
    "start_time": "2022-01-13T14:07:57.816Z"
   },
   {
    "duration": 6661,
    "start_time": "2022-01-13T14:08:39.457Z"
   },
   {
    "duration": 9479,
    "start_time": "2022-01-13T14:08:51.404Z"
   },
   {
    "duration": 12,
    "start_time": "2022-01-13T14:09:28.759Z"
   },
   {
    "duration": 11,
    "start_time": "2022-01-13T14:09:40.054Z"
   },
   {
    "duration": 724,
    "start_time": "2022-01-13T14:09:57.455Z"
   },
   {
    "duration": 590,
    "start_time": "2022-01-13T14:10:15.096Z"
   },
   {
    "duration": 587,
    "start_time": "2022-01-13T14:10:32.891Z"
   },
   {
    "duration": 593,
    "start_time": "2022-01-13T14:11:01.991Z"
   },
   {
    "duration": 241,
    "start_time": "2022-01-13T14:11:11.954Z"
   },
   {
    "duration": 738,
    "start_time": "2022-01-13T14:11:16.974Z"
   },
   {
    "duration": 544,
    "start_time": "2022-01-13T14:12:15.097Z"
   },
   {
    "duration": 494,
    "start_time": "2022-01-13T14:12:19.586Z"
   },
   {
    "duration": 683,
    "start_time": "2022-01-13T14:13:09.974Z"
   },
   {
    "duration": 941,
    "start_time": "2022-01-13T14:13:31.154Z"
   },
   {
    "duration": 1161,
    "start_time": "2022-01-13T19:19:14.871Z"
   },
   {
    "duration": 5,
    "start_time": "2022-01-13T19:19:16.034Z"
   },
   {
    "duration": 7,
    "start_time": "2022-01-13T19:19:16.042Z"
   },
   {
    "duration": 7,
    "start_time": "2022-01-13T19:19:16.051Z"
   },
   {
    "duration": 7,
    "start_time": "2022-01-13T19:19:16.060Z"
   },
   {
    "duration": 9,
    "start_time": "2022-01-13T19:19:16.068Z"
   },
   {
    "duration": 7,
    "start_time": "2022-01-13T19:19:16.078Z"
   },
   {
    "duration": 21,
    "start_time": "2022-01-13T19:19:16.088Z"
   },
   {
    "duration": 4,
    "start_time": "2022-01-13T19:19:16.111Z"
   },
   {
    "duration": 376,
    "start_time": "2022-01-13T19:19:16.116Z"
   },
   {
    "duration": 7,
    "start_time": "2022-01-13T19:19:16.493Z"
   },
   {
    "duration": 316,
    "start_time": "2022-01-13T19:19:16.501Z"
   },
   {
    "duration": 307,
    "start_time": "2022-01-13T19:19:16.818Z"
   },
   {
    "duration": 35,
    "start_time": "2022-01-13T19:19:17.126Z"
   },
   {
    "duration": 372,
    "start_time": "2022-01-13T19:19:17.163Z"
   },
   {
    "duration": 7,
    "start_time": "2022-01-13T19:19:17.536Z"
   },
   {
    "duration": 421,
    "start_time": "2022-01-13T19:19:17.544Z"
   },
   {
    "duration": 13,
    "start_time": "2022-01-13T19:19:17.966Z"
   },
   {
    "duration": 1286,
    "start_time": "2022-01-13T19:19:17.980Z"
   },
   {
    "duration": 719,
    "start_time": "2022-01-13T19:19:19.267Z"
   },
   {
    "duration": -258,
    "start_time": "2022-01-13T19:19:20.246Z"
   },
   {
    "duration": -268,
    "start_time": "2022-01-13T19:19:20.257Z"
   },
   {
    "duration": 6589,
    "start_time": "2022-01-13T19:27:10.132Z"
   },
   {
    "duration": 616,
    "start_time": "2022-01-13T19:27:35.077Z"
   },
   {
    "duration": 467,
    "start_time": "2022-01-13T19:29:50.077Z"
   },
   {
    "duration": 403,
    "start_time": "2022-01-13T19:30:57.807Z"
   },
   {
    "duration": 408,
    "start_time": "2022-01-13T19:31:14.002Z"
   },
   {
    "duration": 389,
    "start_time": "2022-01-13T19:32:01.605Z"
   },
   {
    "duration": 376,
    "start_time": "2022-01-13T19:33:51.545Z"
   },
   {
    "duration": 531,
    "start_time": "2022-01-13T19:34:44.916Z"
   },
   {
    "duration": 651,
    "start_time": "2022-01-13T19:41:00.713Z"
   },
   {
    "duration": 708,
    "start_time": "2022-01-13T19:41:19.958Z"
   },
   {
    "duration": 636,
    "start_time": "2022-01-13T19:41:28.639Z"
   },
   {
    "duration": 512,
    "start_time": "2022-01-13T19:41:32.342Z"
   },
   {
    "duration": 647,
    "start_time": "2022-01-13T19:42:05.694Z"
   },
   {
    "duration": 598,
    "start_time": "2022-01-13T19:42:13.774Z"
   },
   {
    "duration": 649,
    "start_time": "2022-01-13T19:43:01.232Z"
   },
   {
    "duration": 637,
    "start_time": "2022-01-13T19:46:26.836Z"
   },
   {
    "duration": 83,
    "start_time": "2022-01-13T19:48:08.178Z"
   },
   {
    "duration": 76,
    "start_time": "2022-01-13T19:48:14.083Z"
   },
   {
    "duration": 100,
    "start_time": "2022-01-13T19:48:32.383Z"
   },
   {
    "duration": 81,
    "start_time": "2022-01-13T19:48:42.449Z"
   },
   {
    "duration": 82,
    "start_time": "2022-01-13T19:48:53.851Z"
   },
   {
    "duration": 84,
    "start_time": "2022-01-13T19:49:00.452Z"
   },
   {
    "duration": 80,
    "start_time": "2022-01-13T19:49:05.786Z"
   },
   {
    "duration": 82,
    "start_time": "2022-01-13T19:49:26.067Z"
   },
   {
    "duration": 81,
    "start_time": "2022-01-13T19:49:36.591Z"
   },
   {
    "duration": 79,
    "start_time": "2022-01-13T19:49:47.372Z"
   },
   {
    "duration": 599,
    "start_time": "2022-01-13T19:49:55.598Z"
   },
   {
    "duration": 617,
    "start_time": "2022-01-13T19:50:05.012Z"
   },
   {
    "duration": 581,
    "start_time": "2022-01-13T19:50:11.145Z"
   },
   {
    "duration": 690,
    "start_time": "2022-01-13T19:50:34.181Z"
   },
   {
    "duration": 588,
    "start_time": "2022-01-13T19:51:31.072Z"
   },
   {
    "duration": 730,
    "start_time": "2022-01-13T19:52:45.876Z"
   },
   {
    "duration": 728,
    "start_time": "2022-01-13T19:52:50.280Z"
   },
   {
    "duration": 729,
    "start_time": "2022-01-13T19:53:07.558Z"
   },
   {
    "duration": 722,
    "start_time": "2022-01-13T19:53:21.572Z"
   },
   {
    "duration": 719,
    "start_time": "2022-01-13T19:57:31.839Z"
   },
   {
    "duration": 714,
    "start_time": "2022-01-13T19:58:23.737Z"
   },
   {
    "duration": 1583,
    "start_time": "2022-01-13T19:58:28.225Z"
   },
   {
    "duration": 614,
    "start_time": "2022-01-13T19:58:45.841Z"
   },
   {
    "duration": 725,
    "start_time": "2022-01-13T19:59:13.984Z"
   },
   {
    "duration": 881,
    "start_time": "2022-01-13T20:00:12.943Z"
   },
   {
    "duration": 630,
    "start_time": "2022-01-13T20:00:21.975Z"
   },
   {
    "duration": 736,
    "start_time": "2022-01-13T20:00:29.083Z"
   },
   {
    "duration": 647,
    "start_time": "2022-01-13T20:00:35.082Z"
   },
   {
    "duration": 846,
    "start_time": "2022-01-13T20:06:17.628Z"
   },
   {
    "duration": 774,
    "start_time": "2022-01-13T20:07:09.235Z"
   },
   {
    "duration": 788,
    "start_time": "2022-01-13T20:07:31.687Z"
   },
   {
    "duration": 683,
    "start_time": "2022-01-13T20:08:12.188Z"
   },
   {
    "duration": 772,
    "start_time": "2022-01-13T20:09:23.762Z"
   },
   {
    "duration": 750,
    "start_time": "2022-01-13T20:09:37.965Z"
   },
   {
    "duration": 770,
    "start_time": "2022-01-13T20:10:27.702Z"
   },
   {
    "duration": 801,
    "start_time": "2022-01-13T20:10:34.593Z"
   },
   {
    "duration": 762,
    "start_time": "2022-01-13T20:10:44.151Z"
   },
   {
    "duration": 836,
    "start_time": "2022-01-13T20:12:35.332Z"
   },
   {
    "duration": 807,
    "start_time": "2022-01-13T20:13:34.180Z"
   },
   {
    "duration": 803,
    "start_time": "2022-01-13T20:15:02.960Z"
   },
   {
    "duration": 905,
    "start_time": "2022-01-13T20:15:32.902Z"
   },
   {
    "duration": 908,
    "start_time": "2022-01-13T20:15:55.866Z"
   },
   {
    "duration": 830,
    "start_time": "2022-01-13T20:16:15.272Z"
   },
   {
    "duration": 819,
    "start_time": "2022-01-13T20:16:26.780Z"
   },
   {
    "duration": 873,
    "start_time": "2022-01-13T20:18:42.702Z"
   },
   {
    "duration": 930,
    "start_time": "2022-01-13T20:19:39.897Z"
   },
   {
    "duration": 768,
    "start_time": "2022-01-13T20:19:50.415Z"
   },
   {
    "duration": 794,
    "start_time": "2022-01-13T20:20:03.749Z"
   },
   {
    "duration": 764,
    "start_time": "2022-01-13T20:20:43.254Z"
   },
   {
    "duration": 899,
    "start_time": "2022-01-13T20:21:46.531Z"
   },
   {
    "duration": 75,
    "start_time": "2022-01-13T20:22:36.135Z"
   },
   {
    "duration": 783,
    "start_time": "2022-01-13T20:22:43.822Z"
   },
   {
    "duration": 803,
    "start_time": "2022-01-13T20:24:35.870Z"
   },
   {
    "duration": 785,
    "start_time": "2022-01-13T20:24:55.420Z"
   },
   {
    "duration": 917,
    "start_time": "2022-01-13T20:26:01.597Z"
   },
   {
    "duration": 1027,
    "start_time": "2022-01-13T20:26:26.710Z"
   },
   {
    "duration": 901,
    "start_time": "2022-01-13T20:26:32.336Z"
   },
   {
    "duration": 801,
    "start_time": "2022-01-13T20:30:13.384Z"
   },
   {
    "duration": 852,
    "start_time": "2022-01-13T20:30:19.112Z"
   },
   {
    "duration": 49,
    "start_time": "2022-01-13T20:37:25.141Z"
   },
   {
    "duration": 5,
    "start_time": "2022-01-13T20:37:25.191Z"
   },
   {
    "duration": 6,
    "start_time": "2022-01-13T20:37:25.197Z"
   },
   {
    "duration": 10,
    "start_time": "2022-01-13T20:37:25.204Z"
   },
   {
    "duration": 7,
    "start_time": "2022-01-13T20:37:25.215Z"
   },
   {
    "duration": 8,
    "start_time": "2022-01-13T20:37:25.224Z"
   },
   {
    "duration": 4,
    "start_time": "2022-01-13T20:37:25.241Z"
   },
   {
    "duration": 22,
    "start_time": "2022-01-13T20:37:25.248Z"
   },
   {
    "duration": 4,
    "start_time": "2022-01-13T20:37:25.271Z"
   },
   {
    "duration": 382,
    "start_time": "2022-01-13T20:37:25.276Z"
   },
   {
    "duration": 8,
    "start_time": "2022-01-13T20:37:25.660Z"
   },
   {
    "duration": 313,
    "start_time": "2022-01-13T20:37:25.669Z"
   },
   {
    "duration": 292,
    "start_time": "2022-01-13T20:37:25.983Z"
   },
   {
    "duration": 31,
    "start_time": "2022-01-13T20:37:26.276Z"
   },
   {
    "duration": 392,
    "start_time": "2022-01-13T20:37:26.309Z"
   },
   {
    "duration": 5,
    "start_time": "2022-01-13T20:37:26.703Z"
   },
   {
    "duration": 383,
    "start_time": "2022-01-13T20:37:26.710Z"
   },
   {
    "duration": 1371,
    "start_time": "2022-01-13T20:37:27.095Z"
   },
   {
    "duration": 796,
    "start_time": "2022-01-13T20:37:28.468Z"
   },
   {
    "duration": 3,
    "start_time": "2022-01-13T20:37:29.266Z"
   },
   {
    "duration": 244,
    "start_time": "2022-01-13T20:38:24.915Z"
   },
   {
    "duration": 4,
    "start_time": "2022-01-13T20:38:29.298Z"
   },
   {
    "duration": 12,
    "start_time": "2022-01-13T20:40:33.750Z"
   },
   {
    "duration": 10,
    "start_time": "2022-01-13T20:42:14.215Z"
   },
   {
    "duration": 10,
    "start_time": "2022-01-13T20:43:20.677Z"
   },
   {
    "duration": 9,
    "start_time": "2022-01-13T20:43:53.410Z"
   },
   {
    "duration": 10,
    "start_time": "2022-01-13T20:44:05.128Z"
   },
   {
    "duration": 238,
    "start_time": "2022-01-13T20:53:10.263Z"
   },
   {
    "duration": 12,
    "start_time": "2022-01-13T20:53:22.515Z"
   },
   {
    "duration": 10,
    "start_time": "2022-01-13T20:53:34.827Z"
   },
   {
    "duration": 10,
    "start_time": "2022-01-13T20:54:07.004Z"
   },
   {
    "duration": 9,
    "start_time": "2022-01-13T20:54:16.128Z"
   },
   {
    "duration": 9,
    "start_time": "2022-01-13T20:54:22.426Z"
   },
   {
    "duration": 11,
    "start_time": "2022-01-13T20:57:05.365Z"
   },
   {
    "duration": 295,
    "start_time": "2022-01-13T20:57:37.008Z"
   },
   {
    "duration": 569,
    "start_time": "2022-01-13T20:57:58.221Z"
   },
   {
    "duration": 272,
    "start_time": "2022-01-13T20:58:05.482Z"
   },
   {
    "duration": 252,
    "start_time": "2022-01-13T20:58:32.618Z"
   },
   {
    "duration": 10,
    "start_time": "2022-01-13T20:58:48.306Z"
   },
   {
    "duration": 12,
    "start_time": "2022-01-13T20:58:53.266Z"
   },
   {
    "duration": 256,
    "start_time": "2022-01-13T21:01:02.330Z"
   },
   {
    "duration": 243,
    "start_time": "2022-01-13T21:01:53.950Z"
   },
   {
    "duration": 12,
    "start_time": "2022-01-13T21:03:20.641Z"
   },
   {
    "duration": 9,
    "start_time": "2022-01-13T21:05:15.661Z"
   },
   {
    "duration": 11,
    "start_time": "2022-01-13T21:05:30.676Z"
   },
   {
    "duration": 11,
    "start_time": "2022-01-13T21:05:47.410Z"
   },
   {
    "duration": 12,
    "start_time": "2022-01-13T21:06:08.976Z"
   },
   {
    "duration": 17,
    "start_time": "2022-01-13T21:06:23.009Z"
   },
   {
    "duration": 19,
    "start_time": "2022-01-13T21:08:07.462Z"
   },
   {
    "duration": 16,
    "start_time": "2022-01-13T21:08:19.834Z"
   },
   {
    "duration": 19,
    "start_time": "2022-01-13T21:08:25.465Z"
   },
   {
    "duration": 53,
    "start_time": "2022-01-13T21:11:48.613Z"
   },
   {
    "duration": 64,
    "start_time": "2022-01-13T21:12:53.097Z"
   },
   {
    "duration": 4,
    "start_time": "2022-01-13T21:12:53.163Z"
   },
   {
    "duration": 5,
    "start_time": "2022-01-13T21:12:53.169Z"
   },
   {
    "duration": 6,
    "start_time": "2022-01-13T21:12:53.176Z"
   },
   {
    "duration": 8,
    "start_time": "2022-01-13T21:12:53.184Z"
   },
   {
    "duration": 6,
    "start_time": "2022-01-13T21:12:53.194Z"
   },
   {
    "duration": 8,
    "start_time": "2022-01-13T21:12:53.202Z"
   },
   {
    "duration": 55,
    "start_time": "2022-01-13T21:12:53.212Z"
   },
   {
    "duration": 4,
    "start_time": "2022-01-13T21:12:53.269Z"
   },
   {
    "duration": 489,
    "start_time": "2022-01-13T21:12:53.275Z"
   },
   {
    "duration": 9,
    "start_time": "2022-01-13T21:12:53.766Z"
   },
   {
    "duration": 353,
    "start_time": "2022-01-13T21:12:53.777Z"
   },
   {
    "duration": 377,
    "start_time": "2022-01-13T21:12:54.132Z"
   },
   {
    "duration": 33,
    "start_time": "2022-01-13T21:12:54.511Z"
   },
   {
    "duration": 495,
    "start_time": "2022-01-13T21:12:54.546Z"
   },
   {
    "duration": 5,
    "start_time": "2022-01-13T21:12:55.043Z"
   },
   {
    "duration": 461,
    "start_time": "2022-01-13T21:12:55.050Z"
   },
   {
    "duration": 1382,
    "start_time": "2022-01-13T21:12:55.513Z"
   },
   {
    "duration": 788,
    "start_time": "2022-01-13T21:12:56.896Z"
   },
   {
    "duration": 12,
    "start_time": "2022-01-13T21:12:57.685Z"
   },
   {
    "duration": 78,
    "start_time": "2022-01-13T21:12:57.699Z"
   },
   {
    "duration": 3,
    "start_time": "2022-01-13T21:12:57.778Z"
   },
   {
    "duration": 52,
    "start_time": "2022-01-13T21:14:13.090Z"
   },
   {
    "duration": 4,
    "start_time": "2022-01-13T21:14:13.143Z"
   },
   {
    "duration": 27,
    "start_time": "2022-01-13T21:14:13.149Z"
   },
   {
    "duration": 15,
    "start_time": "2022-01-13T21:14:13.178Z"
   },
   {
    "duration": 17,
    "start_time": "2022-01-13T21:14:13.194Z"
   },
   {
    "duration": 40,
    "start_time": "2022-01-13T21:14:13.213Z"
   },
   {
    "duration": 28,
    "start_time": "2022-01-13T21:14:13.254Z"
   },
   {
    "duration": 32,
    "start_time": "2022-01-13T21:14:13.285Z"
   },
   {
    "duration": 4,
    "start_time": "2022-01-13T21:14:13.319Z"
   },
   {
    "duration": 352,
    "start_time": "2022-01-13T21:14:13.324Z"
   },
   {
    "duration": 8,
    "start_time": "2022-01-13T21:14:13.677Z"
   },
   {
    "duration": 406,
    "start_time": "2022-01-13T21:14:13.687Z"
   },
   {
    "duration": 308,
    "start_time": "2022-01-13T21:14:14.094Z"
   },
   {
    "duration": 39,
    "start_time": "2022-01-13T21:14:14.404Z"
   },
   {
    "duration": 363,
    "start_time": "2022-01-13T21:14:14.444Z"
   },
   {
    "duration": 4,
    "start_time": "2022-01-13T21:14:14.809Z"
   },
   {
    "duration": 470,
    "start_time": "2022-01-13T21:14:14.815Z"
   },
   {
    "duration": 1279,
    "start_time": "2022-01-13T21:14:15.286Z"
   },
   {
    "duration": 800,
    "start_time": "2022-01-13T21:14:16.566Z"
   },
   {
    "duration": 53,
    "start_time": "2022-01-13T21:14:17.367Z"
   },
   {
    "duration": 21,
    "start_time": "2022-01-13T21:14:17.421Z"
   },
   {
    "duration": 53,
    "start_time": "2022-01-13T21:18:44.860Z"
   },
   {
    "duration": 5,
    "start_time": "2022-01-13T21:18:44.914Z"
   },
   {
    "duration": 5,
    "start_time": "2022-01-13T21:18:44.920Z"
   },
   {
    "duration": 5,
    "start_time": "2022-01-13T21:18:44.927Z"
   },
   {
    "duration": 7,
    "start_time": "2022-01-13T21:18:44.933Z"
   },
   {
    "duration": 5,
    "start_time": "2022-01-13T21:18:44.941Z"
   },
   {
    "duration": 7,
    "start_time": "2022-01-13T21:18:44.947Z"
   },
   {
    "duration": 22,
    "start_time": "2022-01-13T21:18:44.956Z"
   },
   {
    "duration": 3,
    "start_time": "2022-01-13T21:18:44.980Z"
   },
   {
    "duration": 464,
    "start_time": "2022-01-13T21:18:44.985Z"
   },
   {
    "duration": 8,
    "start_time": "2022-01-13T21:18:45.451Z"
   },
   {
    "duration": 334,
    "start_time": "2022-01-13T21:18:45.461Z"
   },
   {
    "duration": 296,
    "start_time": "2022-01-13T21:18:45.797Z"
   },
   {
    "duration": 31,
    "start_time": "2022-01-13T21:18:46.095Z"
   },
   {
    "duration": 370,
    "start_time": "2022-01-13T21:18:46.140Z"
   },
   {
    "duration": 4,
    "start_time": "2022-01-13T21:18:46.512Z"
   },
   {
    "duration": 355,
    "start_time": "2022-01-13T21:18:46.517Z"
   },
   {
    "duration": 1097,
    "start_time": "2022-01-13T21:18:46.874Z"
   },
   {
    "duration": 886,
    "start_time": "2022-01-13T21:18:47.973Z"
   },
   {
    "duration": 53,
    "start_time": "2022-01-13T21:18:48.861Z"
   },
   {
    "duration": 3,
    "start_time": "2022-01-13T21:18:48.916Z"
   },
   {
    "duration": 753,
    "start_time": "2022-01-13T21:33:37.004Z"
   },
   {
    "duration": 54,
    "start_time": "2022-01-13T21:33:50.980Z"
   },
   {
    "duration": 5,
    "start_time": "2022-01-13T21:33:51.036Z"
   },
   {
    "duration": 3,
    "start_time": "2022-01-13T21:33:51.044Z"
   },
   {
    "duration": 6,
    "start_time": "2022-01-13T21:33:51.048Z"
   },
   {
    "duration": 7,
    "start_time": "2022-01-13T21:33:51.056Z"
   },
   {
    "duration": 5,
    "start_time": "2022-01-13T21:33:51.064Z"
   },
   {
    "duration": 6,
    "start_time": "2022-01-13T21:33:51.071Z"
   },
   {
    "duration": 26,
    "start_time": "2022-01-13T21:33:51.079Z"
   },
   {
    "duration": 4,
    "start_time": "2022-01-13T21:33:51.107Z"
   },
   {
    "duration": 345,
    "start_time": "2022-01-13T21:33:51.141Z"
   },
   {
    "duration": 7,
    "start_time": "2022-01-13T21:33:51.488Z"
   },
   {
    "duration": 310,
    "start_time": "2022-01-13T21:33:51.496Z"
   },
   {
    "duration": 329,
    "start_time": "2022-01-13T21:33:51.808Z"
   },
   {
    "duration": 32,
    "start_time": "2022-01-13T21:33:52.141Z"
   },
   {
    "duration": 399,
    "start_time": "2022-01-13T21:33:52.175Z"
   },
   {
    "duration": 4,
    "start_time": "2022-01-13T21:33:52.575Z"
   },
   {
    "duration": 488,
    "start_time": "2022-01-13T21:33:52.581Z"
   },
   {
    "duration": 1238,
    "start_time": "2022-01-13T21:33:53.071Z"
   },
   {
    "duration": 849,
    "start_time": "2022-01-13T21:33:54.311Z"
   },
   {
    "duration": 52,
    "start_time": "2022-01-13T21:33:55.161Z"
   },
   {
    "duration": 3,
    "start_time": "2022-01-13T21:33:55.215Z"
   },
   {
    "duration": 784,
    "start_time": "2022-01-13T21:34:43.394Z"
   },
   {
    "duration": 53,
    "start_time": "2022-01-13T21:35:39.396Z"
   },
   {
    "duration": 4,
    "start_time": "2022-01-13T21:35:39.451Z"
   },
   {
    "duration": 4,
    "start_time": "2022-01-13T21:35:39.457Z"
   },
   {
    "duration": 6,
    "start_time": "2022-01-13T21:35:39.463Z"
   },
   {
    "duration": 6,
    "start_time": "2022-01-13T21:35:39.471Z"
   },
   {
    "duration": 8,
    "start_time": "2022-01-13T21:35:39.479Z"
   },
   {
    "duration": 6,
    "start_time": "2022-01-13T21:35:39.488Z"
   },
   {
    "duration": 45,
    "start_time": "2022-01-13T21:35:39.496Z"
   },
   {
    "duration": 4,
    "start_time": "2022-01-13T21:35:39.543Z"
   },
   {
    "duration": 462,
    "start_time": "2022-01-13T21:35:39.549Z"
   },
   {
    "duration": 7,
    "start_time": "2022-01-13T21:35:40.013Z"
   },
   {
    "duration": 328,
    "start_time": "2022-01-13T21:35:40.022Z"
   },
   {
    "duration": 315,
    "start_time": "2022-01-13T21:35:40.352Z"
   },
   {
    "duration": 31,
    "start_time": "2022-01-13T21:35:40.669Z"
   },
   {
    "duration": 376,
    "start_time": "2022-01-13T21:35:40.702Z"
   },
   {
    "duration": 5,
    "start_time": "2022-01-13T21:35:41.079Z"
   },
   {
    "duration": 358,
    "start_time": "2022-01-13T21:35:41.085Z"
   },
   {
    "duration": 1141,
    "start_time": "2022-01-13T21:35:41.445Z"
   },
   {
    "duration": 779,
    "start_time": "2022-01-13T21:35:42.587Z"
   },
   {
    "duration": 53,
    "start_time": "2022-01-13T21:35:43.367Z"
   },
   {
    "duration": 4,
    "start_time": "2022-01-13T21:35:43.422Z"
   },
   {
    "duration": 1634,
    "start_time": "2022-01-14T07:16:10.876Z"
   },
   {
    "duration": 4,
    "start_time": "2022-01-14T07:16:12.512Z"
   },
   {
    "duration": 5,
    "start_time": "2022-01-14T07:16:12.518Z"
   },
   {
    "duration": 7,
    "start_time": "2022-01-14T07:16:12.524Z"
   },
   {
    "duration": 16,
    "start_time": "2022-01-14T07:16:12.533Z"
   },
   {
    "duration": 13,
    "start_time": "2022-01-14T07:16:12.550Z"
   },
   {
    "duration": 9,
    "start_time": "2022-01-14T07:16:12.564Z"
   },
   {
    "duration": 21,
    "start_time": "2022-01-14T07:16:12.575Z"
   },
   {
    "duration": 5,
    "start_time": "2022-01-14T07:16:12.598Z"
   },
   {
    "duration": 362,
    "start_time": "2022-01-14T07:16:12.605Z"
   },
   {
    "duration": 7,
    "start_time": "2022-01-14T07:16:12.969Z"
   },
   {
    "duration": 327,
    "start_time": "2022-01-14T07:16:12.978Z"
   },
   {
    "duration": 312,
    "start_time": "2022-01-14T07:16:13.307Z"
   },
   {
    "duration": 39,
    "start_time": "2022-01-14T07:16:13.621Z"
   },
   {
    "duration": 394,
    "start_time": "2022-01-14T07:16:13.662Z"
   },
   {
    "duration": 5,
    "start_time": "2022-01-14T07:16:14.058Z"
   },
   {
    "duration": 502,
    "start_time": "2022-01-14T07:16:14.064Z"
   },
   {
    "duration": 1236,
    "start_time": "2022-01-14T07:16:14.567Z"
   },
   {
    "duration": 873,
    "start_time": "2022-01-14T07:16:15.805Z"
   },
   {
    "duration": 455,
    "start_time": "2022-01-14T07:16:16.680Z"
   },
   {
    "duration": -403,
    "start_time": "2022-01-14T07:16:17.540Z"
   },
   {
    "duration": 59,
    "start_time": "2022-01-14T07:16:23.529Z"
   },
   {
    "duration": 773,
    "start_time": "2022-01-14T08:23:24.488Z"
   },
   {
    "duration": 779,
    "start_time": "2022-01-14T08:23:30.248Z"
   },
   {
    "duration": 730,
    "start_time": "2022-01-14T08:25:13.149Z"
   },
   {
    "duration": 749,
    "start_time": "2022-01-14T08:25:50.763Z"
   },
   {
    "duration": 736,
    "start_time": "2022-01-14T08:26:09.466Z"
   },
   {
    "duration": 815,
    "start_time": "2022-01-14T08:26:13.292Z"
   },
   {
    "duration": 3,
    "start_time": "2022-01-14T08:26:46.310Z"
   },
   {
    "duration": 6,
    "start_time": "2022-01-14T08:27:12.907Z"
   },
   {
    "duration": 5,
    "start_time": "2022-01-14T08:27:41.468Z"
   },
   {
    "duration": 349,
    "start_time": "2022-01-14T08:28:14.888Z"
   },
   {
    "duration": 7,
    "start_time": "2022-01-14T08:28:21.041Z"
   },
   {
    "duration": 6,
    "start_time": "2022-01-14T08:28:26.519Z"
   },
   {
    "duration": 5,
    "start_time": "2022-01-14T08:28:34.350Z"
   },
   {
    "duration": 5,
    "start_time": "2022-01-14T08:31:39.695Z"
   },
   {
    "duration": 9,
    "start_time": "2022-01-14T08:32:01.933Z"
   },
   {
    "duration": 6,
    "start_time": "2022-01-14T08:32:40.230Z"
   },
   {
    "duration": 8,
    "start_time": "2022-01-14T08:32:48.454Z"
   },
   {
    "duration": 7,
    "start_time": "2022-01-14T08:33:46.491Z"
   },
   {
    "duration": 5,
    "start_time": "2022-01-14T08:33:55.741Z"
   },
   {
    "duration": 6,
    "start_time": "2022-01-14T08:34:05.300Z"
   },
   {
    "duration": 6,
    "start_time": "2022-01-14T08:34:27.350Z"
   },
   {
    "duration": 7,
    "start_time": "2022-01-14T08:34:33.869Z"
   },
   {
    "duration": 2,
    "start_time": "2022-01-14T08:35:38.942Z"
   },
   {
    "duration": 480,
    "start_time": "2022-01-14T08:36:01.256Z"
   },
   {
    "duration": 122,
    "start_time": "2022-01-14T08:36:40.312Z"
   },
   {
    "duration": 105,
    "start_time": "2022-01-14T08:37:11.660Z"
   },
   {
    "duration": 102,
    "start_time": "2022-01-14T08:37:29.290Z"
   },
   {
    "duration": 678,
    "start_time": "2022-01-14T08:37:49.896Z"
   },
   {
    "duration": 655,
    "start_time": "2022-01-14T08:38:05.450Z"
   },
   {
    "duration": 633,
    "start_time": "2022-01-14T08:38:19.675Z"
   },
   {
    "duration": 626,
    "start_time": "2022-01-14T08:38:29.022Z"
   },
   {
    "duration": 441,
    "start_time": "2022-01-14T08:38:40.941Z"
   },
   {
    "duration": 406,
    "start_time": "2022-01-14T08:38:57.781Z"
   },
   {
    "duration": 476,
    "start_time": "2022-01-14T08:39:07.861Z"
   },
   {
    "duration": 385,
    "start_time": "2022-01-14T08:39:18.456Z"
   },
   {
    "duration": 353,
    "start_time": "2022-01-14T08:39:55.569Z"
   },
   {
    "duration": 802,
    "start_time": "2022-01-14T08:40:14.225Z"
   },
   {
    "duration": 567,
    "start_time": "2022-01-14T08:40:18.750Z"
   },
   {
    "duration": 563,
    "start_time": "2022-01-14T08:40:31.855Z"
   },
   {
    "duration": 282,
    "start_time": "2022-01-14T08:42:18.942Z"
   },
   {
    "duration": 272,
    "start_time": "2022-01-14T08:42:29.032Z"
   },
   {
    "duration": 280,
    "start_time": "2022-01-14T08:46:11.628Z"
   },
   {
    "duration": 577,
    "start_time": "2022-01-14T08:47:36.905Z"
   },
   {
    "duration": 270,
    "start_time": "2022-01-14T08:48:09.873Z"
   },
   {
    "duration": 352,
    "start_time": "2022-01-14T08:48:21.771Z"
   },
   {
    "duration": 586,
    "start_time": "2022-01-14T08:49:46.409Z"
   },
   {
    "duration": 398,
    "start_time": "2022-01-14T08:49:51.725Z"
   },
   {
    "duration": 398,
    "start_time": "2022-01-14T08:50:08.277Z"
   },
   {
    "duration": 262,
    "start_time": "2022-01-14T08:51:41.800Z"
   },
   {
    "duration": 271,
    "start_time": "2022-01-14T08:52:00.086Z"
   },
   {
    "duration": 277,
    "start_time": "2022-01-14T08:59:38.915Z"
   },
   {
    "duration": 267,
    "start_time": "2022-01-14T08:59:44.635Z"
   },
   {
    "duration": 996,
    "start_time": "2022-01-14T09:00:02.623Z"
   },
   {
    "duration": 276,
    "start_time": "2022-01-14T09:00:51.969Z"
   },
   {
    "duration": 268,
    "start_time": "2022-01-14T09:00:57.905Z"
   },
   {
    "duration": 374,
    "start_time": "2022-01-14T09:01:02.064Z"
   },
   {
    "duration": 343,
    "start_time": "2022-01-14T09:01:20.866Z"
   },
   {
    "duration": 343,
    "start_time": "2022-01-14T09:01:26.389Z"
   },
   {
    "duration": 317,
    "start_time": "2022-01-14T09:15:40.603Z"
   },
   {
    "duration": 760,
    "start_time": "2022-01-14T09:15:52.182Z"
   },
   {
    "duration": 378,
    "start_time": "2022-01-14T09:16:08.720Z"
   },
   {
    "duration": 269,
    "start_time": "2022-01-14T09:16:20.309Z"
   },
   {
    "duration": 278,
    "start_time": "2022-01-14T09:17:20.349Z"
   },
   {
    "duration": 282,
    "start_time": "2022-01-14T09:17:37.512Z"
   },
   {
    "duration": 273,
    "start_time": "2022-01-14T09:17:58.321Z"
   },
   {
    "duration": 304,
    "start_time": "2022-01-14T09:18:36.433Z"
   },
   {
    "duration": 405,
    "start_time": "2022-01-14T09:19:34.008Z"
   },
   {
    "duration": 617,
    "start_time": "2022-01-14T09:20:19.351Z"
   },
   {
    "duration": 422,
    "start_time": "2022-01-14T09:20:51.027Z"
   },
   {
    "duration": 308,
    "start_time": "2022-01-14T09:21:05.113Z"
   },
   {
    "duration": 348,
    "start_time": "2022-01-14T09:21:48.035Z"
   },
   {
    "duration": 311,
    "start_time": "2022-01-14T09:22:58.320Z"
   },
   {
    "duration": 323,
    "start_time": "2022-01-14T09:23:23.447Z"
   },
   {
    "duration": 341,
    "start_time": "2022-01-14T09:24:21.566Z"
   },
   {
    "duration": 449,
    "start_time": "2022-01-14T09:24:50.596Z"
   },
   {
    "duration": 342,
    "start_time": "2022-01-14T09:26:35.030Z"
   },
   {
    "duration": 318,
    "start_time": "2022-01-14T09:27:03.237Z"
   },
   {
    "duration": 319,
    "start_time": "2022-01-14T09:30:13.079Z"
   },
   {
    "duration": 308,
    "start_time": "2022-01-14T10:03:20.885Z"
   },
   {
    "duration": 342,
    "start_time": "2022-01-14T11:46:10.487Z"
   },
   {
    "duration": 471,
    "start_time": "2022-01-14T12:31:15.402Z"
   },
   {
    "duration": 183,
    "start_time": "2022-01-14T12:31:31.361Z"
   },
   {
    "duration": 207,
    "start_time": "2022-01-14T13:26:15.078Z"
   },
   {
    "duration": 316,
    "start_time": "2022-01-14T14:18:14.202Z"
   },
   {
    "duration": 187,
    "start_time": "2022-01-14T14:18:47.599Z"
   },
   {
    "duration": 325,
    "start_time": "2022-01-14T14:20:13.720Z"
   },
   {
    "duration": 220,
    "start_time": "2022-01-14T14:22:11.930Z"
   },
   {
    "duration": 215,
    "start_time": "2022-01-14T14:22:35.960Z"
   },
   {
    "duration": 210,
    "start_time": "2022-01-14T14:26:16.015Z"
   },
   {
    "duration": 224,
    "start_time": "2022-01-14T14:27:19.598Z"
   },
   {
    "duration": 230,
    "start_time": "2022-01-14T14:27:36.397Z"
   },
   {
    "duration": 225,
    "start_time": "2022-01-14T14:28:07.956Z"
   },
   {
    "duration": 316,
    "start_time": "2022-01-14T14:36:59.946Z"
   },
   {
    "duration": 337,
    "start_time": "2022-01-14T14:45:43.344Z"
   },
   {
    "duration": 236,
    "start_time": "2022-01-14T14:55:17.574Z"
   },
   {
    "duration": 313,
    "start_time": "2022-01-14T17:26:10.209Z"
   },
   {
    "duration": 1229,
    "start_time": "2022-01-14T17:26:37.663Z"
   },
   {
    "duration": 5,
    "start_time": "2022-01-14T17:26:38.894Z"
   },
   {
    "duration": 18,
    "start_time": "2022-01-14T17:26:38.901Z"
   },
   {
    "duration": 11,
    "start_time": "2022-01-14T17:26:38.921Z"
   },
   {
    "duration": 12,
    "start_time": "2022-01-14T17:26:38.934Z"
   },
   {
    "duration": 5,
    "start_time": "2022-01-14T17:26:38.948Z"
   },
   {
    "duration": 7,
    "start_time": "2022-01-14T17:26:38.954Z"
   },
   {
    "duration": 36,
    "start_time": "2022-01-14T17:26:38.963Z"
   },
   {
    "duration": 8,
    "start_time": "2022-01-14T17:26:39.002Z"
   },
   {
    "duration": 460,
    "start_time": "2022-01-14T17:26:39.013Z"
   },
   {
    "duration": 8,
    "start_time": "2022-01-14T17:26:39.474Z"
   },
   {
    "duration": 418,
    "start_time": "2022-01-14T17:26:39.484Z"
   },
   {
    "duration": 388,
    "start_time": "2022-01-14T17:26:39.905Z"
   },
   {
    "duration": 43,
    "start_time": "2022-01-14T17:26:40.295Z"
   },
   {
    "duration": 468,
    "start_time": "2022-01-14T17:26:40.339Z"
   },
   {
    "duration": 6,
    "start_time": "2022-01-14T17:26:40.810Z"
   },
   {
    "duration": 538,
    "start_time": "2022-01-14T17:26:40.817Z"
   },
   {
    "duration": 1578,
    "start_time": "2022-01-14T17:26:41.357Z"
   },
   {
    "duration": 1080,
    "start_time": "2022-01-14T17:26:42.936Z"
   },
   {
    "duration": 64,
    "start_time": "2022-01-14T17:26:44.018Z"
   },
   {
    "duration": 443,
    "start_time": "2022-01-14T17:26:44.084Z"
   },
   {
    "duration": 4,
    "start_time": "2022-01-14T17:26:44.528Z"
   },
   {
    "duration": 319,
    "start_time": "2022-01-14T17:26:44.535Z"
   },
   {
    "duration": 377,
    "start_time": "2022-01-14T17:26:44.855Z"
   },
   {
    "duration": 22,
    "start_time": "2022-01-14T17:27:28.632Z"
   },
   {
    "duration": 2,
    "start_time": "2022-01-14T17:30:12.489Z"
   },
   {
    "duration": 4,
    "start_time": "2022-01-14T17:30:25.120Z"
   },
   {
    "duration": 301,
    "start_time": "2022-01-14T17:33:41.161Z"
   },
   {
    "duration": 12,
    "start_time": "2022-01-14T17:40:09.134Z"
   },
   {
    "duration": 13,
    "start_time": "2022-01-14T17:41:35.749Z"
   },
   {
    "duration": 12,
    "start_time": "2022-01-14T17:41:46.472Z"
   },
   {
    "duration": 11,
    "start_time": "2022-01-14T17:41:54.438Z"
   },
   {
    "duration": 13,
    "start_time": "2022-01-14T17:42:01.415Z"
   },
   {
    "duration": 19,
    "start_time": "2022-01-14T17:42:30.600Z"
   },
   {
    "duration": 8,
    "start_time": "2022-01-14T17:46:19.981Z"
   },
   {
    "duration": 7,
    "start_time": "2022-01-14T17:48:14.453Z"
   },
   {
    "duration": 92,
    "start_time": "2022-01-14T17:50:46.172Z"
   },
   {
    "duration": 13,
    "start_time": "2022-01-14T17:50:49.597Z"
   },
   {
    "duration": 11,
    "start_time": "2022-01-14T17:50:59.270Z"
   },
   {
    "duration": 12,
    "start_time": "2022-01-14T17:57:57.917Z"
   },
   {
    "duration": 296,
    "start_time": "2022-01-14T17:58:09.943Z"
   },
   {
    "duration": 14,
    "start_time": "2022-01-14T17:58:18.889Z"
   },
   {
    "duration": 9,
    "start_time": "2022-01-14T17:58:52.614Z"
   },
   {
    "duration": 17,
    "start_time": "2022-01-14T17:59:01.691Z"
   },
   {
    "duration": 11,
    "start_time": "2022-01-14T17:59:36.156Z"
   },
   {
    "duration": 14,
    "start_time": "2022-01-14T18:00:03.772Z"
   },
   {
    "duration": 81,
    "start_time": "2022-01-14T18:01:31.868Z"
   },
   {
    "duration": 282,
    "start_time": "2022-01-14T18:01:55.267Z"
   },
   {
    "duration": 26,
    "start_time": "2022-01-14T18:03:02.515Z"
   },
   {
    "duration": 20,
    "start_time": "2022-01-14T18:03:28.792Z"
   },
   {
    "duration": 287,
    "start_time": "2022-01-14T18:04:31.276Z"
   },
   {
    "duration": 293,
    "start_time": "2022-01-14T18:04:48.581Z"
   },
   {
    "duration": 16,
    "start_time": "2022-01-14T18:04:59.010Z"
   },
   {
    "duration": 20,
    "start_time": "2022-01-14T18:05:20.715Z"
   },
   {
    "duration": 23,
    "start_time": "2022-01-14T18:05:33.964Z"
   },
   {
    "duration": 299,
    "start_time": "2022-01-14T18:06:34.240Z"
   },
   {
    "duration": 286,
    "start_time": "2022-01-14T18:07:06.300Z"
   },
   {
    "duration": 31,
    "start_time": "2022-01-14T18:09:42.973Z"
   },
   {
    "duration": 14,
    "start_time": "2022-01-14T18:11:34.557Z"
   },
   {
    "duration": 21,
    "start_time": "2022-01-14T18:11:45.157Z"
   },
   {
    "duration": 93,
    "start_time": "2022-01-14T18:15:22.817Z"
   },
   {
    "duration": 81,
    "start_time": "2022-01-14T18:15:35.320Z"
   },
   {
    "duration": 23,
    "start_time": "2022-01-14T18:15:43.917Z"
   },
   {
    "duration": 22,
    "start_time": "2022-01-14T18:16:05.543Z"
   },
   {
    "duration": 24,
    "start_time": "2022-01-14T18:16:13.871Z"
   },
   {
    "duration": 26,
    "start_time": "2022-01-14T18:17:01.919Z"
   },
   {
    "duration": 22,
    "start_time": "2022-01-14T18:35:26.027Z"
   },
   {
    "duration": 281,
    "start_time": "2022-01-14T18:52:20.082Z"
   },
   {
    "duration": 22,
    "start_time": "2022-01-14T18:52:27.749Z"
   },
   {
    "duration": 85,
    "start_time": "2022-01-14T18:57:25.082Z"
   },
   {
    "duration": 22,
    "start_time": "2022-01-14T19:10:26.695Z"
   },
   {
    "duration": 7,
    "start_time": "2022-01-14T21:14:16.602Z"
   },
   {
    "duration": 8,
    "start_time": "2022-01-14T21:14:34.870Z"
   },
   {
    "duration": 10,
    "start_time": "2022-01-14T21:14:47.790Z"
   },
   {
    "duration": 2,
    "start_time": "2022-01-14T21:16:35.608Z"
   },
   {
    "duration": 2,
    "start_time": "2022-01-14T21:16:37.987Z"
   },
   {
    "duration": 11,
    "start_time": "2022-01-14T21:18:38.831Z"
   },
   {
    "duration": 10,
    "start_time": "2022-01-14T21:19:02.707Z"
   },
   {
    "duration": 12,
    "start_time": "2022-01-14T21:25:04.985Z"
   },
   {
    "duration": 11,
    "start_time": "2022-01-14T21:26:39.802Z"
   },
   {
    "duration": 12,
    "start_time": "2022-01-14T21:27:01.475Z"
   },
   {
    "duration": 12,
    "start_time": "2022-01-14T21:29:36.442Z"
   },
   {
    "duration": 96,
    "start_time": "2022-01-14T21:31:03.550Z"
   },
   {
    "duration": 13,
    "start_time": "2022-01-14T21:32:05.181Z"
   },
   {
    "duration": 12,
    "start_time": "2022-01-14T21:32:34.673Z"
   },
   {
    "duration": 12,
    "start_time": "2022-01-14T21:32:46.869Z"
   },
   {
    "duration": 12,
    "start_time": "2022-01-14T21:33:00.223Z"
   },
   {
    "duration": 12,
    "start_time": "2022-01-14T21:33:30.692Z"
   },
   {
    "duration": 12,
    "start_time": "2022-01-14T21:33:55.422Z"
   },
   {
    "duration": 12,
    "start_time": "2022-01-14T21:34:04.798Z"
   },
   {
    "duration": 12,
    "start_time": "2022-01-14T21:34:10.022Z"
   },
   {
    "duration": 12,
    "start_time": "2022-01-14T21:34:23.721Z"
   },
   {
    "duration": 12,
    "start_time": "2022-01-14T21:34:58.700Z"
   },
   {
    "duration": 11,
    "start_time": "2022-01-14T21:37:26.518Z"
   },
   {
    "duration": 11,
    "start_time": "2022-01-14T21:37:35.154Z"
   },
   {
    "duration": 12,
    "start_time": "2022-01-14T21:45:35.610Z"
   },
   {
    "duration": 11,
    "start_time": "2022-01-14T21:45:52.486Z"
   },
   {
    "duration": 12,
    "start_time": "2022-01-14T21:46:19.473Z"
   },
   {
    "duration": 13,
    "start_time": "2022-01-14T21:46:24.550Z"
   },
   {
    "duration": 13,
    "start_time": "2022-01-14T21:47:07.967Z"
   },
   {
    "duration": 13,
    "start_time": "2022-01-14T21:47:23.939Z"
   },
   {
    "duration": 63,
    "start_time": "2022-01-14T21:48:59.962Z"
   },
   {
    "duration": 7,
    "start_time": "2022-01-14T21:49:00.028Z"
   },
   {
    "duration": 6,
    "start_time": "2022-01-14T21:49:00.037Z"
   },
   {
    "duration": 8,
    "start_time": "2022-01-14T21:49:00.046Z"
   },
   {
    "duration": 13,
    "start_time": "2022-01-14T21:49:00.056Z"
   },
   {
    "duration": 6,
    "start_time": "2022-01-14T21:49:00.098Z"
   },
   {
    "duration": 13,
    "start_time": "2022-01-14T21:49:00.106Z"
   },
   {
    "duration": 24,
    "start_time": "2022-01-14T21:49:00.122Z"
   },
   {
    "duration": 5,
    "start_time": "2022-01-14T21:49:00.148Z"
   },
   {
    "duration": 546,
    "start_time": "2022-01-14T21:49:00.155Z"
   },
   {
    "duration": 8,
    "start_time": "2022-01-14T21:49:00.702Z"
   },
   {
    "duration": 448,
    "start_time": "2022-01-14T21:49:00.712Z"
   },
   {
    "duration": 409,
    "start_time": "2022-01-14T21:49:01.162Z"
   },
   {
    "duration": 64,
    "start_time": "2022-01-14T21:49:01.573Z"
   },
   {
    "duration": 482,
    "start_time": "2022-01-14T21:49:01.639Z"
   },
   {
    "duration": 5,
    "start_time": "2022-01-14T21:49:02.122Z"
   },
   {
    "duration": 454,
    "start_time": "2022-01-14T21:49:02.129Z"
   },
   {
    "duration": 1303,
    "start_time": "2022-01-14T21:49:02.585Z"
   },
   {
    "duration": 1016,
    "start_time": "2022-01-14T21:49:03.890Z"
   },
   {
    "duration": 61,
    "start_time": "2022-01-14T21:49:04.908Z"
   },
   {
    "duration": 404,
    "start_time": "2022-01-14T21:49:04.971Z"
   },
   {
    "duration": 4,
    "start_time": "2022-01-14T21:49:05.376Z"
   },
   {
    "duration": 315,
    "start_time": "2022-01-14T21:49:05.384Z"
   },
   {
    "duration": 24,
    "start_time": "2022-01-14T21:49:05.701Z"
   },
   {
    "duration": 24,
    "start_time": "2022-01-14T21:49:05.727Z"
   },
   {
    "duration": 49,
    "start_time": "2022-01-14T21:49:05.752Z"
   },
   {
    "duration": 12,
    "start_time": "2022-01-14T21:49:05.803Z"
   },
   {
    "duration": 13,
    "start_time": "2022-01-14T21:49:05.817Z"
   },
   {
    "duration": 11,
    "start_time": "2022-01-14T21:50:54.627Z"
   },
   {
    "duration": 13,
    "start_time": "2022-01-14T21:51:01.711Z"
   },
   {
    "duration": 1567,
    "start_time": "2022-01-14T21:54:08.090Z"
   },
   {
    "duration": 4,
    "start_time": "2022-01-14T21:54:09.659Z"
   },
   {
    "duration": 7,
    "start_time": "2022-01-14T21:54:09.665Z"
   },
   {
    "duration": 8,
    "start_time": "2022-01-14T21:54:09.673Z"
   },
   {
    "duration": 8,
    "start_time": "2022-01-14T21:54:09.682Z"
   },
   {
    "duration": 6,
    "start_time": "2022-01-14T21:54:09.692Z"
   },
   {
    "duration": 6,
    "start_time": "2022-01-14T21:54:09.699Z"
   },
   {
    "duration": 31,
    "start_time": "2022-01-14T21:54:09.708Z"
   },
   {
    "duration": 5,
    "start_time": "2022-01-14T21:54:09.741Z"
   },
   {
    "duration": 437,
    "start_time": "2022-01-14T21:54:09.748Z"
   },
   {
    "duration": 17,
    "start_time": "2022-01-14T21:54:10.187Z"
   },
   {
    "duration": 371,
    "start_time": "2022-01-14T21:54:10.206Z"
   },
   {
    "duration": 343,
    "start_time": "2022-01-14T21:54:10.578Z"
   },
   {
    "duration": 33,
    "start_time": "2022-01-14T21:54:10.922Z"
   },
   {
    "duration": 430,
    "start_time": "2022-01-14T21:54:10.957Z"
   },
   {
    "duration": 11,
    "start_time": "2022-01-14T21:54:11.388Z"
   },
   {
    "duration": 503,
    "start_time": "2022-01-14T21:54:11.400Z"
   },
   {
    "duration": 927,
    "start_time": "2022-01-14T21:54:11.905Z"
   },
   {
    "duration": 68,
    "start_time": "2022-01-14T21:54:12.833Z"
   },
   {
    "duration": 394,
    "start_time": "2022-01-14T21:54:12.902Z"
   },
   {
    "duration": 287,
    "start_time": "2022-01-14T21:54:13.299Z"
   },
   {
    "duration": 31,
    "start_time": "2022-01-14T21:54:13.588Z"
   },
   {
    "duration": 20,
    "start_time": "2022-01-14T21:54:13.622Z"
   },
   {
    "duration": 21,
    "start_time": "2022-01-14T21:54:13.644Z"
   },
   {
    "duration": 32,
    "start_time": "2022-01-14T21:54:13.666Z"
   },
   {
    "duration": 10,
    "start_time": "2022-01-14T21:54:13.700Z"
   },
   {
    "duration": 1198,
    "start_time": "2022-01-15T20:55:56.359Z"
   },
   {
    "duration": 4,
    "start_time": "2022-01-15T20:55:57.559Z"
   },
   {
    "duration": 6,
    "start_time": "2022-01-15T20:55:57.565Z"
   },
   {
    "duration": 6,
    "start_time": "2022-01-15T20:55:57.573Z"
   },
   {
    "duration": 9,
    "start_time": "2022-01-15T20:55:57.581Z"
   },
   {
    "duration": 9,
    "start_time": "2022-01-15T20:55:57.591Z"
   },
   {
    "duration": 7,
    "start_time": "2022-01-15T20:55:57.601Z"
   },
   {
    "duration": 25,
    "start_time": "2022-01-15T20:55:57.610Z"
   },
   {
    "duration": 5,
    "start_time": "2022-01-15T20:55:57.636Z"
   },
   {
    "duration": 355,
    "start_time": "2022-01-15T20:56:00.088Z"
   },
   {
    "duration": 351,
    "start_time": "2022-01-15T20:56:47.089Z"
   },
   {
    "duration": 359,
    "start_time": "2022-01-15T20:57:30.196Z"
   },
   {
    "duration": 9,
    "start_time": "2022-01-15T20:58:10.686Z"
   },
   {
    "duration": 9,
    "start_time": "2022-01-15T20:58:13.524Z"
   },
   {
    "duration": 332,
    "start_time": "2022-01-15T20:58:23.340Z"
   },
   {
    "duration": 383,
    "start_time": "2022-01-15T20:58:52.037Z"
   },
   {
    "duration": 342,
    "start_time": "2022-01-15T20:59:06.089Z"
   },
   {
    "duration": 328,
    "start_time": "2022-01-15T20:59:23.570Z"
   },
   {
    "duration": 323,
    "start_time": "2022-01-15T20:59:46.622Z"
   },
   {
    "duration": 317,
    "start_time": "2022-01-15T20:59:58.134Z"
   },
   {
    "duration": 378,
    "start_time": "2022-01-15T21:00:07.185Z"
   },
   {
    "duration": 340,
    "start_time": "2022-01-15T21:00:30.006Z"
   },
   {
    "duration": 333,
    "start_time": "2022-01-15T21:00:33.940Z"
   },
   {
    "duration": 561,
    "start_time": "2022-01-15T21:01:44.660Z"
   },
   {
    "duration": 34,
    "start_time": "2022-01-15T21:04:39.645Z"
   },
   {
    "duration": 36,
    "start_time": "2022-01-15T21:05:27.846Z"
   },
   {
    "duration": 34,
    "start_time": "2022-01-15T21:05:51.409Z"
   },
   {
    "duration": 406,
    "start_time": "2022-01-15T21:06:21.259Z"
   },
   {
    "duration": 396,
    "start_time": "2022-01-15T21:06:33.734Z"
   },
   {
    "duration": 4,
    "start_time": "2022-01-15T21:07:28.455Z"
   },
   {
    "duration": 357,
    "start_time": "2022-01-15T21:08:22.362Z"
   },
   {
    "duration": 847,
    "start_time": "2022-01-15T21:09:53.997Z"
   },
   {
    "duration": 799,
    "start_time": "2022-01-15T21:10:56.050Z"
   },
   {
    "duration": 1038,
    "start_time": "2022-01-15T21:11:16.310Z"
   },
   {
    "duration": 65,
    "start_time": "2022-01-15T21:11:23.287Z"
   },
   {
    "duration": 63,
    "start_time": "2022-01-15T21:11:31.790Z"
   },
   {
    "duration": 61,
    "start_time": "2022-01-15T21:11:50.520Z"
   },
   {
    "duration": 58,
    "start_time": "2022-01-15T21:12:02.135Z"
   },
   {
    "duration": 61,
    "start_time": "2022-01-15T21:12:04.812Z"
   },
   {
    "duration": 357,
    "start_time": "2022-01-15T21:13:32.538Z"
   },
   {
    "duration": 362,
    "start_time": "2022-01-15T21:13:59.660Z"
   },
   {
    "duration": 257,
    "start_time": "2022-01-15T21:15:58.280Z"
   },
   {
    "duration": 23,
    "start_time": "2022-01-15T21:17:17.664Z"
   },
   {
    "duration": 22,
    "start_time": "2022-01-15T21:20:22.191Z"
   },
   {
    "duration": 22,
    "start_time": "2022-01-15T21:20:47.400Z"
   },
   {
    "duration": 12,
    "start_time": "2022-01-15T21:26:55.549Z"
   },
   {
    "duration": 12,
    "start_time": "2022-01-15T21:27:41.181Z"
   },
   {
    "duration": 12,
    "start_time": "2022-01-15T21:28:48.928Z"
   },
   {
    "duration": 12,
    "start_time": "2022-01-15T21:29:00.129Z"
   },
   {
    "duration": 13,
    "start_time": "2022-01-15T21:29:26.042Z"
   },
   {
    "duration": 12,
    "start_time": "2022-01-15T21:29:30.750Z"
   },
   {
    "duration": 11,
    "start_time": "2022-01-15T21:30:18.073Z"
   },
   {
    "duration": 11,
    "start_time": "2022-01-15T21:30:57.559Z"
   },
   {
    "duration": 12,
    "start_time": "2022-01-15T21:31:08.739Z"
   },
   {
    "duration": 11,
    "start_time": "2022-01-15T21:31:19.516Z"
   },
   {
    "duration": 12,
    "start_time": "2022-01-15T21:31:37.351Z"
   },
   {
    "duration": 13,
    "start_time": "2022-01-15T21:32:44.471Z"
   },
   {
    "duration": 12,
    "start_time": "2022-01-15T21:32:59.355Z"
   },
   {
    "duration": 14,
    "start_time": "2022-01-15T21:33:09.628Z"
   },
   {
    "duration": 14,
    "start_time": "2022-01-15T21:33:26.498Z"
   },
   {
    "duration": 56,
    "start_time": "2022-01-15T21:35:20.296Z"
   },
   {
    "duration": 5,
    "start_time": "2022-01-15T21:35:20.353Z"
   },
   {
    "duration": 6,
    "start_time": "2022-01-15T21:35:20.361Z"
   },
   {
    "duration": 22,
    "start_time": "2022-01-15T21:35:20.369Z"
   },
   {
    "duration": 12,
    "start_time": "2022-01-15T21:35:20.393Z"
   },
   {
    "duration": 16,
    "start_time": "2022-01-15T21:35:20.407Z"
   },
   {
    "duration": 17,
    "start_time": "2022-01-15T21:35:20.425Z"
   },
   {
    "duration": 33,
    "start_time": "2022-01-15T21:35:20.445Z"
   },
   {
    "duration": 4,
    "start_time": "2022-01-15T21:35:20.480Z"
   },
   {
    "duration": 378,
    "start_time": "2022-01-15T21:35:20.486Z"
   },
   {
    "duration": 7,
    "start_time": "2022-01-15T21:35:20.866Z"
   },
   {
    "duration": 349,
    "start_time": "2022-01-15T21:35:20.875Z"
   },
   {
    "duration": 452,
    "start_time": "2022-01-15T21:35:21.226Z"
   },
   {
    "duration": 35,
    "start_time": "2022-01-15T21:35:21.679Z"
   },
   {
    "duration": 427,
    "start_time": "2022-01-15T21:35:21.716Z"
   },
   {
    "duration": 385,
    "start_time": "2022-01-15T21:35:22.145Z"
   },
   {
    "duration": 907,
    "start_time": "2022-01-15T21:35:22.531Z"
   },
   {
    "duration": 67,
    "start_time": "2022-01-15T21:35:23.440Z"
   },
   {
    "duration": 351,
    "start_time": "2022-01-15T21:35:23.509Z"
   },
   {
    "duration": 263,
    "start_time": "2022-01-15T21:35:23.862Z"
   },
   {
    "duration": 36,
    "start_time": "2022-01-15T21:35:24.127Z"
   },
   {
    "duration": 23,
    "start_time": "2022-01-15T21:35:24.164Z"
   },
   {
    "duration": 23,
    "start_time": "2022-01-15T21:35:24.190Z"
   },
   {
    "duration": 12,
    "start_time": "2022-01-15T21:35:24.214Z"
   },
   {
    "duration": 40,
    "start_time": "2022-01-15T21:35:24.227Z"
   },
   {
    "duration": 36,
    "start_time": "2022-01-15T21:38:25.271Z"
   },
   {
    "duration": 11,
    "start_time": "2022-01-15T21:39:49.135Z"
   },
   {
    "duration": 18,
    "start_time": "2022-01-15T21:40:55.270Z"
   },
   {
    "duration": 7,
    "start_time": "2022-01-15T21:41:36.492Z"
   },
   {
    "duration": 8,
    "start_time": "2022-01-15T21:47:06.701Z"
   },
   {
    "duration": 10,
    "start_time": "2022-01-15T21:47:31.762Z"
   },
   {
    "duration": 4,
    "start_time": "2022-01-15T21:47:51.461Z"
   },
   {
    "duration": 9,
    "start_time": "2022-01-15T21:48:09.202Z"
   },
   {
    "duration": 8,
    "start_time": "2022-01-15T21:48:44.812Z"
   },
   {
    "duration": 9,
    "start_time": "2022-01-15T21:52:29.356Z"
   },
   {
    "duration": 61,
    "start_time": "2022-01-15T21:58:00.968Z"
   },
   {
    "duration": 6,
    "start_time": "2022-01-15T21:58:01.031Z"
   },
   {
    "duration": 21,
    "start_time": "2022-01-15T21:58:01.040Z"
   },
   {
    "duration": 16,
    "start_time": "2022-01-15T21:58:01.063Z"
   },
   {
    "duration": 18,
    "start_time": "2022-01-15T21:58:01.081Z"
   },
   {
    "duration": 25,
    "start_time": "2022-01-15T21:58:01.101Z"
   },
   {
    "duration": 12,
    "start_time": "2022-01-15T21:58:01.128Z"
   },
   {
    "duration": 31,
    "start_time": "2022-01-15T21:58:01.143Z"
   },
   {
    "duration": 5,
    "start_time": "2022-01-15T21:58:01.177Z"
   },
   {
    "duration": 519,
    "start_time": "2022-01-15T21:58:01.184Z"
   },
   {
    "duration": 9,
    "start_time": "2022-01-15T21:58:01.704Z"
   },
   {
    "duration": 379,
    "start_time": "2022-01-15T21:58:01.715Z"
   },
   {
    "duration": 370,
    "start_time": "2022-01-15T21:58:02.096Z"
   },
   {
    "duration": 38,
    "start_time": "2022-01-15T21:58:02.468Z"
   },
   {
    "duration": 415,
    "start_time": "2022-01-15T21:58:02.508Z"
   },
   {
    "duration": 374,
    "start_time": "2022-01-15T21:58:02.924Z"
   },
   {
    "duration": 839,
    "start_time": "2022-01-15T21:58:03.300Z"
   },
   {
    "duration": 72,
    "start_time": "2022-01-15T21:58:04.141Z"
   },
   {
    "duration": 475,
    "start_time": "2022-01-15T21:58:04.215Z"
   },
   {
    "duration": 271,
    "start_time": "2022-01-15T21:58:04.692Z"
   },
   {
    "duration": 23,
    "start_time": "2022-01-15T21:58:04.965Z"
   },
   {
    "duration": 23,
    "start_time": "2022-01-15T21:58:04.989Z"
   },
   {
    "duration": 48,
    "start_time": "2022-01-15T21:58:05.015Z"
   },
   {
    "duration": 13,
    "start_time": "2022-01-15T21:58:05.065Z"
   },
   {
    "duration": 17,
    "start_time": "2022-01-15T21:58:05.080Z"
   },
   {
    "duration": 1306,
    "start_time": "2022-01-15T22:03:29.934Z"
   },
   {
    "duration": 5,
    "start_time": "2022-01-15T22:03:31.242Z"
   },
   {
    "duration": 10,
    "start_time": "2022-01-15T22:03:31.249Z"
   },
   {
    "duration": 5,
    "start_time": "2022-01-15T22:03:31.262Z"
   },
   {
    "duration": 23,
    "start_time": "2022-01-15T22:03:31.269Z"
   },
   {
    "duration": 10,
    "start_time": "2022-01-15T22:03:31.294Z"
   },
   {
    "duration": 13,
    "start_time": "2022-01-15T22:03:31.306Z"
   },
   {
    "duration": 27,
    "start_time": "2022-01-15T22:03:31.322Z"
   },
   {
    "duration": 5,
    "start_time": "2022-01-15T22:03:31.351Z"
   },
   {
    "duration": 373,
    "start_time": "2022-01-15T22:03:31.357Z"
   },
   {
    "duration": 8,
    "start_time": "2022-01-15T22:03:31.732Z"
   },
   {
    "duration": 351,
    "start_time": "2022-01-15T22:03:31.742Z"
   },
   {
    "duration": 335,
    "start_time": "2022-01-15T22:03:32.094Z"
   },
   {
    "duration": 48,
    "start_time": "2022-01-15T22:03:32.431Z"
   },
   {
    "duration": 421,
    "start_time": "2022-01-15T22:03:32.481Z"
   },
   {
    "duration": 483,
    "start_time": "2022-01-15T22:03:32.904Z"
   },
   {
    "duration": 856,
    "start_time": "2022-01-15T22:03:33.389Z"
   },
   {
    "duration": 74,
    "start_time": "2022-01-15T22:03:34.246Z"
   },
   {
    "duration": 363,
    "start_time": "2022-01-15T22:03:34.321Z"
   },
   {
    "duration": 277,
    "start_time": "2022-01-15T22:03:34.686Z"
   },
   {
    "duration": 27,
    "start_time": "2022-01-15T22:03:34.965Z"
   },
   {
    "duration": 22,
    "start_time": "2022-01-15T22:03:34.994Z"
   },
   {
    "duration": 53,
    "start_time": "2022-01-15T22:03:35.019Z"
   },
   {
    "duration": 13,
    "start_time": "2022-01-15T22:03:35.074Z"
   },
   {
    "duration": 14,
    "start_time": "2022-01-15T22:03:35.088Z"
   },
   {
    "duration": 14,
    "start_time": "2022-01-15T22:07:04.398Z"
   },
   {
    "duration": 13,
    "start_time": "2022-01-15T22:07:18.755Z"
   },
   {
    "duration": 79,
    "start_time": "2022-01-15T22:11:03.022Z"
   },
   {
    "duration": 6,
    "start_time": "2022-01-15T22:11:03.104Z"
   },
   {
    "duration": 5,
    "start_time": "2022-01-15T22:11:03.112Z"
   },
   {
    "duration": 9,
    "start_time": "2022-01-15T22:11:03.120Z"
   },
   {
    "duration": 30,
    "start_time": "2022-01-15T22:11:03.131Z"
   },
   {
    "duration": 6,
    "start_time": "2022-01-15T22:11:03.163Z"
   },
   {
    "duration": 9,
    "start_time": "2022-01-15T22:11:03.171Z"
   },
   {
    "duration": 31,
    "start_time": "2022-01-15T22:11:03.185Z"
   },
   {
    "duration": 5,
    "start_time": "2022-01-15T22:11:03.219Z"
   },
   {
    "duration": 629,
    "start_time": "2022-01-15T22:11:03.226Z"
   },
   {
    "duration": 10,
    "start_time": "2022-01-15T22:11:03.861Z"
   },
   {
    "duration": 569,
    "start_time": "2022-01-15T22:11:03.873Z"
   },
   {
    "duration": 438,
    "start_time": "2022-01-15T22:11:04.444Z"
   },
   {
    "duration": 36,
    "start_time": "2022-01-15T22:11:04.883Z"
   },
   {
    "duration": 434,
    "start_time": "2022-01-15T22:11:04.921Z"
   },
   {
    "duration": 390,
    "start_time": "2022-01-15T22:11:05.356Z"
   },
   {
    "duration": 902,
    "start_time": "2022-01-15T22:11:05.748Z"
   },
   {
    "duration": 68,
    "start_time": "2022-01-15T22:11:06.652Z"
   },
   {
    "duration": 376,
    "start_time": "2022-01-15T22:11:06.721Z"
   },
   {
    "duration": 285,
    "start_time": "2022-01-15T22:11:07.098Z"
   },
   {
    "duration": 24,
    "start_time": "2022-01-15T22:11:07.385Z"
   },
   {
    "duration": 24,
    "start_time": "2022-01-15T22:11:07.411Z"
   },
   {
    "duration": 23,
    "start_time": "2022-01-15T22:11:07.462Z"
   },
   {
    "duration": 44,
    "start_time": "2022-01-15T22:11:07.486Z"
   },
   {
    "duration": 20,
    "start_time": "2022-01-15T22:11:07.533Z"
   },
   {
    "duration": 53,
    "start_time": "2022-01-15T22:18:57.754Z"
   },
   {
    "duration": 5,
    "start_time": "2022-01-15T22:18:57.809Z"
   },
   {
    "duration": 4,
    "start_time": "2022-01-15T22:18:57.816Z"
   },
   {
    "duration": 15,
    "start_time": "2022-01-15T22:18:57.822Z"
   },
   {
    "duration": 21,
    "start_time": "2022-01-15T22:18:57.839Z"
   },
   {
    "duration": 6,
    "start_time": "2022-01-15T22:18:57.862Z"
   },
   {
    "duration": 8,
    "start_time": "2022-01-15T22:18:57.869Z"
   },
   {
    "duration": 23,
    "start_time": "2022-01-15T22:18:57.879Z"
   },
   {
    "duration": 3,
    "start_time": "2022-01-15T22:18:57.904Z"
   },
   {
    "duration": 453,
    "start_time": "2022-01-15T22:18:57.909Z"
   },
   {
    "duration": 8,
    "start_time": "2022-01-15T22:18:58.364Z"
   },
   {
    "duration": 334,
    "start_time": "2022-01-15T22:18:58.374Z"
   },
   {
    "duration": 324,
    "start_time": "2022-01-15T22:18:58.710Z"
   },
   {
    "duration": 42,
    "start_time": "2022-01-15T22:18:59.036Z"
   },
   {
    "duration": 382,
    "start_time": "2022-01-15T22:18:59.079Z"
   },
   {
    "duration": 381,
    "start_time": "2022-01-15T22:18:59.462Z"
   },
   {
    "duration": 802,
    "start_time": "2022-01-15T22:18:59.844Z"
   },
   {
    "duration": 65,
    "start_time": "2022-01-15T22:19:00.648Z"
   },
   {
    "duration": 454,
    "start_time": "2022-01-15T22:19:00.715Z"
   },
   {
    "duration": 281,
    "start_time": "2022-01-15T22:19:01.171Z"
   },
   {
    "duration": 25,
    "start_time": "2022-01-15T22:19:01.454Z"
   },
   {
    "duration": 20,
    "start_time": "2022-01-15T22:19:01.481Z"
   },
   {
    "duration": 31,
    "start_time": "2022-01-15T22:19:01.504Z"
   },
   {
    "duration": 27,
    "start_time": "2022-01-15T22:19:01.537Z"
   },
   {
    "duration": 53,
    "start_time": "2022-01-15T22:19:01.566Z"
   },
   {
    "duration": 1637,
    "start_time": "2022-01-18T16:12:46.549Z"
   },
   {
    "duration": 8,
    "start_time": "2022-01-18T16:12:48.190Z"
   },
   {
    "duration": 21,
    "start_time": "2022-01-18T16:12:48.202Z"
   },
   {
    "duration": 21,
    "start_time": "2022-01-18T16:12:48.227Z"
   },
   {
    "duration": 12,
    "start_time": "2022-01-18T16:12:48.251Z"
   },
   {
    "duration": 8,
    "start_time": "2022-01-18T16:12:48.266Z"
   },
   {
    "duration": 7,
    "start_time": "2022-01-18T16:12:48.277Z"
   },
   {
    "duration": 72,
    "start_time": "2022-01-18T16:12:48.288Z"
   },
   {
    "duration": 8,
    "start_time": "2022-01-18T16:12:48.364Z"
   },
   {
    "duration": 639,
    "start_time": "2022-01-18T16:12:48.375Z"
   },
   {
    "duration": 15,
    "start_time": "2022-01-18T16:12:49.016Z"
   },
   {
    "duration": 566,
    "start_time": "2022-01-18T16:12:49.033Z"
   },
   {
    "duration": 544,
    "start_time": "2022-01-18T16:12:49.601Z"
   },
   {
    "duration": 45,
    "start_time": "2022-01-18T16:12:50.147Z"
   },
   {
    "duration": 683,
    "start_time": "2022-01-18T16:12:50.194Z"
   },
   {
    "duration": 786,
    "start_time": "2022-01-18T16:12:50.880Z"
   },
   {
    "duration": 1381,
    "start_time": "2022-01-18T16:12:51.668Z"
   },
   {
    "duration": 120,
    "start_time": "2022-01-18T16:12:53.052Z"
   },
   {
    "duration": 616,
    "start_time": "2022-01-18T16:12:53.175Z"
   },
   {
    "duration": 472,
    "start_time": "2022-01-18T16:12:53.794Z"
   },
   {
    "duration": 36,
    "start_time": "2022-01-18T16:12:54.269Z"
   },
   {
    "duration": 51,
    "start_time": "2022-01-18T16:12:54.308Z"
   },
   {
    "duration": 32,
    "start_time": "2022-01-18T16:12:54.363Z"
   },
   {
    "duration": 50,
    "start_time": "2022-01-18T16:12:54.397Z"
   },
   {
    "duration": 24,
    "start_time": "2022-01-18T16:12:54.450Z"
   },
   {
    "duration": 9,
    "start_time": "2022-01-18T16:56:15.447Z"
   },
   {
    "duration": 1571,
    "start_time": "2022-01-18T16:59:04.327Z"
   },
   {
    "duration": 8,
    "start_time": "2022-01-18T16:59:05.902Z"
   },
   {
    "duration": 4,
    "start_time": "2022-01-18T16:59:05.923Z"
   },
   {
    "duration": 11,
    "start_time": "2022-01-18T16:59:05.930Z"
   },
   {
    "duration": 10,
    "start_time": "2022-01-18T16:59:05.943Z"
   },
   {
    "duration": 17,
    "start_time": "2022-01-18T16:59:05.955Z"
   },
   {
    "duration": 16,
    "start_time": "2022-01-18T16:59:05.974Z"
   },
   {
    "duration": 9,
    "start_time": "2022-01-18T16:59:05.994Z"
   },
   {
    "duration": 31,
    "start_time": "2022-01-18T16:59:06.024Z"
   },
   {
    "duration": 7,
    "start_time": "2022-01-18T16:59:06.058Z"
   },
   {
    "duration": 631,
    "start_time": "2022-01-18T16:59:06.068Z"
   },
   {
    "duration": 24,
    "start_time": "2022-01-18T16:59:06.702Z"
   },
   {
    "duration": 555,
    "start_time": "2022-01-18T16:59:06.729Z"
   },
   {
    "duration": 537,
    "start_time": "2022-01-18T16:59:07.287Z"
   },
   {
    "duration": 46,
    "start_time": "2022-01-18T16:59:07.827Z"
   },
   {
    "duration": 636,
    "start_time": "2022-01-18T16:59:07.876Z"
   },
   {
    "duration": 787,
    "start_time": "2022-01-18T16:59:08.514Z"
   },
   {
    "duration": 1261,
    "start_time": "2022-01-18T16:59:09.304Z"
   },
   {
    "duration": 107,
    "start_time": "2022-01-18T16:59:10.567Z"
   },
   {
    "duration": 580,
    "start_time": "2022-01-18T16:59:10.677Z"
   },
   {
    "duration": 421,
    "start_time": "2022-01-18T16:59:11.260Z"
   },
   {
    "duration": 59,
    "start_time": "2022-01-18T16:59:11.684Z"
   },
   {
    "duration": 46,
    "start_time": "2022-01-18T16:59:11.749Z"
   },
   {
    "duration": 55,
    "start_time": "2022-01-18T16:59:11.798Z"
   },
   {
    "duration": 18,
    "start_time": "2022-01-18T16:59:11.855Z"
   },
   {
    "duration": 19,
    "start_time": "2022-01-18T16:59:11.875Z"
   },
   {
    "duration": 122,
    "start_time": "2022-01-18T17:09:06.711Z"
   },
   {
    "duration": 15,
    "start_time": "2022-01-18T17:11:52.628Z"
   },
   {
    "duration": 7,
    "start_time": "2022-01-18T17:33:44.776Z"
   },
   {
    "duration": 8,
    "start_time": "2022-01-18T17:34:14.326Z"
   },
   {
    "duration": 1722,
    "start_time": "2022-01-18T19:11:50.294Z"
   },
   {
    "duration": 7,
    "start_time": "2022-01-18T19:11:52.019Z"
   },
   {
    "duration": 5,
    "start_time": "2022-01-18T19:11:52.030Z"
   },
   {
    "duration": 6,
    "start_time": "2022-01-18T19:11:52.040Z"
   },
   {
    "duration": 11,
    "start_time": "2022-01-18T19:11:52.049Z"
   },
   {
    "duration": 13,
    "start_time": "2022-01-18T19:11:52.063Z"
   },
   {
    "duration": 48,
    "start_time": "2022-01-18T19:11:52.079Z"
   },
   {
    "duration": 12,
    "start_time": "2022-01-18T19:11:52.130Z"
   },
   {
    "duration": 31,
    "start_time": "2022-01-18T19:11:52.148Z"
   },
   {
    "duration": 41,
    "start_time": "2022-01-18T19:11:52.182Z"
   },
   {
    "duration": 583,
    "start_time": "2022-01-18T19:11:52.226Z"
   },
   {
    "duration": 20,
    "start_time": "2022-01-18T19:11:52.811Z"
   },
   {
    "duration": 792,
    "start_time": "2022-01-18T19:11:52.834Z"
   },
   {
    "duration": 729,
    "start_time": "2022-01-18T19:11:53.629Z"
   },
   {
    "duration": 80,
    "start_time": "2022-01-18T19:11:54.361Z"
   },
   {
    "duration": 909,
    "start_time": "2022-01-18T19:11:54.444Z"
   },
   {
    "duration": 994,
    "start_time": "2022-01-18T19:11:55.356Z"
   },
   {
    "duration": 1456,
    "start_time": "2022-01-18T19:11:56.353Z"
   },
   {
    "duration": 116,
    "start_time": "2022-01-18T19:11:57.812Z"
   },
   {
    "duration": 967,
    "start_time": "2022-01-18T19:11:57.931Z"
   },
   {
    "duration": 622,
    "start_time": "2022-01-18T19:11:58.901Z"
   },
   {
    "duration": 46,
    "start_time": "2022-01-18T19:11:59.526Z"
   },
   {
    "duration": 64,
    "start_time": "2022-01-18T19:11:59.575Z"
   },
   {
    "duration": 35,
    "start_time": "2022-01-18T19:11:59.642Z"
   },
   {
    "duration": 17,
    "start_time": "2022-01-18T19:11:59.683Z"
   },
   {
    "duration": 36,
    "start_time": "2022-01-18T19:11:59.702Z"
   },
   {
    "duration": 1160,
    "start_time": "2022-01-18T21:33:18.582Z"
   },
   {
    "duration": 5,
    "start_time": "2022-01-18T21:33:19.744Z"
   },
   {
    "duration": 15,
    "start_time": "2022-01-18T21:33:19.751Z"
   },
   {
    "duration": 21,
    "start_time": "2022-01-18T21:33:19.769Z"
   },
   {
    "duration": 17,
    "start_time": "2022-01-18T21:33:19.792Z"
   },
   {
    "duration": 24,
    "start_time": "2022-01-18T21:33:19.811Z"
   },
   {
    "duration": 16,
    "start_time": "2022-01-18T21:33:19.837Z"
   },
   {
    "duration": 17,
    "start_time": "2022-01-18T21:33:19.855Z"
   },
   {
    "duration": 34,
    "start_time": "2022-01-18T21:33:19.873Z"
   },
   {
    "duration": 4,
    "start_time": "2022-01-18T21:33:19.909Z"
   },
   {
    "duration": 384,
    "start_time": "2022-01-18T21:33:19.915Z"
   },
   {
    "duration": 7,
    "start_time": "2022-01-18T21:33:20.301Z"
   },
   {
    "duration": 333,
    "start_time": "2022-01-18T21:33:20.310Z"
   },
   {
    "duration": 324,
    "start_time": "2022-01-18T21:33:20.645Z"
   },
   {
    "duration": 33,
    "start_time": "2022-01-18T21:33:20.971Z"
   },
   {
    "duration": 371,
    "start_time": "2022-01-18T21:33:27.311Z"
   },
   {
    "duration": 378,
    "start_time": "2022-01-18T21:38:47.666Z"
   },
   {
    "duration": 56,
    "start_time": "2022-01-18T21:42:44.895Z"
   },
   {
    "duration": 5,
    "start_time": "2022-01-18T21:42:44.953Z"
   },
   {
    "duration": 7,
    "start_time": "2022-01-18T21:42:44.960Z"
   },
   {
    "duration": 7,
    "start_time": "2022-01-18T21:42:44.969Z"
   },
   {
    "duration": 8,
    "start_time": "2022-01-18T21:42:44.978Z"
   },
   {
    "duration": 8,
    "start_time": "2022-01-18T21:42:44.987Z"
   },
   {
    "duration": 8,
    "start_time": "2022-01-18T21:42:44.996Z"
   },
   {
    "duration": 40,
    "start_time": "2022-01-18T21:42:45.007Z"
   },
   {
    "duration": 121,
    "start_time": "2022-01-18T21:42:45.049Z"
   },
   {
    "duration": 5,
    "start_time": "2022-01-18T21:42:45.172Z"
   },
   {
    "duration": 367,
    "start_time": "2022-01-18T21:42:45.178Z"
   },
   {
    "duration": 10,
    "start_time": "2022-01-18T21:42:45.547Z"
   },
   {
    "duration": 338,
    "start_time": "2022-01-18T21:42:45.559Z"
   },
   {
    "duration": 311,
    "start_time": "2022-01-18T21:42:45.899Z"
   },
   {
    "duration": 41,
    "start_time": "2022-01-18T21:42:46.212Z"
   },
   {
    "duration": 375,
    "start_time": "2022-01-18T21:42:46.255Z"
   },
   {
    "duration": 361,
    "start_time": "2022-01-18T21:42:46.631Z"
   },
   {
    "duration": 947,
    "start_time": "2022-01-18T21:42:46.994Z"
   },
   {
    "duration": 156,
    "start_time": "2022-01-18T21:42:47.942Z"
   },
   {
    "duration": 346,
    "start_time": "2022-01-18T21:42:48.100Z"
   },
   {
    "duration": 253,
    "start_time": "2022-01-18T21:42:48.448Z"
   },
   {
    "duration": 23,
    "start_time": "2022-01-18T21:42:48.702Z"
   },
   {
    "duration": 32,
    "start_time": "2022-01-18T21:42:48.728Z"
   },
   {
    "duration": 21,
    "start_time": "2022-01-18T21:42:48.763Z"
   },
   {
    "duration": 12,
    "start_time": "2022-01-18T21:42:48.786Z"
   },
   {
    "duration": 47,
    "start_time": "2022-01-18T21:42:48.800Z"
   },
   {
    "duration": 322,
    "start_time": "2022-01-18T21:48:47.567Z"
   },
   {
    "duration": 299,
    "start_time": "2022-01-18T21:53:46.864Z"
   },
   {
    "duration": 207,
    "start_time": "2022-01-18T21:56:00.642Z"
   },
   {
    "duration": 224,
    "start_time": "2022-01-18T21:56:33.042Z"
   },
   {
    "duration": 211,
    "start_time": "2022-01-18T21:56:42.340Z"
   },
   {
    "duration": 238,
    "start_time": "2022-01-18T21:57:01.147Z"
   },
   {
    "duration": 210,
    "start_time": "2022-01-18T21:57:25.703Z"
   },
   {
    "duration": 312,
    "start_time": "2022-01-18T21:57:46.677Z"
   },
   {
    "duration": 228,
    "start_time": "2022-01-18T21:59:07.213Z"
   },
   {
    "duration": 220,
    "start_time": "2022-01-18T21:59:13.963Z"
   },
   {
    "duration": 219,
    "start_time": "2022-01-18T21:59:24.668Z"
   },
   {
    "duration": 226,
    "start_time": "2022-01-18T21:59:27.883Z"
   },
   {
    "duration": 210,
    "start_time": "2022-01-18T21:59:39.461Z"
   },
   {
    "duration": 244,
    "start_time": "2022-01-18T22:00:02.098Z"
   },
   {
    "duration": 223,
    "start_time": "2022-01-18T22:00:11.015Z"
   },
   {
    "duration": 233,
    "start_time": "2022-01-18T22:00:24.616Z"
   },
   {
    "duration": 216,
    "start_time": "2022-01-18T22:13:07.180Z"
   },
   {
    "duration": 222,
    "start_time": "2022-01-18T22:13:27.269Z"
   },
   {
    "duration": 288,
    "start_time": "2022-01-18T22:14:12.758Z"
   },
   {
    "duration": 220,
    "start_time": "2022-01-18T22:26:49.203Z"
   },
   {
    "duration": 220,
    "start_time": "2022-01-18T22:27:20.521Z"
   },
   {
    "duration": 60,
    "start_time": "2022-01-18T22:30:06.333Z"
   },
   {
    "duration": 5,
    "start_time": "2022-01-18T22:30:06.395Z"
   },
   {
    "duration": 5,
    "start_time": "2022-01-18T22:30:06.402Z"
   },
   {
    "duration": 9,
    "start_time": "2022-01-18T22:30:06.409Z"
   },
   {
    "duration": 27,
    "start_time": "2022-01-18T22:30:06.420Z"
   },
   {
    "duration": 7,
    "start_time": "2022-01-18T22:30:06.449Z"
   },
   {
    "duration": 7,
    "start_time": "2022-01-18T22:30:06.458Z"
   },
   {
    "duration": 9,
    "start_time": "2022-01-18T22:30:06.468Z"
   },
   {
    "duration": 25,
    "start_time": "2022-01-18T22:30:06.479Z"
   },
   {
    "duration": 38,
    "start_time": "2022-01-18T22:30:06.506Z"
   },
   {
    "duration": 392,
    "start_time": "2022-01-18T22:30:06.546Z"
   },
   {
    "duration": 8,
    "start_time": "2022-01-18T22:30:06.941Z"
   },
   {
    "duration": 348,
    "start_time": "2022-01-18T22:30:06.951Z"
   },
   {
    "duration": 346,
    "start_time": "2022-01-18T22:30:07.302Z"
   },
   {
    "duration": 37,
    "start_time": "2022-01-18T22:30:07.650Z"
   },
   {
    "duration": 432,
    "start_time": "2022-01-18T22:30:07.689Z"
   },
   {
    "duration": 238,
    "start_time": "2022-01-18T22:30:08.123Z"
   },
   {
    "duration": 492,
    "start_time": "2022-01-18T22:30:08.363Z"
   },
   {
    "duration": 849,
    "start_time": "2022-01-18T22:30:08.857Z"
   },
   {
    "duration": 68,
    "start_time": "2022-01-18T22:30:09.707Z"
   },
   {
    "duration": 344,
    "start_time": "2022-01-18T22:30:09.777Z"
   },
   {
    "duration": 261,
    "start_time": "2022-01-18T22:30:10.123Z"
   },
   {
    "duration": 23,
    "start_time": "2022-01-18T22:30:10.387Z"
   },
   {
    "duration": 38,
    "start_time": "2022-01-18T22:30:10.411Z"
   },
   {
    "duration": 22,
    "start_time": "2022-01-18T22:30:10.451Z"
   },
   {
    "duration": 11,
    "start_time": "2022-01-18T22:30:10.475Z"
   },
   {
    "duration": 11,
    "start_time": "2022-01-18T22:30:10.488Z"
   },
   {
    "duration": 1123,
    "start_time": "2022-01-19T05:08:13.558Z"
   },
   {
    "duration": 5,
    "start_time": "2022-01-19T05:08:14.683Z"
   },
   {
    "duration": 10,
    "start_time": "2022-01-19T05:08:14.690Z"
   },
   {
    "duration": 9,
    "start_time": "2022-01-19T05:08:14.701Z"
   },
   {
    "duration": 11,
    "start_time": "2022-01-19T05:08:14.712Z"
   },
   {
    "duration": 6,
    "start_time": "2022-01-19T05:08:14.725Z"
   },
   {
    "duration": 9,
    "start_time": "2022-01-19T05:08:14.732Z"
   },
   {
    "duration": 7,
    "start_time": "2022-01-19T05:08:14.743Z"
   },
   {
    "duration": 22,
    "start_time": "2022-01-19T05:08:14.752Z"
   },
   {
    "duration": 6,
    "start_time": "2022-01-19T05:08:14.776Z"
   },
   {
    "duration": 351,
    "start_time": "2022-01-19T05:08:14.783Z"
   },
   {
    "duration": 8,
    "start_time": "2022-01-19T05:08:15.136Z"
   },
   {
    "duration": 308,
    "start_time": "2022-01-19T05:08:15.146Z"
   },
   {
    "duration": 293,
    "start_time": "2022-01-19T05:08:15.456Z"
   },
   {
    "duration": 29,
    "start_time": "2022-01-19T05:08:15.751Z"
   },
   {
    "duration": 374,
    "start_time": "2022-01-19T05:08:15.781Z"
   },
   {
    "duration": 199,
    "start_time": "2022-01-19T05:08:41.508Z"
   },
   {
    "duration": 257,
    "start_time": "2022-01-19T05:14:07.808Z"
   },
   {
    "duration": 202,
    "start_time": "2022-01-19T05:18:37.420Z"
   },
   {
    "duration": 200,
    "start_time": "2022-01-19T05:18:53.934Z"
   },
   {
    "duration": 53,
    "start_time": "2022-01-19T05:19:24.017Z"
   },
   {
    "duration": 5,
    "start_time": "2022-01-19T05:19:24.071Z"
   },
   {
    "duration": 7,
    "start_time": "2022-01-19T05:19:24.078Z"
   },
   {
    "duration": 6,
    "start_time": "2022-01-19T05:19:24.087Z"
   },
   {
    "duration": 12,
    "start_time": "2022-01-19T05:19:24.094Z"
   },
   {
    "duration": 5,
    "start_time": "2022-01-19T05:19:24.126Z"
   },
   {
    "duration": 7,
    "start_time": "2022-01-19T05:19:24.133Z"
   },
   {
    "duration": 8,
    "start_time": "2022-01-19T05:19:24.142Z"
   },
   {
    "duration": 22,
    "start_time": "2022-01-19T05:19:24.152Z"
   },
   {
    "duration": 5,
    "start_time": "2022-01-19T05:19:24.176Z"
   },
   {
    "duration": 371,
    "start_time": "2022-01-19T05:19:24.182Z"
   },
   {
    "duration": 8,
    "start_time": "2022-01-19T05:19:24.555Z"
   },
   {
    "duration": 303,
    "start_time": "2022-01-19T05:19:24.565Z"
   },
   {
    "duration": 300,
    "start_time": "2022-01-19T05:19:24.870Z"
   },
   {
    "duration": 32,
    "start_time": "2022-01-19T05:19:25.172Z"
   },
   {
    "duration": 369,
    "start_time": "2022-01-19T05:19:25.206Z"
   },
   {
    "duration": 234,
    "start_time": "2022-01-19T05:19:25.577Z"
   },
   {
    "duration": 416,
    "start_time": "2022-01-19T05:19:25.813Z"
   },
   {
    "duration": 797,
    "start_time": "2022-01-19T05:19:26.230Z"
   },
   {
    "duration": 58,
    "start_time": "2022-01-19T05:19:27.029Z"
   },
   {
    "duration": 333,
    "start_time": "2022-01-19T05:19:27.088Z"
   },
   {
    "duration": 234,
    "start_time": "2022-01-19T05:19:27.422Z"
   },
   {
    "duration": 208,
    "start_time": "2022-01-19T05:20:33.313Z"
   },
   {
    "duration": 198,
    "start_time": "2022-01-19T05:20:52.862Z"
   },
   {
    "duration": 197,
    "start_time": "2022-01-19T05:21:08.166Z"
   },
   {
    "duration": 214,
    "start_time": "2022-01-19T05:22:50.726Z"
   },
   {
    "duration": 265,
    "start_time": "2022-01-19T05:23:39.241Z"
   },
   {
    "duration": 215,
    "start_time": "2022-01-19T05:25:19.215Z"
   },
   {
    "duration": 332,
    "start_time": "2022-01-19T05:27:28.886Z"
   },
   {
    "duration": 53,
    "start_time": "2022-01-19T05:28:14.176Z"
   },
   {
    "duration": 4,
    "start_time": "2022-01-19T05:28:14.231Z"
   },
   {
    "duration": 21,
    "start_time": "2022-01-19T05:28:14.236Z"
   },
   {
    "duration": 11,
    "start_time": "2022-01-19T05:28:14.258Z"
   },
   {
    "duration": 26,
    "start_time": "2022-01-19T05:28:14.270Z"
   },
   {
    "duration": 29,
    "start_time": "2022-01-19T05:28:14.297Z"
   },
   {
    "duration": 25,
    "start_time": "2022-01-19T05:28:14.327Z"
   },
   {
    "duration": 23,
    "start_time": "2022-01-19T05:28:14.354Z"
   },
   {
    "duration": 40,
    "start_time": "2022-01-19T05:28:14.378Z"
   },
   {
    "duration": 11,
    "start_time": "2022-01-19T05:28:14.420Z"
   },
   {
    "duration": 341,
    "start_time": "2022-01-19T05:28:14.432Z"
   },
   {
    "duration": 7,
    "start_time": "2022-01-19T05:28:14.775Z"
   },
   {
    "duration": 314,
    "start_time": "2022-01-19T05:28:14.784Z"
   },
   {
    "duration": 295,
    "start_time": "2022-01-19T05:28:15.100Z"
   },
   {
    "duration": 38,
    "start_time": "2022-01-19T05:28:15.397Z"
   },
   {
    "duration": 338,
    "start_time": "2022-01-19T05:28:15.437Z"
   },
   {
    "duration": 211,
    "start_time": "2022-01-19T05:28:15.777Z"
   },
   {
    "duration": 404,
    "start_time": "2022-01-19T05:28:15.989Z"
   },
   {
    "duration": 51,
    "start_time": "2022-01-19T05:30:11.756Z"
   },
   {
    "duration": 4,
    "start_time": "2022-01-19T05:30:11.809Z"
   },
   {
    "duration": 4,
    "start_time": "2022-01-19T05:30:11.815Z"
   },
   {
    "duration": 6,
    "start_time": "2022-01-19T05:30:11.820Z"
   },
   {
    "duration": 9,
    "start_time": "2022-01-19T05:30:11.828Z"
   },
   {
    "duration": 5,
    "start_time": "2022-01-19T05:30:11.838Z"
   },
   {
    "duration": 5,
    "start_time": "2022-01-19T05:30:11.845Z"
   },
   {
    "duration": 6,
    "start_time": "2022-01-19T05:30:11.852Z"
   },
   {
    "duration": 19,
    "start_time": "2022-01-19T05:30:11.859Z"
   },
   {
    "duration": 4,
    "start_time": "2022-01-19T05:30:11.879Z"
   },
   {
    "duration": 354,
    "start_time": "2022-01-19T05:30:11.884Z"
   },
   {
    "duration": 8,
    "start_time": "2022-01-19T05:30:12.239Z"
   },
   {
    "duration": 318,
    "start_time": "2022-01-19T05:30:12.248Z"
   },
   {
    "duration": 297,
    "start_time": "2022-01-19T05:30:12.568Z"
   },
   {
    "duration": 30,
    "start_time": "2022-01-19T05:30:12.867Z"
   },
   {
    "duration": 367,
    "start_time": "2022-01-19T05:30:12.899Z"
   },
   {
    "duration": 207,
    "start_time": "2022-01-19T05:30:13.268Z"
   },
   {
    "duration": 343,
    "start_time": "2022-01-19T05:30:13.477Z"
   },
   {
    "duration": 199,
    "start_time": "2022-01-19T07:58:08.499Z"
   },
   {
    "duration": 279,
    "start_time": "2022-01-19T07:59:56.344Z"
   },
   {
    "duration": 278,
    "start_time": "2022-01-19T08:01:04.043Z"
   },
   {
    "duration": 207,
    "start_time": "2022-01-19T11:29:37.904Z"
   },
   {
    "duration": 202,
    "start_time": "2022-01-19T11:30:00.880Z"
   },
   {
    "duration": 203,
    "start_time": "2022-01-19T11:32:20.710Z"
   },
   {
    "duration": 198,
    "start_time": "2022-01-19T11:46:51.335Z"
   },
   {
    "duration": 51,
    "start_time": "2022-01-19T11:54:10.473Z"
   },
   {
    "duration": 4,
    "start_time": "2022-01-19T11:54:10.526Z"
   },
   {
    "duration": 4,
    "start_time": "2022-01-19T11:54:10.532Z"
   },
   {
    "duration": 7,
    "start_time": "2022-01-19T11:54:10.538Z"
   },
   {
    "duration": 9,
    "start_time": "2022-01-19T11:54:10.546Z"
   },
   {
    "duration": 9,
    "start_time": "2022-01-19T11:54:10.557Z"
   },
   {
    "duration": 15,
    "start_time": "2022-01-19T11:54:10.567Z"
   },
   {
    "duration": 19,
    "start_time": "2022-01-19T11:54:10.585Z"
   },
   {
    "duration": 27,
    "start_time": "2022-01-19T11:54:10.606Z"
   },
   {
    "duration": 5,
    "start_time": "2022-01-19T11:54:10.635Z"
   },
   {
    "duration": 380,
    "start_time": "2022-01-19T11:54:10.642Z"
   },
   {
    "duration": 7,
    "start_time": "2022-01-19T11:54:11.027Z"
   },
   {
    "duration": 303,
    "start_time": "2022-01-19T11:54:11.036Z"
   },
   {
    "duration": 292,
    "start_time": "2022-01-19T11:54:11.341Z"
   },
   {
    "duration": 30,
    "start_time": "2022-01-19T11:54:11.634Z"
   },
   {
    "duration": 434,
    "start_time": "2022-01-19T11:54:11.666Z"
   },
   {
    "duration": 209,
    "start_time": "2022-01-19T11:54:12.102Z"
   },
   {
    "duration": 349,
    "start_time": "2022-01-19T11:54:12.312Z"
   },
   {
    "duration": 773,
    "start_time": "2022-01-19T11:54:12.663Z"
   },
   {
    "duration": 56,
    "start_time": "2022-01-19T11:54:13.438Z"
   },
   {
    "duration": 320,
    "start_time": "2022-01-19T11:54:13.496Z"
   },
   {
    "duration": 243,
    "start_time": "2022-01-19T11:54:13.818Z"
   },
   {
    "duration": 20,
    "start_time": "2022-01-19T11:54:14.064Z"
   },
   {
    "duration": 24,
    "start_time": "2022-01-19T11:54:14.085Z"
   },
   {
    "duration": 53,
    "start_time": "2022-01-19T11:54:14.110Z"
   },
   {
    "duration": 22,
    "start_time": "2022-01-19T11:54:14.164Z"
   },
   {
    "duration": 31,
    "start_time": "2022-01-19T11:54:14.187Z"
   },
   {
    "duration": 1114,
    "start_time": "2022-01-19T16:37:21.425Z"
   },
   {
    "duration": 4,
    "start_time": "2022-01-19T16:37:22.541Z"
   },
   {
    "duration": 4,
    "start_time": "2022-01-19T16:37:22.547Z"
   },
   {
    "duration": 5,
    "start_time": "2022-01-19T16:37:22.552Z"
   },
   {
    "duration": 8,
    "start_time": "2022-01-19T16:37:22.559Z"
   },
   {
    "duration": 6,
    "start_time": "2022-01-19T16:37:22.568Z"
   },
   {
    "duration": 7,
    "start_time": "2022-01-19T16:37:22.576Z"
   },
   {
    "duration": 7,
    "start_time": "2022-01-19T16:37:22.585Z"
   },
   {
    "duration": 21,
    "start_time": "2022-01-19T16:37:22.593Z"
   },
   {
    "duration": 4,
    "start_time": "2022-01-19T16:37:22.616Z"
   },
   {
    "duration": 356,
    "start_time": "2022-01-19T16:37:22.621Z"
   },
   {
    "duration": 6,
    "start_time": "2022-01-19T16:37:22.979Z"
   },
   {
    "duration": 308,
    "start_time": "2022-01-19T16:37:22.987Z"
   },
   {
    "duration": 301,
    "start_time": "2022-01-19T16:37:23.297Z"
   },
   {
    "duration": 32,
    "start_time": "2022-01-19T16:37:23.599Z"
   },
   {
    "duration": 374,
    "start_time": "2022-01-19T16:37:23.633Z"
   },
   {
    "duration": 218,
    "start_time": "2022-01-19T16:37:24.009Z"
   },
   {
    "duration": 412,
    "start_time": "2022-01-19T16:37:24.229Z"
   },
   {
    "duration": 777,
    "start_time": "2022-01-19T16:37:24.642Z"
   },
   {
    "duration": 68,
    "start_time": "2022-01-19T16:37:25.421Z"
   },
   {
    "duration": 335,
    "start_time": "2022-01-19T16:37:25.490Z"
   },
   {
    "duration": 257,
    "start_time": "2022-01-19T16:37:25.827Z"
   },
   {
    "duration": 20,
    "start_time": "2022-01-19T16:37:26.087Z"
   },
   {
    "duration": 19,
    "start_time": "2022-01-19T16:37:26.109Z"
   },
   {
    "duration": 19,
    "start_time": "2022-01-19T16:37:26.129Z"
   },
   {
    "duration": 11,
    "start_time": "2022-01-19T16:37:26.172Z"
   },
   {
    "duration": 12,
    "start_time": "2022-01-19T16:37:26.184Z"
   },
   {
    "duration": 21,
    "start_time": "2022-01-19T16:39:52.381Z"
   },
   {
    "duration": 20,
    "start_time": "2022-01-19T16:40:22.841Z"
   },
   {
    "duration": 16,
    "start_time": "2022-01-19T16:40:53.742Z"
   },
   {
    "duration": 1193,
    "start_time": "2022-01-19T17:06:47.709Z"
   },
   {
    "duration": 7,
    "start_time": "2022-01-19T17:06:48.904Z"
   },
   {
    "duration": 3,
    "start_time": "2022-01-19T17:06:48.914Z"
   },
   {
    "duration": 6,
    "start_time": "2022-01-19T17:06:48.919Z"
   },
   {
    "duration": 6,
    "start_time": "2022-01-19T17:06:48.926Z"
   },
   {
    "duration": 4,
    "start_time": "2022-01-19T17:06:48.934Z"
   },
   {
    "duration": 33,
    "start_time": "2022-01-19T17:06:48.940Z"
   },
   {
    "duration": 6,
    "start_time": "2022-01-19T17:06:48.976Z"
   },
   {
    "duration": 24,
    "start_time": "2022-01-19T17:06:48.984Z"
   },
   {
    "duration": 8,
    "start_time": "2022-01-19T17:06:49.011Z"
   },
   {
    "duration": 399,
    "start_time": "2022-01-19T17:06:49.021Z"
   },
   {
    "duration": 7,
    "start_time": "2022-01-19T17:06:49.421Z"
   },
   {
    "duration": 458,
    "start_time": "2022-01-19T17:06:49.429Z"
   },
   {
    "duration": 354,
    "start_time": "2022-01-19T17:06:49.889Z"
   },
   {
    "duration": 49,
    "start_time": "2022-01-19T17:06:50.245Z"
   },
   {
    "duration": 406,
    "start_time": "2022-01-19T17:06:50.297Z"
   },
   {
    "duration": 239,
    "start_time": "2022-01-19T17:06:50.705Z"
   },
   {
    "duration": 490,
    "start_time": "2022-01-19T17:06:50.946Z"
   },
   {
    "duration": 854,
    "start_time": "2022-01-19T17:06:51.438Z"
   },
   {
    "duration": 81,
    "start_time": "2022-01-19T17:06:52.294Z"
   },
   {
    "duration": 427,
    "start_time": "2022-01-19T17:06:52.377Z"
   },
   {
    "duration": 342,
    "start_time": "2022-01-19T17:06:52.806Z"
   },
   {
    "duration": 31,
    "start_time": "2022-01-19T17:06:53.151Z"
   },
   {
    "duration": 28,
    "start_time": "2022-01-19T17:06:53.184Z"
   },
   {
    "duration": 21,
    "start_time": "2022-01-19T17:06:53.214Z"
   },
   {
    "duration": 40,
    "start_time": "2022-01-19T17:06:53.237Z"
   },
   {
    "duration": 14,
    "start_time": "2022-01-19T17:06:53.279Z"
   }
  ],
  "kernelspec": {
   "display_name": "Python 3 (ipykernel)",
   "language": "python",
   "name": "python3"
  },
  "language_info": {
   "codemirror_mode": {
    "name": "ipython",
    "version": 3
   },
   "file_extension": ".py",
   "mimetype": "text/x-python",
   "name": "python",
   "nbconvert_exporter": "python",
   "pygments_lexer": "ipython3",
   "version": "3.9.5"
  },
  "toc": {
   "base_numbering": 1,
   "nav_menu": {},
   "number_sections": true,
   "sideBar": true,
   "skip_h1_title": true,
   "title_cell": "Содержание",
   "title_sidebar": "Contents",
   "toc_cell": true,
   "toc_position": {},
   "toc_section_display": true,
   "toc_window_display": false
  }
 },
 "nbformat": 4,
 "nbformat_minor": 2
}
